{
 "cells": [
  {
   "cell_type": "markdown",
   "metadata": {},
   "source": [
    "\n",
    "# Imports, Cleaning and Mundging\n"
   ]
  },
  {
   "cell_type": "code",
   "execution_count": 1,
   "metadata": {},
   "outputs": [
    {
     "name": "stderr",
     "output_type": "stream",
     "text": [
      "/Users/jakerattner/anaconda3/lib/python3.6/site-packages/statsmodels/compat/pandas.py:56: FutureWarning: The pandas.core.datetools module is deprecated and will be removed in a future version. Please use the pandas.tseries module instead.\n",
      "  from pandas.core import datetools\n"
     ]
    }
   ],
   "source": [
    "import pandas as pd\n",
    "import dateutil\n",
    "import numpy as np\n",
    "import sklearn.metrics as metrics\n",
    "import sklearn.linear_model as linear_model\n",
    "import statsmodels.api as sm\n",
    "from IPython.core.interactiveshell import InteractiveShell\n",
    "InteractiveShell.ast_node_interactivity = \"all\"\n",
    "import seaborn as sns\n",
    "import matplotlib.pyplot as plt\n",
    "from scipy import stats\n",
    "from sklearn import datasets, linear_model\n",
    "from sklearn.model_selection import train_test_split\n",
    "from sklearn.linear_model import Lasso\n",
    "\n",
    "%config InlineBackend.figure_format = 'retina'\n",
    "%matplotlib inline\n",
    "\n",
    "plt.style.use('fivethirtyeight')"
   ]
  },
  {
   "cell_type": "code",
   "execution_count": 3,
   "metadata": {
    "scrolled": true
   },
   "outputs": [
    {
     "ename": "FileNotFoundError",
     "evalue": "File b'C:\\\\Users\\\\Jake\\\\Documents\\\\ga_home\\\\project-2\\\\code/Iowa_Liquor_sales_sample_10pct.csv' does not exist",
     "output_type": "error",
     "traceback": [
      "\u001b[0;31m---------------------------------------------------------------------------\u001b[0m",
      "\u001b[0;31mFileNotFoundError\u001b[0m                         Traceback (most recent call last)",
      "\u001b[0;32m<ipython-input-3-cd945ebd8553>\u001b[0m in \u001b[0;36m<module>\u001b[0;34m()\u001b[0m\n\u001b[0;32m----> 1\u001b[0;31m \u001b[0mdf\u001b[0m \u001b[0;34m=\u001b[0m \u001b[0mpd\u001b[0m\u001b[0;34m.\u001b[0m\u001b[0mread_csv\u001b[0m\u001b[0;34m(\u001b[0m\u001b[0;34m'C:\\\\Users\\\\Jake\\\\Documents\\\\ga_home\\\\project-2\\\\code/Iowa_Liquor_sales_sample_10pct.csv'\u001b[0m\u001b[0;34m)\u001b[0m\u001b[0;34m\u001b[0m\u001b[0m\n\u001b[0m",
      "\u001b[0;32m~/anaconda3/lib/python3.6/site-packages/pandas/io/parsers.py\u001b[0m in \u001b[0;36mparser_f\u001b[0;34m(filepath_or_buffer, sep, delimiter, header, names, index_col, usecols, squeeze, prefix, mangle_dupe_cols, dtype, engine, converters, true_values, false_values, skipinitialspace, skiprows, nrows, na_values, keep_default_na, na_filter, verbose, skip_blank_lines, parse_dates, infer_datetime_format, keep_date_col, date_parser, dayfirst, iterator, chunksize, compression, thousands, decimal, lineterminator, quotechar, quoting, escapechar, comment, encoding, dialect, tupleize_cols, error_bad_lines, warn_bad_lines, skipfooter, skip_footer, doublequote, delim_whitespace, as_recarray, compact_ints, use_unsigned, low_memory, buffer_lines, memory_map, float_precision)\u001b[0m\n\u001b[1;32m    653\u001b[0m                     skip_blank_lines=skip_blank_lines)\n\u001b[1;32m    654\u001b[0m \u001b[0;34m\u001b[0m\u001b[0m\n\u001b[0;32m--> 655\u001b[0;31m         \u001b[0;32mreturn\u001b[0m \u001b[0m_read\u001b[0m\u001b[0;34m(\u001b[0m\u001b[0mfilepath_or_buffer\u001b[0m\u001b[0;34m,\u001b[0m \u001b[0mkwds\u001b[0m\u001b[0;34m)\u001b[0m\u001b[0;34m\u001b[0m\u001b[0m\n\u001b[0m\u001b[1;32m    656\u001b[0m \u001b[0;34m\u001b[0m\u001b[0m\n\u001b[1;32m    657\u001b[0m     \u001b[0mparser_f\u001b[0m\u001b[0;34m.\u001b[0m\u001b[0m__name__\u001b[0m \u001b[0;34m=\u001b[0m \u001b[0mname\u001b[0m\u001b[0;34m\u001b[0m\u001b[0m\n",
      "\u001b[0;32m~/anaconda3/lib/python3.6/site-packages/pandas/io/parsers.py\u001b[0m in \u001b[0;36m_read\u001b[0;34m(filepath_or_buffer, kwds)\u001b[0m\n\u001b[1;32m    403\u001b[0m \u001b[0;34m\u001b[0m\u001b[0m\n\u001b[1;32m    404\u001b[0m     \u001b[0;31m# Create the parser.\u001b[0m\u001b[0;34m\u001b[0m\u001b[0;34m\u001b[0m\u001b[0m\n\u001b[0;32m--> 405\u001b[0;31m     \u001b[0mparser\u001b[0m \u001b[0;34m=\u001b[0m \u001b[0mTextFileReader\u001b[0m\u001b[0;34m(\u001b[0m\u001b[0mfilepath_or_buffer\u001b[0m\u001b[0;34m,\u001b[0m \u001b[0;34m**\u001b[0m\u001b[0mkwds\u001b[0m\u001b[0;34m)\u001b[0m\u001b[0;34m\u001b[0m\u001b[0m\n\u001b[0m\u001b[1;32m    406\u001b[0m \u001b[0;34m\u001b[0m\u001b[0m\n\u001b[1;32m    407\u001b[0m     \u001b[0;32mif\u001b[0m \u001b[0mchunksize\u001b[0m \u001b[0;32mor\u001b[0m \u001b[0miterator\u001b[0m\u001b[0;34m:\u001b[0m\u001b[0;34m\u001b[0m\u001b[0m\n",
      "\u001b[0;32m~/anaconda3/lib/python3.6/site-packages/pandas/io/parsers.py\u001b[0m in \u001b[0;36m__init__\u001b[0;34m(self, f, engine, **kwds)\u001b[0m\n\u001b[1;32m    762\u001b[0m             \u001b[0mself\u001b[0m\u001b[0;34m.\u001b[0m\u001b[0moptions\u001b[0m\u001b[0;34m[\u001b[0m\u001b[0;34m'has_index_names'\u001b[0m\u001b[0;34m]\u001b[0m \u001b[0;34m=\u001b[0m \u001b[0mkwds\u001b[0m\u001b[0;34m[\u001b[0m\u001b[0;34m'has_index_names'\u001b[0m\u001b[0;34m]\u001b[0m\u001b[0;34m\u001b[0m\u001b[0m\n\u001b[1;32m    763\u001b[0m \u001b[0;34m\u001b[0m\u001b[0m\n\u001b[0;32m--> 764\u001b[0;31m         \u001b[0mself\u001b[0m\u001b[0;34m.\u001b[0m\u001b[0m_make_engine\u001b[0m\u001b[0;34m(\u001b[0m\u001b[0mself\u001b[0m\u001b[0;34m.\u001b[0m\u001b[0mengine\u001b[0m\u001b[0;34m)\u001b[0m\u001b[0;34m\u001b[0m\u001b[0m\n\u001b[0m\u001b[1;32m    765\u001b[0m \u001b[0;34m\u001b[0m\u001b[0m\n\u001b[1;32m    766\u001b[0m     \u001b[0;32mdef\u001b[0m \u001b[0mclose\u001b[0m\u001b[0;34m(\u001b[0m\u001b[0mself\u001b[0m\u001b[0;34m)\u001b[0m\u001b[0;34m:\u001b[0m\u001b[0;34m\u001b[0m\u001b[0m\n",
      "\u001b[0;32m~/anaconda3/lib/python3.6/site-packages/pandas/io/parsers.py\u001b[0m in \u001b[0;36m_make_engine\u001b[0;34m(self, engine)\u001b[0m\n\u001b[1;32m    983\u001b[0m     \u001b[0;32mdef\u001b[0m \u001b[0m_make_engine\u001b[0m\u001b[0;34m(\u001b[0m\u001b[0mself\u001b[0m\u001b[0;34m,\u001b[0m \u001b[0mengine\u001b[0m\u001b[0;34m=\u001b[0m\u001b[0;34m'c'\u001b[0m\u001b[0;34m)\u001b[0m\u001b[0;34m:\u001b[0m\u001b[0;34m\u001b[0m\u001b[0m\n\u001b[1;32m    984\u001b[0m         \u001b[0;32mif\u001b[0m \u001b[0mengine\u001b[0m \u001b[0;34m==\u001b[0m \u001b[0;34m'c'\u001b[0m\u001b[0;34m:\u001b[0m\u001b[0;34m\u001b[0m\u001b[0m\n\u001b[0;32m--> 985\u001b[0;31m             \u001b[0mself\u001b[0m\u001b[0;34m.\u001b[0m\u001b[0m_engine\u001b[0m \u001b[0;34m=\u001b[0m \u001b[0mCParserWrapper\u001b[0m\u001b[0;34m(\u001b[0m\u001b[0mself\u001b[0m\u001b[0;34m.\u001b[0m\u001b[0mf\u001b[0m\u001b[0;34m,\u001b[0m \u001b[0;34m**\u001b[0m\u001b[0mself\u001b[0m\u001b[0;34m.\u001b[0m\u001b[0moptions\u001b[0m\u001b[0;34m)\u001b[0m\u001b[0;34m\u001b[0m\u001b[0m\n\u001b[0m\u001b[1;32m    986\u001b[0m         \u001b[0;32melse\u001b[0m\u001b[0;34m:\u001b[0m\u001b[0;34m\u001b[0m\u001b[0m\n\u001b[1;32m    987\u001b[0m             \u001b[0;32mif\u001b[0m \u001b[0mengine\u001b[0m \u001b[0;34m==\u001b[0m \u001b[0;34m'python'\u001b[0m\u001b[0;34m:\u001b[0m\u001b[0;34m\u001b[0m\u001b[0m\n",
      "\u001b[0;32m~/anaconda3/lib/python3.6/site-packages/pandas/io/parsers.py\u001b[0m in \u001b[0;36m__init__\u001b[0;34m(self, src, **kwds)\u001b[0m\n\u001b[1;32m   1603\u001b[0m         \u001b[0mkwds\u001b[0m\u001b[0;34m[\u001b[0m\u001b[0;34m'allow_leading_cols'\u001b[0m\u001b[0;34m]\u001b[0m \u001b[0;34m=\u001b[0m \u001b[0mself\u001b[0m\u001b[0;34m.\u001b[0m\u001b[0mindex_col\u001b[0m \u001b[0;32mis\u001b[0m \u001b[0;32mnot\u001b[0m \u001b[0;32mFalse\u001b[0m\u001b[0;34m\u001b[0m\u001b[0m\n\u001b[1;32m   1604\u001b[0m \u001b[0;34m\u001b[0m\u001b[0m\n\u001b[0;32m-> 1605\u001b[0;31m         \u001b[0mself\u001b[0m\u001b[0;34m.\u001b[0m\u001b[0m_reader\u001b[0m \u001b[0;34m=\u001b[0m \u001b[0mparsers\u001b[0m\u001b[0;34m.\u001b[0m\u001b[0mTextReader\u001b[0m\u001b[0;34m(\u001b[0m\u001b[0msrc\u001b[0m\u001b[0;34m,\u001b[0m \u001b[0;34m**\u001b[0m\u001b[0mkwds\u001b[0m\u001b[0;34m)\u001b[0m\u001b[0;34m\u001b[0m\u001b[0m\n\u001b[0m\u001b[1;32m   1606\u001b[0m \u001b[0;34m\u001b[0m\u001b[0m\n\u001b[1;32m   1607\u001b[0m         \u001b[0;31m# XXX\u001b[0m\u001b[0;34m\u001b[0m\u001b[0;34m\u001b[0m\u001b[0m\n",
      "\u001b[0;32mpandas/_libs/parsers.pyx\u001b[0m in \u001b[0;36mpandas._libs.parsers.TextReader.__cinit__ (pandas/_libs/parsers.c:4209)\u001b[0;34m()\u001b[0m\n",
      "\u001b[0;32mpandas/_libs/parsers.pyx\u001b[0m in \u001b[0;36mpandas._libs.parsers.TextReader._setup_parser_source (pandas/_libs/parsers.c:8873)\u001b[0;34m()\u001b[0m\n",
      "\u001b[0;31mFileNotFoundError\u001b[0m: File b'C:\\\\Users\\\\Jake\\\\Documents\\\\ga_home\\\\project-2\\\\code/Iowa_Liquor_sales_sample_10pct.csv' does not exist"
     ]
    }
   ],
   "source": [
    "df = pd.read_csv('C:\\\\Users\\\\Jake\\\\Documents\\\\ga_home\\\\project-2\\\\code/Iowa_Liquor_sales_sample_10pct.csv')"
   ]
  },
  {
   "cell_type": "code",
   "execution_count": null,
   "metadata": {
    "collapsed": true
   },
   "outputs": [],
   "source": [
    "df['year'] = pd.DatetimeIndex(df['Date']).year"
   ]
  },
  {
   "cell_type": "code",
   "execution_count": null,
   "metadata": {
    "collapsed": true
   },
   "outputs": [],
   "source": [
    "df['month'] = pd.DatetimeIndex(df['Date']).month"
   ]
  },
  {
   "cell_type": "code",
   "execution_count": null,
   "metadata": {
    "collapsed": true
   },
   "outputs": [],
   "source": [
    "# remove the dollar signs and the commas from the curreny\n",
    "df['State Bottle Cost'] = df['State Bottle Cost'].str.replace(',','')\n",
    "df['State Bottle Cost'] = df['State Bottle Cost'].str.replace('$','')\n",
    "df['State Bottle Retail'] = df['State Bottle Retail'].str.replace(',','')\n",
    "df['State Bottle Retail'] = df['State Bottle Retail'].str.replace('$','')\n",
    "df['Sale (Dollars)'] = df['Sale (Dollars)'].str.replace(',','')\n",
    "df['Sale (Dollars)'] = df['Sale (Dollars)'].str.replace('$','')\n",
    "df['State Bottle Cost'] = df['State Bottle Cost'].astype('float')\n",
    "df['State Bottle Retail'] = df['State Bottle Retail'].astype('float')\n",
    "df['Sale (Dollars)'] = df['Sale (Dollars)'].astype('float')"
   ]
  },
  {
   "cell_type": "code",
   "execution_count": null,
   "metadata": {
    "collapsed": true
   },
   "outputs": [],
   "source": [
    "df['Sale (Dollars)'] = df['Sale (Dollars)'].astype('float') "
   ]
  },
  {
   "cell_type": "code",
   "execution_count": 409,
   "metadata": {},
   "outputs": [
    {
     "data": {
      "text/plain": [
       "'\\nyearly liquor sales per store using. \\nadd up the transactions for each year, and store sales in 2015 \\nspecifically will be used later as your target variable.\\n'"
      ]
     },
     "execution_count": 409,
     "metadata": {},
     "output_type": "execute_result"
    }
   ],
   "source": [
    "\"\"\"\n",
    "yearly liquor sales per store using. \n",
    "add up the transactions for each year, and store sales in 2015 \n",
    "specifically will be used later as your target variable.\n",
    "\"\"\""
   ]
  },
  {
   "cell_type": "code",
   "execution_count": 410,
   "metadata": {
    "collapsed": true
   },
   "outputs": [],
   "source": [
    "df_2015 = df.loc[df['year'] == 2015]\n",
    "#df_2015.dtypes"
   ]
  },
  {
   "cell_type": "code",
   "execution_count": 411,
   "metadata": {
    "collapsed": true
   },
   "outputs": [],
   "source": [
    "df_2016 = df.loc[df['year'] == 2016]\n",
    "#df_2016.dtypes"
   ]
  },
  {
   "cell_type": "code",
   "execution_count": 412,
   "metadata": {
    "collapsed": true
   },
   "outputs": [
    {
     "data": {
      "text/html": [
       "<div>\n",
       "<style>\n",
       "    .dataframe thead tr:only-child th {\n",
       "        text-align: right;\n",
       "    }\n",
       "\n",
       "    .dataframe thead th {\n",
       "        text-align: left;\n",
       "    }\n",
       "\n",
       "    .dataframe tbody tr th {\n",
       "        vertical-align: top;\n",
       "    }\n",
       "</style>\n",
       "<table border=\"1\" class=\"dataframe\">\n",
       "  <thead>\n",
       "    <tr style=\"text-align: right;\">\n",
       "      <th></th>\n",
       "      <th></th>\n",
       "      <th>Sale (Dollars)</th>\n",
       "    </tr>\n",
       "    <tr>\n",
       "      <th>Store Number</th>\n",
       "      <th>year</th>\n",
       "      <th></th>\n",
       "    </tr>\n",
       "  </thead>\n",
       "  <tbody>\n",
       "    <tr>\n",
       "      <th rowspan=\"2\" valign=\"top\">2106</th>\n",
       "      <th>2015</th>\n",
       "      <td>146326.22</td>\n",
       "    </tr>\n",
       "    <tr>\n",
       "      <th>2016</th>\n",
       "      <td>30523.75</td>\n",
       "    </tr>\n",
       "    <tr>\n",
       "      <th rowspan=\"2\" valign=\"top\">2113</th>\n",
       "      <th>2015</th>\n",
       "      <td>9310.22</td>\n",
       "    </tr>\n",
       "    <tr>\n",
       "      <th>2016</th>\n",
       "      <td>2065.90</td>\n",
       "    </tr>\n",
       "    <tr>\n",
       "      <th rowspan=\"2\" valign=\"top\">2130</th>\n",
       "      <th>2015</th>\n",
       "      <td>111871.43</td>\n",
       "    </tr>\n",
       "    <tr>\n",
       "      <th>2016</th>\n",
       "      <td>27856.11</td>\n",
       "    </tr>\n",
       "    <tr>\n",
       "      <th rowspan=\"2\" valign=\"top\">2152</th>\n",
       "      <th>2015</th>\n",
       "      <td>7721.08</td>\n",
       "    </tr>\n",
       "    <tr>\n",
       "      <th>2016</th>\n",
       "      <td>1376.43</td>\n",
       "    </tr>\n",
       "    <tr>\n",
       "      <th rowspan=\"2\" valign=\"top\">2178</th>\n",
       "      <th>2015</th>\n",
       "      <td>24324.18</td>\n",
       "    </tr>\n",
       "    <tr>\n",
       "      <th>2016</th>\n",
       "      <td>5588.50</td>\n",
       "    </tr>\n",
       "    <tr>\n",
       "      <th rowspan=\"2\" valign=\"top\">2190</th>\n",
       "      <th>2015</th>\n",
       "      <td>121689.06</td>\n",
       "    </tr>\n",
       "    <tr>\n",
       "      <th>2016</th>\n",
       "      <td>34515.69</td>\n",
       "    </tr>\n",
       "    <tr>\n",
       "      <th rowspan=\"2\" valign=\"top\">2191</th>\n",
       "      <th>2015</th>\n",
       "      <td>125093.49</td>\n",
       "    </tr>\n",
       "    <tr>\n",
       "      <th>2016</th>\n",
       "      <td>47338.20</td>\n",
       "    </tr>\n",
       "    <tr>\n",
       "      <th rowspan=\"2\" valign=\"top\">2200</th>\n",
       "      <th>2015</th>\n",
       "      <td>22811.55</td>\n",
       "    </tr>\n",
       "    <tr>\n",
       "      <th>2016</th>\n",
       "      <td>4174.87</td>\n",
       "    </tr>\n",
       "    <tr>\n",
       "      <th>2205</th>\n",
       "      <th>2015</th>\n",
       "      <td>24681.39</td>\n",
       "    </tr>\n",
       "    <tr>\n",
       "      <th rowspan=\"2\" valign=\"top\">2228</th>\n",
       "      <th>2015</th>\n",
       "      <td>17462.07</td>\n",
       "    </tr>\n",
       "    <tr>\n",
       "      <th>2016</th>\n",
       "      <td>3086.38</td>\n",
       "    </tr>\n",
       "    <tr>\n",
       "      <th rowspan=\"2\" valign=\"top\">2233</th>\n",
       "      <th>2015</th>\n",
       "      <td>29553.34</td>\n",
       "    </tr>\n",
       "    <tr>\n",
       "      <th>2016</th>\n",
       "      <td>6522.65</td>\n",
       "    </tr>\n",
       "    <tr>\n",
       "      <th rowspan=\"2\" valign=\"top\">2238</th>\n",
       "      <th>2015</th>\n",
       "      <td>11762.56</td>\n",
       "    </tr>\n",
       "    <tr>\n",
       "      <th>2016</th>\n",
       "      <td>4197.66</td>\n",
       "    </tr>\n",
       "    <tr>\n",
       "      <th rowspan=\"2\" valign=\"top\">2248</th>\n",
       "      <th>2015</th>\n",
       "      <td>67682.06</td>\n",
       "    </tr>\n",
       "    <tr>\n",
       "      <th>2016</th>\n",
       "      <td>14524.18</td>\n",
       "    </tr>\n",
       "    <tr>\n",
       "      <th rowspan=\"2\" valign=\"top\">2285</th>\n",
       "      <th>2015</th>\n",
       "      <td>76927.11</td>\n",
       "    </tr>\n",
       "    <tr>\n",
       "      <th>2016</th>\n",
       "      <td>12580.69</td>\n",
       "    </tr>\n",
       "    <tr>\n",
       "      <th rowspan=\"2\" valign=\"top\">2290</th>\n",
       "      <th>2015</th>\n",
       "      <td>56514.43</td>\n",
       "    </tr>\n",
       "    <tr>\n",
       "      <th>2016</th>\n",
       "      <td>12846.93</td>\n",
       "    </tr>\n",
       "    <tr>\n",
       "      <th>2327</th>\n",
       "      <th>2015</th>\n",
       "      <td>10245.14</td>\n",
       "    </tr>\n",
       "    <tr>\n",
       "      <th>...</th>\n",
       "      <th>...</th>\n",
       "      <td>...</td>\n",
       "    </tr>\n",
       "    <tr>\n",
       "      <th>5215</th>\n",
       "      <th>2016</th>\n",
       "      <td>2207.05</td>\n",
       "    </tr>\n",
       "    <tr>\n",
       "      <th>5216</th>\n",
       "      <th>2016</th>\n",
       "      <td>159.48</td>\n",
       "    </tr>\n",
       "    <tr>\n",
       "      <th>5217</th>\n",
       "      <th>2016</th>\n",
       "      <td>469.62</td>\n",
       "    </tr>\n",
       "    <tr>\n",
       "      <th>5218</th>\n",
       "      <th>2016</th>\n",
       "      <td>19.20</td>\n",
       "    </tr>\n",
       "    <tr>\n",
       "      <th>5220</th>\n",
       "      <th>2016</th>\n",
       "      <td>1516.17</td>\n",
       "    </tr>\n",
       "    <tr>\n",
       "      <th>5222</th>\n",
       "      <th>2016</th>\n",
       "      <td>9948.72</td>\n",
       "    </tr>\n",
       "    <tr>\n",
       "      <th>5223</th>\n",
       "      <th>2016</th>\n",
       "      <td>327.18</td>\n",
       "    </tr>\n",
       "    <tr>\n",
       "      <th>5224</th>\n",
       "      <th>2016</th>\n",
       "      <td>2595.98</td>\n",
       "    </tr>\n",
       "    <tr>\n",
       "      <th>5225</th>\n",
       "      <th>2016</th>\n",
       "      <td>745.65</td>\n",
       "    </tr>\n",
       "    <tr>\n",
       "      <th>5226</th>\n",
       "      <th>2016</th>\n",
       "      <td>1746.09</td>\n",
       "    </tr>\n",
       "    <tr>\n",
       "      <th>5227</th>\n",
       "      <th>2016</th>\n",
       "      <td>1717.53</td>\n",
       "    </tr>\n",
       "    <tr>\n",
       "      <th>5229</th>\n",
       "      <th>2016</th>\n",
       "      <td>510.66</td>\n",
       "    </tr>\n",
       "    <tr>\n",
       "      <th>5230</th>\n",
       "      <th>2016</th>\n",
       "      <td>3441.31</td>\n",
       "    </tr>\n",
       "    <tr>\n",
       "      <th>5232</th>\n",
       "      <th>2016</th>\n",
       "      <td>186.69</td>\n",
       "    </tr>\n",
       "    <tr>\n",
       "      <th>5233</th>\n",
       "      <th>2016</th>\n",
       "      <td>284.85</td>\n",
       "    </tr>\n",
       "    <tr>\n",
       "      <th>5234</th>\n",
       "      <th>2016</th>\n",
       "      <td>525.00</td>\n",
       "    </tr>\n",
       "    <tr>\n",
       "      <th>5236</th>\n",
       "      <th>2016</th>\n",
       "      <td>4257.62</td>\n",
       "    </tr>\n",
       "    <tr>\n",
       "      <th>5237</th>\n",
       "      <th>2016</th>\n",
       "      <td>1341.93</td>\n",
       "    </tr>\n",
       "    <tr>\n",
       "      <th>5240</th>\n",
       "      <th>2016</th>\n",
       "      <td>477.60</td>\n",
       "    </tr>\n",
       "    <tr>\n",
       "      <th>5247</th>\n",
       "      <th>2016</th>\n",
       "      <td>278.06</td>\n",
       "    </tr>\n",
       "    <tr>\n",
       "      <th rowspan=\"2\" valign=\"top\">9001</th>\n",
       "      <th>2015</th>\n",
       "      <td>28208.52</td>\n",
       "    </tr>\n",
       "    <tr>\n",
       "      <th>2016</th>\n",
       "      <td>708.24</td>\n",
       "    </tr>\n",
       "    <tr>\n",
       "      <th rowspan=\"2\" valign=\"top\">9002</th>\n",
       "      <th>2015</th>\n",
       "      <td>37700.52</td>\n",
       "    </tr>\n",
       "    <tr>\n",
       "      <th>2016</th>\n",
       "      <td>1382.64</td>\n",
       "    </tr>\n",
       "    <tr>\n",
       "      <th rowspan=\"2\" valign=\"top\">9010</th>\n",
       "      <th>2015</th>\n",
       "      <td>5757.96</td>\n",
       "    </tr>\n",
       "    <tr>\n",
       "      <th>2016</th>\n",
       "      <td>177.48</td>\n",
       "    </tr>\n",
       "    <tr>\n",
       "      <th rowspan=\"2\" valign=\"top\">9013</th>\n",
       "      <th>2015</th>\n",
       "      <td>2217.48</td>\n",
       "    </tr>\n",
       "    <tr>\n",
       "      <th>2016</th>\n",
       "      <td>361.56</td>\n",
       "    </tr>\n",
       "    <tr>\n",
       "      <th>9018</th>\n",
       "      <th>2015</th>\n",
       "      <td>6435.00</td>\n",
       "    </tr>\n",
       "    <tr>\n",
       "      <th>9023</th>\n",
       "      <th>2016</th>\n",
       "      <td>633.36</td>\n",
       "    </tr>\n",
       "  </tbody>\n",
       "</table>\n",
       "<p>2681 rows × 1 columns</p>\n",
       "</div>"
      ],
      "text/plain": [
       "                   Sale (Dollars)\n",
       "Store Number year                \n",
       "2106         2015       146326.22\n",
       "             2016        30523.75\n",
       "2113         2015         9310.22\n",
       "             2016         2065.90\n",
       "2130         2015       111871.43\n",
       "             2016        27856.11\n",
       "2152         2015         7721.08\n",
       "             2016         1376.43\n",
       "2178         2015        24324.18\n",
       "             2016         5588.50\n",
       "2190         2015       121689.06\n",
       "             2016        34515.69\n",
       "2191         2015       125093.49\n",
       "             2016        47338.20\n",
       "2200         2015        22811.55\n",
       "             2016         4174.87\n",
       "2205         2015        24681.39\n",
       "2228         2015        17462.07\n",
       "             2016         3086.38\n",
       "2233         2015        29553.34\n",
       "             2016         6522.65\n",
       "2238         2015        11762.56\n",
       "             2016         4197.66\n",
       "2248         2015        67682.06\n",
       "             2016        14524.18\n",
       "2285         2015        76927.11\n",
       "             2016        12580.69\n",
       "2290         2015        56514.43\n",
       "             2016        12846.93\n",
       "2327         2015        10245.14\n",
       "...                           ...\n",
       "5215         2016         2207.05\n",
       "5216         2016          159.48\n",
       "5217         2016          469.62\n",
       "5218         2016           19.20\n",
       "5220         2016         1516.17\n",
       "5222         2016         9948.72\n",
       "5223         2016          327.18\n",
       "5224         2016         2595.98\n",
       "5225         2016          745.65\n",
       "5226         2016         1746.09\n",
       "5227         2016         1717.53\n",
       "5229         2016          510.66\n",
       "5230         2016         3441.31\n",
       "5232         2016          186.69\n",
       "5233         2016          284.85\n",
       "5234         2016          525.00\n",
       "5236         2016         4257.62\n",
       "5237         2016         1341.93\n",
       "5240         2016          477.60\n",
       "5247         2016          278.06\n",
       "9001         2015        28208.52\n",
       "             2016          708.24\n",
       "9002         2015        37700.52\n",
       "             2016         1382.64\n",
       "9010         2015         5757.96\n",
       "             2016          177.48\n",
       "9013         2015         2217.48\n",
       "             2016          361.56\n",
       "9018         2015         6435.00\n",
       "9023         2016          633.36\n",
       "\n",
       "[2681 rows x 1 columns]"
      ]
     },
     "execution_count": 412,
     "metadata": {},
     "output_type": "execute_result"
    }
   ],
   "source": [
    "df.groupby(['Store Number','year',])['Sale (Dollars)', ].sum()"
   ]
  },
  {
   "cell_type": "code",
   "execution_count": 413,
   "metadata": {
    "collapsed": true
   },
   "outputs": [
    {
     "data": {
      "text/plain": [
       "<matplotlib.axes._subplots.AxesSubplot at 0x1e59bbfef28>"
      ]
     },
     "execution_count": 413,
     "metadata": {},
     "output_type": "execute_result"
    },
    {
     "data": {
      "image/png": "[encoded data removed]",
      "text/plain": [
       "<matplotlib.figure.Figure at 0x1e593b32780>"
      ]
     },
     "metadata": {
      "image/png": {
       "height": 344,
       "width": 456
      }
     },
     "output_type": "display_data"
    }
   ],
   "source": [
    "df.groupby(['year','month'])['Sale (Dollars)'].sum().plot(kind='bar') "
   ]
  },
  {
   "cell_type": "code",
   "execution_count": 414,
   "metadata": {
    "collapsed": true
   },
   "outputs": [
    {
     "data": {
      "text/plain": [
       "28527245.39000142"
      ]
     },
     "execution_count": 414,
     "metadata": {},
     "output_type": "execute_result"
    }
   ],
   "source": [
    "df_2015['Sale (Dollars)'].sum()"
   ]
  },
  {
   "cell_type": "code",
   "execution_count": 415,
   "metadata": {
    "collapsed": true
   },
   "outputs": [
    {
     "data": {
      "text/plain": [
       "<matplotlib.axes._subplots.AxesSubplot at 0x1e59cffe470>"
      ]
     },
     "execution_count": 415,
     "metadata": {},
     "output_type": "execute_result"
    },
    {
     "data": {
      "text/plain": [
       "County\n",
       "Polk             22.442442\n",
       "Linn              9.136272\n",
       "Scott             7.165671\n",
       "Johnson           6.029033\n",
       "Black Hawk        5.549376\n",
       "Pottawattamie     3.552279\n",
       "Woodbury          3.507471\n",
       "Dubuque           3.116281\n",
       "Story             3.110131\n",
       "Cerro Gordo       1.998306\n",
       "Dallas            1.755814\n",
       "Dickinson         1.365400\n",
       "Lee               1.355216\n",
       "Des Moines        1.351846\n",
       "Webster           1.265112\n",
       "Clinton           1.201095\n",
       "Muscatine         1.024900\n",
       "Marshall          0.971577\n",
       "Wapello           0.953387\n",
       "Carroll           0.943337\n",
       "Warren            0.873886\n",
       "Marion            0.689269\n",
       "Boone             0.650641\n",
       "Kossuth           0.645704\n",
       "Hardin            0.625914\n",
       "Buena Vista       0.609250\n",
       "Jasper            0.596169\n",
       "Bremer            0.587132\n",
       "Sioux             0.552154\n",
       "Clay              0.510451\n",
       "                   ...    \n",
       "Monona            0.188163\n",
       "Harrison          0.185190\n",
       "Franklin          0.184990\n",
       "Cedar             0.184350\n",
       "Humboldt          0.174408\n",
       "Adair             0.153352\n",
       "Mills             0.146746\n",
       "Mitchell          0.143392\n",
       "Chickasaw         0.136243\n",
       "Lucas             0.128888\n",
       "Pocahontas        0.126795\n",
       "Guthrie           0.109356\n",
       "Hancock           0.105966\n",
       "Grundy            0.104233\n",
       "Monroe            0.103034\n",
       "Calhoun           0.100173\n",
       "Worth             0.090550\n",
       "Butler            0.089446\n",
       "Louisa            0.088892\n",
       "Osceola           0.085731\n",
       "Van Buren         0.060432\n",
       "Audubon           0.057591\n",
       "Ringgold          0.054353\n",
       "Decatur           0.054087\n",
       "Keokuk            0.052154\n",
       "Taylor            0.041244\n",
       "Davis             0.039095\n",
       "Wayne             0.038637\n",
       "Adams             0.035914\n",
       "Fremont           0.009305\n",
       "Name: Sale (Dollars), Length: 99, dtype: float64"
      ]
     },
     "execution_count": 415,
     "metadata": {},
     "output_type": "execute_result"
    },
    {
     "data": {
      "image/png": "[encoded data removed]",
      "text/plain": [
       "<matplotlib.figure.Figure at 0x1e593d37b38>"
      ]
     },
     "metadata": {
      "image/png": {
       "height": 285,
       "width": 411
      }
     },
     "output_type": "display_data"
    }
   ],
   "source": [
    "counties = df_2015.groupby(['County'])['Sale (Dollars)'].sum()\n",
    "counties2 = (counties/ 28527245)*100\n",
    "counties2.sort_values(ascending=False).plot()\n",
    "counties2.sort_values(ascending=False)"
   ]
  },
  {
   "cell_type": "code",
   "execution_count": 416,
   "metadata": {
    "collapsed": true
   },
   "outputs": [
    {
     "data": {
      "text/plain": [
       "City\n",
       "DES MOINES         12.588554\n",
       "CEDAR RAPIDS        7.270610\n",
       "DAVENPORT           4.895978\n",
       "IOWA CITY           3.582239\n",
       "WATERLOO            3.476458\n",
       "WEST DES MOINES     3.367127\n",
       "SIOUX CITY          3.359850\n",
       "COUNCIL BLUFFS      3.312549\n",
       "AMES                2.847279\n",
       "DUBUQUE             2.799448\n",
       "ANKENY              2.094729\n",
       "BETTENDORF          1.986349\n",
       "CEDAR FALLS         1.871389\n",
       "CORALVILLE          1.853341\n",
       "WINDSOR HEIGHTS     1.825019\n",
       "MASON CITY          1.390441\n",
       "FORT DODGE          1.327344\n",
       "BURLINGTON          1.060860\n",
       "CLINTON             1.021843\n",
       "URBANDALE           1.004651\n",
       "MARSHALLTOWN        0.941394\n",
       "MUSCATINE           0.935584\n",
       "CARROLL             0.865418\n",
       "MARION              0.860310\n",
       "KEOKUK              0.859959\n",
       "ALTOONA             0.844907\n",
       "SPIRIT LAKE         0.714278\n",
       "MOUNT VERNON        0.692203\n",
       "OTTUMWA             0.678274\n",
       "CLEAR LAKE          0.580799\n",
       "                     ...    \n",
       "TREYNOR             0.006153\n",
       "ALTA                0.006069\n",
       "WALL LAKE           0.006004\n",
       "NEW SHARON          0.005805\n",
       "VAN METER           0.005797\n",
       "WELLSBURG           0.005506\n",
       "ROLFE               0.005491\n",
       "AURELIA             0.005268\n",
       "GILMORE CITY        0.005170\n",
       "KELLOG              0.005162\n",
       "CAMBRIDGE           0.004997\n",
       "SCRANTON            0.004805\n",
       "NORTH ENGLISH       0.004562\n",
       "WALFORD             0.004072\n",
       "SCHALLER            0.003703\n",
       "LATIMER             0.003621\n",
       "GOLDFIELD           0.003597\n",
       "VILLISCA            0.003577\n",
       "WHEATLAND           0.003134\n",
       "MELBOURNE           0.003120\n",
       "DANVILLE            0.002984\n",
       "LOVILIA             0.002848\n",
       "EVERLY              0.002010\n",
       "MINDEN              0.002009\n",
       "MERRILL             0.001865\n",
       "STANWOOD            0.001655\n",
       "GRISWOLD            0.001475\n",
       "DELHI               0.000788\n",
       "LOHRVILLE           0.000489\n",
       "ROBINS              0.000315\n",
       "Name: Sale (Dollars), Length: 380, dtype: float64"
      ]
     },
     "execution_count": 416,
     "metadata": {},
     "output_type": "execute_result"
    },
    {
     "data": {
      "image/png": "[encoded data removed]",
      "text/plain": [
       "<matplotlib.figure.Figure at 0x1e59f009f98>"
      ]
     },
     "metadata": {
      "image/png": {
       "height": 285,
       "width": 438
      }
     },
     "output_type": "display_data"
    }
   ],
   "source": [
    "cities = df_2015.groupby(['City'])['Sale (Dollars)'].sum()\n",
    "cities2 = (cities/ 28527245)*100\n",
    "plt = cities2.sort_values(ascending=False).plot(alpha=0.75, rot=0)\n",
    "cities2.sort_values(ascending=False)"
   ]
  },
  {
   "cell_type": "markdown",
   "metadata": {},
   "source": [
    "# Preparing and Creating Dummy Data from Categories\n"
   ]
  },
  {
   "cell_type": "code",
   "execution_count": null,
   "metadata": {
    "collapsed": true
   },
   "outputs": [],
   "source": []
  },
  {
   "cell_type": "code",
   "execution_count": 419,
   "metadata": {},
   "outputs": [
    {
     "ename": "AttributeError",
     "evalue": "'Series' object has no attribute 'Date'",
     "output_type": "error",
     "traceback": [
      "\u001b[1;31m---------------------------------------------------------------------------\u001b[0m",
      "\u001b[1;31mAttributeError\u001b[0m                            Traceback (most recent call last)",
      "\u001b[1;32m<ipython-input-419-276868156484>\u001b[0m in \u001b[0;36m<module>\u001b[1;34m()\u001b[0m\n\u001b[1;32m----> 1\u001b[1;33m \u001b[0mdf\u001b[0m \u001b[1;33m=\u001b[0m \u001b[0mdf\u001b[0m\u001b[1;33m.\u001b[0m\u001b[0mDate\u001b[0m\u001b[1;33m.\u001b[0m\u001b[0mstr\u001b[0m\u001b[1;33m.\u001b[0m\u001b[0mreplace\u001b[0m\u001b[1;33m(\u001b[0m\u001b[1;34m'/'\u001b[0m\u001b[1;33m,\u001b[0m \u001b[1;34m'-'\u001b[0m\u001b[1;33m)\u001b[0m\u001b[1;33m\u001b[0m\u001b[0m\n\u001b[0m\u001b[0;32m      2\u001b[0m \u001b[0mdf\u001b[0m\u001b[1;33m[\u001b[0m\u001b[1;34m'Date'\u001b[0m\u001b[1;33m]\u001b[0m \u001b[1;33m=\u001b[0m \u001b[0mpd\u001b[0m\u001b[1;33m.\u001b[0m\u001b[0mto_datetime\u001b[0m\u001b[1;33m(\u001b[0m\u001b[0mdf\u001b[0m\u001b[1;33m[\u001b[0m\u001b[1;34m'Date'\u001b[0m\u001b[1;33m]\u001b[0m\u001b[1;33m)\u001b[0m\u001b[1;33m\u001b[0m\u001b[0m\n\u001b[0;32m      3\u001b[0m \u001b[0mdf\u001b[0m\u001b[1;33m[\u001b[0m\u001b[1;34m'Q1'\u001b[0m\u001b[1;33m]\u001b[0m \u001b[1;33m=\u001b[0m \u001b[0mdf\u001b[0m\u001b[1;33m[\u001b[0m\u001b[1;34m\"Date\"\u001b[0m\u001b[1;33m]\u001b[0m\u001b[1;33m.\u001b[0m\u001b[0misin\u001b[0m\u001b[1;33m(\u001b[0m\u001b[0mpd\u001b[0m\u001b[1;33m.\u001b[0m\u001b[0mdate_range\u001b[0m\u001b[1;33m(\u001b[0m\u001b[1;34m\"2015-01-01\"\u001b[0m\u001b[1;33m,\u001b[0m \u001b[1;34m\"2015-03-31\"\u001b[0m\u001b[1;33m)\u001b[0m\u001b[1;33m)\u001b[0m\u001b[1;33m\u001b[0m\u001b[0m\n\u001b[0;32m      4\u001b[0m \u001b[0mdf\u001b[0m\u001b[1;33m[\u001b[0m\u001b[1;34m'Q2'\u001b[0m\u001b[1;33m]\u001b[0m \u001b[1;33m=\u001b[0m \u001b[0mdf\u001b[0m\u001b[1;33m[\u001b[0m\u001b[1;34m\"Date\"\u001b[0m\u001b[1;33m]\u001b[0m\u001b[1;33m.\u001b[0m\u001b[0misin\u001b[0m\u001b[1;33m(\u001b[0m\u001b[0mpd\u001b[0m\u001b[1;33m.\u001b[0m\u001b[0mdate_range\u001b[0m\u001b[1;33m(\u001b[0m\u001b[1;34m\"2015-04-01\"\u001b[0m\u001b[1;33m,\u001b[0m \u001b[1;34m\"2015-06-30\"\u001b[0m\u001b[1;33m)\u001b[0m\u001b[1;33m)\u001b[0m\u001b[1;33m\u001b[0m\u001b[0m\n\u001b[0;32m      5\u001b[0m \u001b[0mdf\u001b[0m\u001b[1;33m[\u001b[0m\u001b[1;34m'Q3'\u001b[0m\u001b[1;33m]\u001b[0m \u001b[1;33m=\u001b[0m \u001b[0mdf\u001b[0m\u001b[1;33m[\u001b[0m\u001b[1;34m\"Date\"\u001b[0m\u001b[1;33m]\u001b[0m\u001b[1;33m.\u001b[0m\u001b[0misin\u001b[0m\u001b[1;33m(\u001b[0m\u001b[0mpd\u001b[0m\u001b[1;33m.\u001b[0m\u001b[0mdate_range\u001b[0m\u001b[1;33m(\u001b[0m\u001b[1;34m\"2015-07-01\"\u001b[0m\u001b[1;33m,\u001b[0m \u001b[1;34m\"2015-09-30\"\u001b[0m\u001b[1;33m)\u001b[0m\u001b[1;33m)\u001b[0m\u001b[1;33m\u001b[0m\u001b[0m\n",
      "\u001b[1;32m~\\Anaconda3\\lib\\site-packages\\pandas\\core\\generic.py\u001b[0m in \u001b[0;36m__getattr__\u001b[1;34m(self, name)\u001b[0m\n\u001b[0;32m   3079\u001b[0m             \u001b[1;32mif\u001b[0m \u001b[0mname\u001b[0m \u001b[1;32min\u001b[0m \u001b[0mself\u001b[0m\u001b[1;33m.\u001b[0m\u001b[0m_info_axis\u001b[0m\u001b[1;33m:\u001b[0m\u001b[1;33m\u001b[0m\u001b[0m\n\u001b[0;32m   3080\u001b[0m                 \u001b[1;32mreturn\u001b[0m \u001b[0mself\u001b[0m\u001b[1;33m[\u001b[0m\u001b[0mname\u001b[0m\u001b[1;33m]\u001b[0m\u001b[1;33m\u001b[0m\u001b[0m\n\u001b[1;32m-> 3081\u001b[1;33m             \u001b[1;32mreturn\u001b[0m \u001b[0mobject\u001b[0m\u001b[1;33m.\u001b[0m\u001b[0m__getattribute__\u001b[0m\u001b[1;33m(\u001b[0m\u001b[0mself\u001b[0m\u001b[1;33m,\u001b[0m \u001b[0mname\u001b[0m\u001b[1;33m)\u001b[0m\u001b[1;33m\u001b[0m\u001b[0m\n\u001b[0m\u001b[0;32m   3082\u001b[0m \u001b[1;33m\u001b[0m\u001b[0m\n\u001b[0;32m   3083\u001b[0m     \u001b[1;32mdef\u001b[0m \u001b[0m__setattr__\u001b[0m\u001b[1;33m(\u001b[0m\u001b[0mself\u001b[0m\u001b[1;33m,\u001b[0m \u001b[0mname\u001b[0m\u001b[1;33m,\u001b[0m \u001b[0mvalue\u001b[0m\u001b[1;33m)\u001b[0m\u001b[1;33m:\u001b[0m\u001b[1;33m\u001b[0m\u001b[0m\n",
      "\u001b[1;31mAttributeError\u001b[0m: 'Series' object has no attribute 'Date'"
     ]
    }
   ],
   "source": [
    "df = df.Date.str.replace('/', '-')\n",
    "df['Date'] = pd.to_datetime(df['Date'])\n",
    "df['Q1'] = df[\"Date\"].isin(pd.date_range(\"2015-01-01\", \"2015-03-31\"))\n",
    "df['Q2'] = df[\"Date\"].isin(pd.date_range(\"2015-04-01\", \"2015-06-30\"))\n",
    "df['Q3'] = df[\"Date\"].isin(pd.date_range(\"2015-07-01\", \"2015-09-30\"))\n",
    "df['Q4'] = df[\"Date\"].isin(pd.date_range(\"2015-10-01\", \"2015-12-31\"))\n",
    "df['Q5'] = df[\"Date\"].isin(pd.date_range(\"2016-01-01\", \"2016-03-31\"))"
   ]
  },
  {
   "cell_type": "code",
   "execution_count": null,
   "metadata": {
    "collapsed": true
   },
   "outputs": [],
   "source": []
  },
  {
   "cell_type": "code",
   "execution_count": null,
   "metadata": {
    "collapsed": true
   },
   "outputs": [],
   "source": []
  },
  {
   "cell_type": "code",
   "execution_count": null,
   "metadata": {
    "collapsed": true
   },
   "outputs": [],
   "source": []
  },
  {
   "cell_type": "code",
   "execution_count": null,
   "metadata": {
    "collapsed": true
   },
   "outputs": [],
   "source": []
  },
  {
   "cell_type": "code",
   "execution_count": null,
   "metadata": {
    "collapsed": true
   },
   "outputs": [],
   "source": []
  },
  {
   "cell_type": "markdown",
   "metadata": {},
   "source": [
    "# Linear Model Set Up\n",
    "Use the data from 2015 to make a linear model using as many variables as you find useful to predict the yearly sales of all stores. You must use the sales from January to March as one of your variables."
   ]
  },
  {
   "cell_type": "code",
   "execution_count": 360,
   "metadata": {
    "collapsed": true
   },
   "outputs": [
    {
     "data": {
      "text/plain": [
       "Index(['Date', 'Store Number', 'City', 'Zip Code', 'County Number', 'County',\n",
       "       'Category', 'Category Name', 'Vendor Number', 'Item Number',\n",
       "       'Item Description', 'Bottle Volume (ml)', 'State Bottle Cost',\n",
       "       'State Bottle Retail', 'Bottles Sold', 'Sale (Dollars)',\n",
       "       'Volume Sold (Liters)', 'Volume Sold (Gallons)', 'year', 'month'],\n",
       "      dtype='object')"
      ]
     },
     "execution_count": 360,
     "metadata": {},
     "output_type": "execute_result"
    }
   ],
   "source": [
    "df.columns"
   ]
  },
  {
   "cell_type": "code",
   "execution_count": 361,
   "metadata": {
    "collapsed": true
   },
   "outputs": [],
   "source": [
    "df.drop(['County Number', 'County','Date','Store Number', 'City', 'Zip Code', 'County Number', \n",
    "'County','Category', 'Category Name', 'Vendor Number','Item Number','Item Description'], \n",
    "        axis=1, inplace=True)"
   ]
  },
  {
   "cell_type": "code",
   "execution_count": 362,
   "metadata": {
    "collapsed": true
   },
   "outputs": [],
   "source": [
    "corr = df.corr()\n",
    "#sns.heatmap(corr, annot=True);"
   ]
  },
  {
   "cell_type": "code",
   "execution_count": 363,
   "metadata": {
    "collapsed": true
   },
   "outputs": [],
   "source": [
    "df_2015 = df.loc[df['year'] == 2015]\n",
    "#df_2015.dtypes"
   ]
  },
  {
   "cell_type": "code",
   "execution_count": 364,
   "metadata": {
    "collapsed": true
   },
   "outputs": [],
   "source": [
    "df_2016 = df.loc[df['year'] == 2016]\n",
    "#df_2016.dtypes"
   ]
  },
  {
   "cell_type": "code",
   "execution_count": 365,
   "metadata": {
    "collapsed": true
   },
   "outputs": [],
   "source": [
    "y_train = df_2015['Sale (Dollars)']\n",
    "x_train = df_2015.drop(['Sale (Dollars)'], axis = 'columns')"
   ]
  },
  {
   "cell_type": "code",
   "execution_count": 366,
   "metadata": {
    "collapsed": true
   },
   "outputs": [],
   "source": [
    "# x_train.tail(1)"
   ]
  },
  {
   "cell_type": "code",
   "execution_count": 401,
   "metadata": {},
   "outputs": [
    {
     "data": {
      "text/plain": [
       "28527245.39000142"
      ]
     },
     "execution_count": 401,
     "metadata": {},
     "output_type": "execute_result"
    }
   ],
   "source": [
    "df_2015['Sale (Dollars)'].sum() #Actual 2016 sales 28527245.39000142"
   ]
  },
  {
   "cell_type": "code",
   "execution_count": 368,
   "metadata": {
    "collapsed": true
   },
   "outputs": [],
   "source": [
    "from sklearn.preprocessing import StandardScaler"
   ]
  },
  {
   "cell_type": "code",
   "execution_count": 369,
   "metadata": {
    "collapsed": true
   },
   "outputs": [],
   "source": [
    "ss = StandardScaler()\n",
    "xs = ss.fit_transform(x_train)"
   ]
  },
  {
   "cell_type": "code",
   "execution_count": 370,
   "metadata": {
    "collapsed": true
   },
   "outputs": [],
   "source": [
    "# x_train.dtypes"
   ]
  },
  {
   "cell_type": "code",
   "execution_count": 371,
   "metadata": {
    "collapsed": true
   },
   "outputs": [],
   "source": [
    "lm = linear_model.LinearRegression(fit_intercept=True,\n",
    "        normalize=False, copy_X=True, n_jobs=1)"
   ]
  },
  {
   "cell_type": "code",
   "execution_count": 372,
   "metadata": {
    "collapsed": true
   },
   "outputs": [
    {
     "data": {
      "text/plain": [
       "LinearRegression(copy_X=True, fit_intercept=True, n_jobs=1, normalize=False)"
      ]
     },
     "execution_count": 372,
     "metadata": {},
     "output_type": "execute_result"
    }
   ],
   "source": [
    "lm.fit(x_train, y_train)"
   ]
  },
  {
   "cell_type": "code",
   "execution_count": 373,
   "metadata": {
    "collapsed": true
   },
   "outputs": [
    {
     "data": {
      "text/plain": [
       "0.76509577710202525"
      ]
     },
     "execution_count": 373,
     "metadata": {},
     "output_type": "execute_result"
    }
   ],
   "source": [
    "lm.score(x_train,y_train) #this result is R^2, the fraction of variance explained by the model"
   ]
  },
  {
   "cell_type": "code",
   "execution_count": 374,
   "metadata": {
    "collapsed": true
   },
   "outputs": [
    {
     "data": {
      "text/plain": [
       "array([ -3.82199623e-02,   3.76244560e+01,  -1.88700542e+01,\n",
       "         5.96765160e+00,   2.25582303e+02,  -8.28168354e+02,\n",
       "         0.00000000e+00,   3.87636422e-01])"
      ]
     },
     "execution_count": 374,
     "metadata": {},
     "output_type": "execute_result"
    }
   ],
   "source": [
    "lm.coef_"
   ]
  },
  {
   "cell_type": "code",
   "execution_count": 375,
   "metadata": {
    "collapsed": true
   },
   "outputs": [],
   "source": [
    "predicted = lm.predict(X=x_train) # creates 'y_hat' ie list of prediction based on model"
   ]
  },
  {
   "cell_type": "code",
   "execution_count": 376,
   "metadata": {
    "collapsed": true
   },
   "outputs": [],
   "source": [
    "true = y_train"
   ]
  },
  {
   "cell_type": "code",
   "execution_count": 377,
   "metadata": {
    "collapsed": true
   },
   "outputs": [
    {
     "data": {
      "text/plain": [
       "0.76509577710202525"
      ]
     },
     "execution_count": 377,
     "metadata": {},
     "output_type": "execute_result"
    }
   ],
   "source": [
    "metrics.r2_score(y_pred = predicted, y_true = true)"
   ]
  },
  {
   "cell_type": "code",
   "execution_count": 378,
   "metadata": {
    "collapsed": true
   },
   "outputs": [],
   "source": [
    "y_test = df_2016['Sale (Dollars)']\n",
    "x_test = df_2016.drop(['Sale (Dollars)'], axis = 'columns')"
   ]
  },
  {
   "cell_type": "code",
   "execution_count": 379,
   "metadata": {
    "collapsed": true
   },
   "outputs": [
    {
     "data": {
      "text/plain": [
       "0.79135532974247325"
      ]
     },
     "execution_count": 379,
     "metadata": {},
     "output_type": "execute_result"
    }
   ],
   "source": [
    "lm.score(x_test,y_test) #this result is R^2, the fraction of variance explained by the model"
   ]
  },
  {
   "cell_type": "code",
   "execution_count": 380,
   "metadata": {
    "collapsed": true
   },
   "outputs": [],
   "source": [
    "predicted = lm.predict(x_test)\n",
    "df_predict = pd.DataFrame(predicted)"
   ]
  },
  {
   "cell_type": "code",
   "execution_count": 381,
   "metadata": {
    "collapsed": true
   },
   "outputs": [
    {
     "data": {
      "text/plain": [
       "25751012.859175131"
      ]
     },
     "execution_count": 381,
     "metadata": {},
     "output_type": "execute_result"
    }
   ],
   "source": [
    "predicted.sum()*4 #25751012.859175131"
   ]
  },
  {
   "cell_type": "code",
   "execution_count": 384,
   "metadata": {
    "collapsed": true
   },
   "outputs": [
    {
     "name": "stdout",
     "output_type": "stream",
     "text": [
      "[  71.09928746  337.91631291   84.33102997 ...,   39.25539848    2.77588009\n",
      "  -12.77508442]\n"
     ]
    }
   ],
   "source": [
    "print(predicted)"
   ]
  },
  {
   "cell_type": "code",
   "execution_count": 382,
   "metadata": {
    "collapsed": true
   },
   "outputs": [
    {
     "data": {
      "text/plain": [
       "-2776232.5308262892"
      ]
     },
     "execution_count": 382,
     "metadata": {},
     "output_type": "execute_result"
    }
   ],
   "source": [
    "# PROJECTED CHANGE IN SALES (pretty sure this is wrong)\n",
    "(predicted.sum()*4) - df_2015['Sale (Dollars)'].sum()"
   ]
  },
  {
   "cell_type": "code",
   "execution_count": 397,
   "metadata": {
    "collapsed": true
   },
   "outputs": [],
   "source": [
    "import numpy as np\n",
    "import pandas as pd\n",
    "from matplotlib import pyplot as plt\n",
    "import seaborn as sns\n",
    "\n",
    "from sklearn.linear_model import LinearRegression"
   ]
  },
  {
   "cell_type": "markdown",
   "metadata": {},
   "source": [
    "# Model Fitting\n",
    "Fit your model(s) using one or both of the regularization tactics covered. Explain whether the regularized or the non-regularized model performed better and what the selected regression(s) are doing."
   ]
  },
  {
   "cell_type": "code",
   "execution_count": 202,
   "metadata": {
    "collapsed": true
   },
   "outputs": [
    {
     "data": {
      "text/plain": [
       "Lasso(alpha=0.001, copy_X=True, fit_intercept=True, max_iter=1000,\n",
       "   normalize=True, positive=False, precompute=False, random_state=None,\n",
       "   selection='cyclic', tol=0.0001, warm_start=False)"
      ]
     },
     "execution_count": 202,
     "metadata": {},
     "output_type": "execute_result"
    },
    {
     "name": "stdout",
     "output_type": "stream",
     "text": [
      "[-0.03478079  9.21181305  0.          5.97180846  6.77285417  0.          0.\n",
      "  0.25819296]\n"
     ]
    }
   ],
   "source": [
    "# try alpha=0.001 and examine coefficients\n",
    "lassoreg = Lasso(alpha=0.001, normalize=True)\n",
    "lassoreg.fit(x_train, y_train)\n",
    "print(lassoreg.coef_)"
   ]
  },
  {
   "cell_type": "code",
   "execution_count": 203,
   "metadata": {
    "collapsed": true
   },
   "outputs": [
    {
     "data": {
      "text/html": [
       "<div>\n",
       "<style>\n",
       "    .dataframe thead tr:only-child th {\n",
       "        text-align: right;\n",
       "    }\n",
       "\n",
       "    .dataframe thead th {\n",
       "        text-align: left;\n",
       "    }\n",
       "\n",
       "    .dataframe tbody tr th {\n",
       "        vertical-align: top;\n",
       "    }\n",
       "</style>\n",
       "<table border=\"1\" class=\"dataframe\">\n",
       "  <thead>\n",
       "    <tr style=\"text-align: right;\">\n",
       "      <th></th>\n",
       "      <th>Bottle Volume (ml)</th>\n",
       "      <th>State Bottle Cost</th>\n",
       "      <th>State Bottle Retail</th>\n",
       "      <th>Bottles Sold</th>\n",
       "      <th>Volume Sold (Liters)</th>\n",
       "      <th>Volume Sold (Gallons)</th>\n",
       "      <th>year</th>\n",
       "      <th>month</th>\n",
       "    </tr>\n",
       "  </thead>\n",
       "  <tbody>\n",
       "    <tr>\n",
       "      <th>0</th>\n",
       "      <td>750</td>\n",
       "      <td>4.50</td>\n",
       "      <td>6.75</td>\n",
       "      <td>12</td>\n",
       "      <td>9.00</td>\n",
       "      <td>2.38</td>\n",
       "      <td>2015</td>\n",
       "      <td>11</td>\n",
       "    </tr>\n",
       "    <tr>\n",
       "      <th>4</th>\n",
       "      <td>1750</td>\n",
       "      <td>7.20</td>\n",
       "      <td>10.80</td>\n",
       "      <td>12</td>\n",
       "      <td>21.00</td>\n",
       "      <td>5.55</td>\n",
       "      <td>2015</td>\n",
       "      <td>8</td>\n",
       "    </tr>\n",
       "    <tr>\n",
       "      <th>5</th>\n",
       "      <td>1750</td>\n",
       "      <td>13.32</td>\n",
       "      <td>19.98</td>\n",
       "      <td>6</td>\n",
       "      <td>10.50</td>\n",
       "      <td>2.77</td>\n",
       "      <td>2015</td>\n",
       "      <td>4</td>\n",
       "    </tr>\n",
       "    <tr>\n",
       "      <th>6</th>\n",
       "      <td>750</td>\n",
       "      <td>6.66</td>\n",
       "      <td>9.99</td>\n",
       "      <td>3</td>\n",
       "      <td>2.25</td>\n",
       "      <td>0.59</td>\n",
       "      <td>2015</td>\n",
       "      <td>8</td>\n",
       "    </tr>\n",
       "    <tr>\n",
       "      <th>7</th>\n",
       "      <td>1750</td>\n",
       "      <td>15.75</td>\n",
       "      <td>23.63</td>\n",
       "      <td>2</td>\n",
       "      <td>3.50</td>\n",
       "      <td>0.92</td>\n",
       "      <td>2015</td>\n",
       "      <td>6</td>\n",
       "    </tr>\n",
       "    <tr>\n",
       "      <th>9</th>\n",
       "      <td>1000</td>\n",
       "      <td>7.62</td>\n",
       "      <td>11.43</td>\n",
       "      <td>2</td>\n",
       "      <td>2.00</td>\n",
       "      <td>0.53</td>\n",
       "      <td>2015</td>\n",
       "      <td>11</td>\n",
       "    </tr>\n",
       "    <tr>\n",
       "      <th>10</th>\n",
       "      <td>750</td>\n",
       "      <td>26.24</td>\n",
       "      <td>39.36</td>\n",
       "      <td>6</td>\n",
       "      <td>4.50</td>\n",
       "      <td>1.19</td>\n",
       "      <td>2015</td>\n",
       "      <td>9</td>\n",
       "    </tr>\n",
       "    <tr>\n",
       "      <th>11</th>\n",
       "      <td>1750</td>\n",
       "      <td>6.00</td>\n",
       "      <td>9.25</td>\n",
       "      <td>6</td>\n",
       "      <td>10.50</td>\n",
       "      <td>2.77</td>\n",
       "      <td>2015</td>\n",
       "      <td>10</td>\n",
       "    </tr>\n",
       "    <tr>\n",
       "      <th>12</th>\n",
       "      <td>1750</td>\n",
       "      <td>8.92</td>\n",
       "      <td>13.38</td>\n",
       "      <td>1</td>\n",
       "      <td>1.75</td>\n",
       "      <td>0.46</td>\n",
       "      <td>2015</td>\n",
       "      <td>1</td>\n",
       "    </tr>\n",
       "    <tr>\n",
       "      <th>15</th>\n",
       "      <td>750</td>\n",
       "      <td>4.50</td>\n",
       "      <td>6.75</td>\n",
       "      <td>4</td>\n",
       "      <td>3.00</td>\n",
       "      <td>0.79</td>\n",
       "      <td>2015</td>\n",
       "      <td>6</td>\n",
       "    </tr>\n",
       "    <tr>\n",
       "      <th>17</th>\n",
       "      <td>750</td>\n",
       "      <td>6.50</td>\n",
       "      <td>9.75</td>\n",
       "      <td>12</td>\n",
       "      <td>9.00</td>\n",
       "      <td>2.38</td>\n",
       "      <td>2015</td>\n",
       "      <td>12</td>\n",
       "    </tr>\n",
       "    <tr>\n",
       "      <th>18</th>\n",
       "      <td>1000</td>\n",
       "      <td>4.92</td>\n",
       "      <td>7.38</td>\n",
       "      <td>24</td>\n",
       "      <td>24.00</td>\n",
       "      <td>6.34</td>\n",
       "      <td>2015</td>\n",
       "      <td>12</td>\n",
       "    </tr>\n",
       "    <tr>\n",
       "      <th>19</th>\n",
       "      <td>1750</td>\n",
       "      <td>9.97</td>\n",
       "      <td>14.96</td>\n",
       "      <td>6</td>\n",
       "      <td>10.50</td>\n",
       "      <td>2.77</td>\n",
       "      <td>2015</td>\n",
       "      <td>3</td>\n",
       "    </tr>\n",
       "    <tr>\n",
       "      <th>20</th>\n",
       "      <td>750</td>\n",
       "      <td>14.25</td>\n",
       "      <td>21.38</td>\n",
       "      <td>2</td>\n",
       "      <td>1.50</td>\n",
       "      <td>0.40</td>\n",
       "      <td>2015</td>\n",
       "      <td>1</td>\n",
       "    </tr>\n",
       "    <tr>\n",
       "      <th>21</th>\n",
       "      <td>750</td>\n",
       "      <td>5.23</td>\n",
       "      <td>7.85</td>\n",
       "      <td>12</td>\n",
       "      <td>9.00</td>\n",
       "      <td>2.38</td>\n",
       "      <td>2015</td>\n",
       "      <td>1</td>\n",
       "    </tr>\n",
       "    <tr>\n",
       "      <th>22</th>\n",
       "      <td>750</td>\n",
       "      <td>7.00</td>\n",
       "      <td>10.50</td>\n",
       "      <td>12</td>\n",
       "      <td>9.00</td>\n",
       "      <td>2.38</td>\n",
       "      <td>2015</td>\n",
       "      <td>3</td>\n",
       "    </tr>\n",
       "    <tr>\n",
       "      <th>23</th>\n",
       "      <td>750</td>\n",
       "      <td>10.49</td>\n",
       "      <td>15.74</td>\n",
       "      <td>12</td>\n",
       "      <td>9.00</td>\n",
       "      <td>2.38</td>\n",
       "      <td>2015</td>\n",
       "      <td>11</td>\n",
       "    </tr>\n",
       "    <tr>\n",
       "      <th>25</th>\n",
       "      <td>1000</td>\n",
       "      <td>17.90</td>\n",
       "      <td>26.85</td>\n",
       "      <td>24</td>\n",
       "      <td>24.00</td>\n",
       "      <td>6.34</td>\n",
       "      <td>2015</td>\n",
       "      <td>2</td>\n",
       "    </tr>\n",
       "    <tr>\n",
       "      <th>26</th>\n",
       "      <td>300</td>\n",
       "      <td>7.35</td>\n",
       "      <td>11.03</td>\n",
       "      <td>1</td>\n",
       "      <td>0.30</td>\n",
       "      <td>0.08</td>\n",
       "      <td>2015</td>\n",
       "      <td>11</td>\n",
       "    </tr>\n",
       "    <tr>\n",
       "      <th>27</th>\n",
       "      <td>750</td>\n",
       "      <td>3.50</td>\n",
       "      <td>5.25</td>\n",
       "      <td>3</td>\n",
       "      <td>2.25</td>\n",
       "      <td>0.59</td>\n",
       "      <td>2015</td>\n",
       "      <td>4</td>\n",
       "    </tr>\n",
       "    <tr>\n",
       "      <th>28</th>\n",
       "      <td>1750</td>\n",
       "      <td>10.99</td>\n",
       "      <td>16.49</td>\n",
       "      <td>6</td>\n",
       "      <td>10.50</td>\n",
       "      <td>2.77</td>\n",
       "      <td>2015</td>\n",
       "      <td>12</td>\n",
       "    </tr>\n",
       "    <tr>\n",
       "      <th>29</th>\n",
       "      <td>500</td>\n",
       "      <td>4.90</td>\n",
       "      <td>7.35</td>\n",
       "      <td>1</td>\n",
       "      <td>0.50</td>\n",
       "      <td>0.13</td>\n",
       "      <td>2015</td>\n",
       "      <td>1</td>\n",
       "    </tr>\n",
       "    <tr>\n",
       "      <th>30</th>\n",
       "      <td>375</td>\n",
       "      <td>1.99</td>\n",
       "      <td>2.99</td>\n",
       "      <td>3</td>\n",
       "      <td>1.12</td>\n",
       "      <td>0.30</td>\n",
       "      <td>2015</td>\n",
       "      <td>4</td>\n",
       "    </tr>\n",
       "    <tr>\n",
       "      <th>31</th>\n",
       "      <td>750</td>\n",
       "      <td>12.07</td>\n",
       "      <td>18.11</td>\n",
       "      <td>2</td>\n",
       "      <td>1.50</td>\n",
       "      <td>0.40</td>\n",
       "      <td>2015</td>\n",
       "      <td>1</td>\n",
       "    </tr>\n",
       "    <tr>\n",
       "      <th>32</th>\n",
       "      <td>1750</td>\n",
       "      <td>7.20</td>\n",
       "      <td>10.80</td>\n",
       "      <td>12</td>\n",
       "      <td>21.00</td>\n",
       "      <td>5.55</td>\n",
       "      <td>2015</td>\n",
       "      <td>1</td>\n",
       "    </tr>\n",
       "    <tr>\n",
       "      <th>33</th>\n",
       "      <td>1000</td>\n",
       "      <td>7.62</td>\n",
       "      <td>11.43</td>\n",
       "      <td>12</td>\n",
       "      <td>12.00</td>\n",
       "      <td>3.17</td>\n",
       "      <td>2015</td>\n",
       "      <td>1</td>\n",
       "    </tr>\n",
       "    <tr>\n",
       "      <th>34</th>\n",
       "      <td>750</td>\n",
       "      <td>5.38</td>\n",
       "      <td>8.07</td>\n",
       "      <td>2</td>\n",
       "      <td>1.50</td>\n",
       "      <td>0.40</td>\n",
       "      <td>2015</td>\n",
       "      <td>6</td>\n",
       "    </tr>\n",
       "    <tr>\n",
       "      <th>35</th>\n",
       "      <td>375</td>\n",
       "      <td>6.52</td>\n",
       "      <td>9.78</td>\n",
       "      <td>4</td>\n",
       "      <td>1.50</td>\n",
       "      <td>0.40</td>\n",
       "      <td>2015</td>\n",
       "      <td>4</td>\n",
       "    </tr>\n",
       "    <tr>\n",
       "      <th>36</th>\n",
       "      <td>1000</td>\n",
       "      <td>5.28</td>\n",
       "      <td>7.92</td>\n",
       "      <td>12</td>\n",
       "      <td>12.00</td>\n",
       "      <td>3.17</td>\n",
       "      <td>2015</td>\n",
       "      <td>4</td>\n",
       "    </tr>\n",
       "    <tr>\n",
       "      <th>37</th>\n",
       "      <td>750</td>\n",
       "      <td>12.25</td>\n",
       "      <td>18.38</td>\n",
       "      <td>12</td>\n",
       "      <td>9.00</td>\n",
       "      <td>2.38</td>\n",
       "      <td>2015</td>\n",
       "      <td>6</td>\n",
       "    </tr>\n",
       "    <tr>\n",
       "      <th>...</th>\n",
       "      <td>...</td>\n",
       "      <td>...</td>\n",
       "      <td>...</td>\n",
       "      <td>...</td>\n",
       "      <td>...</td>\n",
       "      <td>...</td>\n",
       "      <td>...</td>\n",
       "      <td>...</td>\n",
       "    </tr>\n",
       "    <tr>\n",
       "      <th>270923</th>\n",
       "      <td>1000</td>\n",
       "      <td>22.50</td>\n",
       "      <td>33.75</td>\n",
       "      <td>12</td>\n",
       "      <td>12.00</td>\n",
       "      <td>3.17</td>\n",
       "      <td>2015</td>\n",
       "      <td>9</td>\n",
       "    </tr>\n",
       "    <tr>\n",
       "      <th>270924</th>\n",
       "      <td>500</td>\n",
       "      <td>7.47</td>\n",
       "      <td>11.21</td>\n",
       "      <td>2</td>\n",
       "      <td>1.00</td>\n",
       "      <td>0.26</td>\n",
       "      <td>2015</td>\n",
       "      <td>12</td>\n",
       "    </tr>\n",
       "    <tr>\n",
       "      <th>270925</th>\n",
       "      <td>750</td>\n",
       "      <td>6.00</td>\n",
       "      <td>9.00</td>\n",
       "      <td>4</td>\n",
       "      <td>3.00</td>\n",
       "      <td>0.79</td>\n",
       "      <td>2015</td>\n",
       "      <td>1</td>\n",
       "    </tr>\n",
       "    <tr>\n",
       "      <th>270926</th>\n",
       "      <td>750</td>\n",
       "      <td>31.00</td>\n",
       "      <td>46.50</td>\n",
       "      <td>6</td>\n",
       "      <td>4.50</td>\n",
       "      <td>1.19</td>\n",
       "      <td>2015</td>\n",
       "      <td>12</td>\n",
       "    </tr>\n",
       "    <tr>\n",
       "      <th>270927</th>\n",
       "      <td>1000</td>\n",
       "      <td>9.25</td>\n",
       "      <td>13.88</td>\n",
       "      <td>12</td>\n",
       "      <td>12.00</td>\n",
       "      <td>3.17</td>\n",
       "      <td>2015</td>\n",
       "      <td>8</td>\n",
       "    </tr>\n",
       "    <tr>\n",
       "      <th>270928</th>\n",
       "      <td>375</td>\n",
       "      <td>1.80</td>\n",
       "      <td>2.70</td>\n",
       "      <td>48</td>\n",
       "      <td>18.00</td>\n",
       "      <td>4.76</td>\n",
       "      <td>2015</td>\n",
       "      <td>10</td>\n",
       "    </tr>\n",
       "    <tr>\n",
       "      <th>270930</th>\n",
       "      <td>375</td>\n",
       "      <td>1.93</td>\n",
       "      <td>2.90</td>\n",
       "      <td>12</td>\n",
       "      <td>4.50</td>\n",
       "      <td>1.19</td>\n",
       "      <td>2015</td>\n",
       "      <td>10</td>\n",
       "    </tr>\n",
       "    <tr>\n",
       "      <th>270931</th>\n",
       "      <td>750</td>\n",
       "      <td>5.25</td>\n",
       "      <td>7.88</td>\n",
       "      <td>12</td>\n",
       "      <td>9.00</td>\n",
       "      <td>2.38</td>\n",
       "      <td>2015</td>\n",
       "      <td>5</td>\n",
       "    </tr>\n",
       "    <tr>\n",
       "      <th>270932</th>\n",
       "      <td>1750</td>\n",
       "      <td>29.67</td>\n",
       "      <td>44.51</td>\n",
       "      <td>2</td>\n",
       "      <td>3.50</td>\n",
       "      <td>0.92</td>\n",
       "      <td>2015</td>\n",
       "      <td>6</td>\n",
       "    </tr>\n",
       "    <tr>\n",
       "      <th>270933</th>\n",
       "      <td>750</td>\n",
       "      <td>9.00</td>\n",
       "      <td>13.50</td>\n",
       "      <td>3</td>\n",
       "      <td>2.25</td>\n",
       "      <td>0.59</td>\n",
       "      <td>2015</td>\n",
       "      <td>2</td>\n",
       "    </tr>\n",
       "    <tr>\n",
       "      <th>270934</th>\n",
       "      <td>1750</td>\n",
       "      <td>10.00</td>\n",
       "      <td>15.00</td>\n",
       "      <td>2</td>\n",
       "      <td>3.50</td>\n",
       "      <td>0.92</td>\n",
       "      <td>2015</td>\n",
       "      <td>3</td>\n",
       "    </tr>\n",
       "    <tr>\n",
       "      <th>270935</th>\n",
       "      <td>750</td>\n",
       "      <td>15.07</td>\n",
       "      <td>22.61</td>\n",
       "      <td>3</td>\n",
       "      <td>2.25</td>\n",
       "      <td>0.59</td>\n",
       "      <td>2015</td>\n",
       "      <td>6</td>\n",
       "    </tr>\n",
       "    <tr>\n",
       "      <th>270936</th>\n",
       "      <td>750</td>\n",
       "      <td>10.49</td>\n",
       "      <td>15.74</td>\n",
       "      <td>12</td>\n",
       "      <td>9.00</td>\n",
       "      <td>2.38</td>\n",
       "      <td>2015</td>\n",
       "      <td>3</td>\n",
       "    </tr>\n",
       "    <tr>\n",
       "      <th>270937</th>\n",
       "      <td>750</td>\n",
       "      <td>18.56</td>\n",
       "      <td>27.84</td>\n",
       "      <td>1</td>\n",
       "      <td>0.75</td>\n",
       "      <td>0.20</td>\n",
       "      <td>2015</td>\n",
       "      <td>1</td>\n",
       "    </tr>\n",
       "    <tr>\n",
       "      <th>270938</th>\n",
       "      <td>375</td>\n",
       "      <td>4.75</td>\n",
       "      <td>7.13</td>\n",
       "      <td>3</td>\n",
       "      <td>1.12</td>\n",
       "      <td>0.30</td>\n",
       "      <td>2015</td>\n",
       "      <td>4</td>\n",
       "    </tr>\n",
       "    <tr>\n",
       "      <th>270939</th>\n",
       "      <td>500</td>\n",
       "      <td>4.89</td>\n",
       "      <td>7.34</td>\n",
       "      <td>6</td>\n",
       "      <td>3.00</td>\n",
       "      <td>0.79</td>\n",
       "      <td>2015</td>\n",
       "      <td>5</td>\n",
       "    </tr>\n",
       "    <tr>\n",
       "      <th>270940</th>\n",
       "      <td>750</td>\n",
       "      <td>12.03</td>\n",
       "      <td>18.05</td>\n",
       "      <td>4</td>\n",
       "      <td>3.00</td>\n",
       "      <td>0.79</td>\n",
       "      <td>2015</td>\n",
       "      <td>1</td>\n",
       "    </tr>\n",
       "    <tr>\n",
       "      <th>270941</th>\n",
       "      <td>1750</td>\n",
       "      <td>6.68</td>\n",
       "      <td>10.27</td>\n",
       "      <td>6</td>\n",
       "      <td>10.50</td>\n",
       "      <td>2.77</td>\n",
       "      <td>2015</td>\n",
       "      <td>2</td>\n",
       "    </tr>\n",
       "    <tr>\n",
       "      <th>270942</th>\n",
       "      <td>750</td>\n",
       "      <td>5.51</td>\n",
       "      <td>8.27</td>\n",
       "      <td>12</td>\n",
       "      <td>9.00</td>\n",
       "      <td>2.38</td>\n",
       "      <td>2015</td>\n",
       "      <td>6</td>\n",
       "    </tr>\n",
       "    <tr>\n",
       "      <th>270943</th>\n",
       "      <td>500</td>\n",
       "      <td>6.83</td>\n",
       "      <td>10.25</td>\n",
       "      <td>1</td>\n",
       "      <td>0.50</td>\n",
       "      <td>0.13</td>\n",
       "      <td>2015</td>\n",
       "      <td>10</td>\n",
       "    </tr>\n",
       "    <tr>\n",
       "      <th>270945</th>\n",
       "      <td>100</td>\n",
       "      <td>0.89</td>\n",
       "      <td>1.34</td>\n",
       "      <td>48</td>\n",
       "      <td>4.80</td>\n",
       "      <td>1.27</td>\n",
       "      <td>2015</td>\n",
       "      <td>6</td>\n",
       "    </tr>\n",
       "    <tr>\n",
       "      <th>270946</th>\n",
       "      <td>750</td>\n",
       "      <td>9.65</td>\n",
       "      <td>14.48</td>\n",
       "      <td>4</td>\n",
       "      <td>3.00</td>\n",
       "      <td>0.79</td>\n",
       "      <td>2015</td>\n",
       "      <td>11</td>\n",
       "    </tr>\n",
       "    <tr>\n",
       "      <th>270947</th>\n",
       "      <td>375</td>\n",
       "      <td>5.00</td>\n",
       "      <td>7.50</td>\n",
       "      <td>6</td>\n",
       "      <td>2.25</td>\n",
       "      <td>0.59</td>\n",
       "      <td>2015</td>\n",
       "      <td>5</td>\n",
       "    </tr>\n",
       "    <tr>\n",
       "      <th>270948</th>\n",
       "      <td>750</td>\n",
       "      <td>8.50</td>\n",
       "      <td>12.75</td>\n",
       "      <td>3</td>\n",
       "      <td>2.25</td>\n",
       "      <td>0.59</td>\n",
       "      <td>2015</td>\n",
       "      <td>4</td>\n",
       "    </tr>\n",
       "    <tr>\n",
       "      <th>270949</th>\n",
       "      <td>1000</td>\n",
       "      <td>4.13</td>\n",
       "      <td>6.20</td>\n",
       "      <td>3</td>\n",
       "      <td>3.00</td>\n",
       "      <td>0.79</td>\n",
       "      <td>2015</td>\n",
       "      <td>7</td>\n",
       "    </tr>\n",
       "    <tr>\n",
       "      <th>270950</th>\n",
       "      <td>300</td>\n",
       "      <td>20.30</td>\n",
       "      <td>30.45</td>\n",
       "      <td>4</td>\n",
       "      <td>1.20</td>\n",
       "      <td>0.32</td>\n",
       "      <td>2015</td>\n",
       "      <td>12</td>\n",
       "    </tr>\n",
       "    <tr>\n",
       "      <th>270951</th>\n",
       "      <td>750</td>\n",
       "      <td>7.47</td>\n",
       "      <td>11.21</td>\n",
       "      <td>3</td>\n",
       "      <td>2.25</td>\n",
       "      <td>0.59</td>\n",
       "      <td>2015</td>\n",
       "      <td>11</td>\n",
       "    </tr>\n",
       "    <tr>\n",
       "      <th>270952</th>\n",
       "      <td>750</td>\n",
       "      <td>15.07</td>\n",
       "      <td>22.61</td>\n",
       "      <td>6</td>\n",
       "      <td>4.50</td>\n",
       "      <td>1.19</td>\n",
       "      <td>2015</td>\n",
       "      <td>10</td>\n",
       "    </tr>\n",
       "    <tr>\n",
       "      <th>270953</th>\n",
       "      <td>1750</td>\n",
       "      <td>26.05</td>\n",
       "      <td>39.08</td>\n",
       "      <td>6</td>\n",
       "      <td>10.50</td>\n",
       "      <td>2.77</td>\n",
       "      <td>2015</td>\n",
       "      <td>11</td>\n",
       "    </tr>\n",
       "    <tr>\n",
       "      <th>270954</th>\n",
       "      <td>200</td>\n",
       "      <td>2.75</td>\n",
       "      <td>4.13</td>\n",
       "      <td>8</td>\n",
       "      <td>1.60</td>\n",
       "      <td>0.42</td>\n",
       "      <td>2015</td>\n",
       "      <td>1</td>\n",
       "    </tr>\n",
       "  </tbody>\n",
       "</table>\n",
       "<p>218594 rows × 8 columns</p>\n",
       "</div>"
      ],
      "text/plain": [
       "        Bottle Volume (ml)  State Bottle Cost  State Bottle Retail  \\\n",
       "0                      750               4.50                 6.75   \n",
       "4                     1750               7.20                10.80   \n",
       "5                     1750              13.32                19.98   \n",
       "6                      750               6.66                 9.99   \n",
       "7                     1750              15.75                23.63   \n",
       "9                     1000               7.62                11.43   \n",
       "10                     750              26.24                39.36   \n",
       "11                    1750               6.00                 9.25   \n",
       "12                    1750               8.92                13.38   \n",
       "15                     750               4.50                 6.75   \n",
       "17                     750               6.50                 9.75   \n",
       "18                    1000               4.92                 7.38   \n",
       "19                    1750               9.97                14.96   \n",
       "20                     750              14.25                21.38   \n",
       "21                     750               5.23                 7.85   \n",
       "22                     750               7.00                10.50   \n",
       "23                     750              10.49                15.74   \n",
       "25                    1000              17.90                26.85   \n",
       "26                     300               7.35                11.03   \n",
       "27                     750               3.50                 5.25   \n",
       "28                    1750              10.99                16.49   \n",
       "29                     500               4.90                 7.35   \n",
       "30                     375               1.99                 2.99   \n",
       "31                     750              12.07                18.11   \n",
       "32                    1750               7.20                10.80   \n",
       "33                    1000               7.62                11.43   \n",
       "34                     750               5.38                 8.07   \n",
       "35                     375               6.52                 9.78   \n",
       "36                    1000               5.28                 7.92   \n",
       "37                     750              12.25                18.38   \n",
       "...                    ...                ...                  ...   \n",
       "270923                1000              22.50                33.75   \n",
       "270924                 500               7.47                11.21   \n",
       "270925                 750               6.00                 9.00   \n",
       "270926                 750              31.00                46.50   \n",
       "270927                1000               9.25                13.88   \n",
       "270928                 375               1.80                 2.70   \n",
       "270930                 375               1.93                 2.90   \n",
       "270931                 750               5.25                 7.88   \n",
       "270932                1750              29.67                44.51   \n",
       "270933                 750               9.00                13.50   \n",
       "270934                1750              10.00                15.00   \n",
       "270935                 750              15.07                22.61   \n",
       "270936                 750              10.49                15.74   \n",
       "270937                 750              18.56                27.84   \n",
       "270938                 375               4.75                 7.13   \n",
       "270939                 500               4.89                 7.34   \n",
       "270940                 750              12.03                18.05   \n",
       "270941                1750               6.68                10.27   \n",
       "270942                 750               5.51                 8.27   \n",
       "270943                 500               6.83                10.25   \n",
       "270945                 100               0.89                 1.34   \n",
       "270946                 750               9.65                14.48   \n",
       "270947                 375               5.00                 7.50   \n",
       "270948                 750               8.50                12.75   \n",
       "270949                1000               4.13                 6.20   \n",
       "270950                 300              20.30                30.45   \n",
       "270951                 750               7.47                11.21   \n",
       "270952                 750              15.07                22.61   \n",
       "270953                1750              26.05                39.08   \n",
       "270954                 200               2.75                 4.13   \n",
       "\n",
       "        Bottles Sold  Volume Sold (Liters)  Volume Sold (Gallons)  year  month  \n",
       "0                 12                  9.00                   2.38  2015     11  \n",
       "4                 12                 21.00                   5.55  2015      8  \n",
       "5                  6                 10.50                   2.77  2015      4  \n",
       "6                  3                  2.25                   0.59  2015      8  \n",
       "7                  2                  3.50                   0.92  2015      6  \n",
       "9                  2                  2.00                   0.53  2015     11  \n",
       "10                 6                  4.50                   1.19  2015      9  \n",
       "11                 6                 10.50                   2.77  2015     10  \n",
       "12                 1                  1.75                   0.46  2015      1  \n",
       "15                 4                  3.00                   0.79  2015      6  \n",
       "17                12                  9.00                   2.38  2015     12  \n",
       "18                24                 24.00                   6.34  2015     12  \n",
       "19                 6                 10.50                   2.77  2015      3  \n",
       "20                 2                  1.50                   0.40  2015      1  \n",
       "21                12                  9.00                   2.38  2015      1  \n",
       "22                12                  9.00                   2.38  2015      3  \n",
       "23                12                  9.00                   2.38  2015     11  \n",
       "25                24                 24.00                   6.34  2015      2  \n",
       "26                 1                  0.30                   0.08  2015     11  \n",
       "27                 3                  2.25                   0.59  2015      4  \n",
       "28                 6                 10.50                   2.77  2015     12  \n",
       "29                 1                  0.50                   0.13  2015      1  \n",
       "30                 3                  1.12                   0.30  2015      4  \n",
       "31                 2                  1.50                   0.40  2015      1  \n",
       "32                12                 21.00                   5.55  2015      1  \n",
       "33                12                 12.00                   3.17  2015      1  \n",
       "34                 2                  1.50                   0.40  2015      6  \n",
       "35                 4                  1.50                   0.40  2015      4  \n",
       "36                12                 12.00                   3.17  2015      4  \n",
       "37                12                  9.00                   2.38  2015      6  \n",
       "...              ...                   ...                    ...   ...    ...  \n",
       "270923            12                 12.00                   3.17  2015      9  \n",
       "270924             2                  1.00                   0.26  2015     12  \n",
       "270925             4                  3.00                   0.79  2015      1  \n",
       "270926             6                  4.50                   1.19  2015     12  \n",
       "270927            12                 12.00                   3.17  2015      8  \n",
       "270928            48                 18.00                   4.76  2015     10  \n",
       "270930            12                  4.50                   1.19  2015     10  \n",
       "270931            12                  9.00                   2.38  2015      5  \n",
       "270932             2                  3.50                   0.92  2015      6  \n",
       "270933             3                  2.25                   0.59  2015      2  \n",
       "270934             2                  3.50                   0.92  2015      3  \n",
       "270935             3                  2.25                   0.59  2015      6  \n",
       "270936            12                  9.00                   2.38  2015      3  \n",
       "270937             1                  0.75                   0.20  2015      1  \n",
       "270938             3                  1.12                   0.30  2015      4  \n",
       "270939             6                  3.00                   0.79  2015      5  \n",
       "270940             4                  3.00                   0.79  2015      1  \n",
       "270941             6                 10.50                   2.77  2015      2  \n",
       "270942            12                  9.00                   2.38  2015      6  \n",
       "270943             1                  0.50                   0.13  2015     10  \n",
       "270945            48                  4.80                   1.27  2015      6  \n",
       "270946             4                  3.00                   0.79  2015     11  \n",
       "270947             6                  2.25                   0.59  2015      5  \n",
       "270948             3                  2.25                   0.59  2015      4  \n",
       "270949             3                  3.00                   0.79  2015      7  \n",
       "270950             4                  1.20                   0.32  2015     12  \n",
       "270951             3                  2.25                   0.59  2015     11  \n",
       "270952             6                  4.50                   1.19  2015     10  \n",
       "270953             6                 10.50                   2.77  2015     11  \n",
       "270954             8                  1.60                   0.42  2015      1  \n",
       "\n",
       "[218594 rows x 8 columns]"
      ]
     },
     "execution_count": 203,
     "metadata": {},
     "output_type": "execute_result"
    }
   ],
   "source": [
    "x_train"
   ]
  },
  {
   "cell_type": "code",
   "execution_count": 204,
   "metadata": {
    "collapsed": true
   },
   "outputs": [
    {
     "name": "stdout",
     "output_type": "stream",
     "text": [
      "168.012216759\n"
     ]
    }
   ],
   "source": [
    "# calculate RMSE (for alpha=0.001)\n",
    "y_pred = lassoreg.predict(x_test)\n",
    "print(np.sqrt(metrics.mean_squared_error(y_test, y_pred)))"
   ]
  },
  {
   "cell_type": "code",
   "execution_count": 205,
   "metadata": {
    "collapsed": true
   },
   "outputs": [
    {
     "data": {
      "text/plain": [
       "Lasso(alpha=0.01, copy_X=True, fit_intercept=True, max_iter=1000,\n",
       "   normalize=True, positive=False, precompute=False, random_state=None,\n",
       "   selection='cyclic', tol=0.0001, warm_start=False)"
      ]
     },
     "execution_count": 205,
     "metadata": {},
     "output_type": "execute_result"
    },
    {
     "name": "stdout",
     "output_type": "stream",
     "text": [
      "[ -2.04195131e-02   8.31336179e+00   0.00000000e+00   5.99260309e+00\n",
      "   6.57870904e+00   1.15531820e-03   0.00000000e+00   0.00000000e+00]\n"
     ]
    }
   ],
   "source": [
    "# try alpha=0.01 and examine coefficients\n",
    "lassoreg = Lasso(alpha=0.01, normalize=True)\n",
    "lassoreg.fit(x_train, y_train)\n",
    "print(lassoreg.coef_)"
   ]
  },
  {
   "cell_type": "code",
   "execution_count": 206,
   "metadata": {
    "collapsed": true
   },
   "outputs": [
    {
     "name": "stdout",
     "output_type": "stream",
     "text": [
      "168.633170461\n"
     ]
    }
   ],
   "source": [
    "# calculate RMSE (for alpha=0.01)\n",
    "y_pred = lassoreg.predict(x_test)\n",
    "print(np.sqrt(metrics.mean_squared_error(y_test, y_pred)))"
   ]
  },
  {
   "cell_type": "code",
   "execution_count": 207,
   "metadata": {
    "collapsed": true
   },
   "outputs": [
    {
     "data": {
      "text/plain": [
       "LassoCV(alphas=None, copy_X=True, cv=None, eps=0.001, fit_intercept=True,\n",
       "    max_iter=1000, n_alphas=10, n_jobs=1, normalize=True, positive=False,\n",
       "    precompute='auto', random_state=1, selection='cyclic', tol=0.0001,\n",
       "    verbose=False)"
      ]
     },
     "execution_count": 207,
     "metadata": {},
     "output_type": "execute_result"
    },
    {
     "data": {
      "text/plain": [
       "0.00069732529888241464"
      ]
     },
     "execution_count": 207,
     "metadata": {},
     "output_type": "execute_result"
    }
   ],
   "source": [
    "# select the best alpha with LassoCV\n",
    "from sklearn.linear_model import LassoCV\n",
    "lassoregcv = LassoCV(n_alphas=10, normalize=True, random_state=1)\n",
    "lassoregcv.fit(x_train, y_train)\n",
    "lassoregcv.alpha_"
   ]
  },
  {
   "cell_type": "code",
   "execution_count": 208,
   "metadata": {
    "collapsed": true
   },
   "outputs": [
    {
     "name": "stdout",
     "output_type": "stream",
     "text": [
      "[-0.03526181  9.24171829  0.          5.97101924  6.7794123   0.          0.\n",
      "  0.29759305]\n"
     ]
    }
   ],
   "source": [
    "# examine the coefficients\n",
    "print(lassoregcv.coef_)"
   ]
  },
  {
   "cell_type": "code",
   "execution_count": 209,
   "metadata": {
    "collapsed": true
   },
   "outputs": [
    {
     "name": "stdout",
     "output_type": "stream",
     "text": [
      "167.998607469\n"
     ]
    }
   ],
   "source": [
    "# predict method uses the best alpha value\n",
    "y_pred = lassoregcv.predict(x_test)\n",
    "print(np.sqrt(metrics.mean_squared_error(y_test, y_pred)))"
   ]
  },
  {
   "cell_type": "code",
   "execution_count": null,
   "metadata": {
    "collapsed": true
   },
   "outputs": [],
   "source": []
  },
  {
   "cell_type": "code",
   "execution_count": null,
   "metadata": {
    "collapsed": true
   },
   "outputs": [],
   "source": []
  },
  {
   "cell_type": "code",
   "execution_count": null,
   "metadata": {
    "collapsed": true
   },
   "outputs": [],
   "source": []
  },
  {
   "cell_type": "code",
   "execution_count": null,
   "metadata": {
    "collapsed": true
   },
   "outputs": [],
   "source": []
  },
  {
   "cell_type": "code",
   "execution_count": null,
   "metadata": {
    "collapsed": true
   },
   "outputs": [],
   "source": []
  },
  {
   "cell_type": "markdown",
   "metadata": {},
   "source": [
    "# Explore the data\n",
    "\n",
    "Perform some exploratory statistical analysis and make some plots, such as histograms of transaction totals, bottles sold, etc."
   ]
  },
  {
   "cell_type": "markdown",
   "metadata": {},
   "source": [
    "Need to clean this up by bringing a lot of the stuff before this section down into this EDA section"
   ]
  },
  {
   "cell_type": "markdown",
   "metadata": {},
   "source": [
    "# Record your findings\n",
    "\n",
    "Be sure to write out anything observations from your exploratory analysis.\n"
   ]
  },
  {
   "cell_type": "code",
   "execution_count": null,
   "metadata": {
    "collapsed": true
   },
   "outputs": [],
   "source": []
  },
  {
   "cell_type": "markdown",
   "metadata": {},
   "source": [
    "# Mine the data\n",
    "\n",
    "Now you are ready to compute the variables you will use for your regression from the data. For example, you may want to compute total sales per store from Jan to March of 2015, mean price per bottle, etc. Refer to the readme for more ideas appropriate to your scenario.\n",
    "\n",
    "Pandas is your friend for this task. Take a look at the operations here for ideas on how to make the best use of pandas and feel free to search for blog and Stack Overflow posts to help you group data by certain variables and compute sums, means, etc. You may find it useful to create a new data frame to house this summary data.\n",
    " \n"
   ]
  },
  {
   "cell_type": "code",
   "execution_count": null,
   "metadata": {
    "collapsed": true
   },
   "outputs": [],
   "source": []
  },
  {
   "cell_type": "markdown",
   "metadata": {},
   "source": [
    "# Refine the data\n",
    "\n",
    "Look for any statistical relationships, correlations, or other relevant properties of the dataset."
   ]
  },
  {
   "cell_type": "code",
   "execution_count": null,
   "metadata": {
    "collapsed": true
   },
   "outputs": [],
   "source": []
  },
  {
   "cell_type": "markdown",
   "metadata": {},
   "source": [
    "# Build your models\n",
    "\n",
    "Using scikit-learn or statsmodels, build the necessary models for your scenario. Evaluate model fit."
   ]
  },
  {
   "cell_type": "code",
   "execution_count": null,
   "metadata": {
    "collapsed": true
   },
   "outputs": [],
   "source": []
  },
  {
   "cell_type": "markdown",
   "metadata": {},
   "source": [
    "# Plot your results\n",
    "\n",
    "Again make sure that you record any valuable information. For example, in the tax scenario, did you find the sales from the first three months of the year to be a good predictor of the total sales for the year? Plot the predictions versus the true values and discuss the successes and limitations of your models"
   ]
  },
  {
   "cell_type": "code",
   "execution_count": null,
   "metadata": {
    "collapsed": true
   },
   "outputs": [],
   "source": []
  },
  {
   "cell_type": "markdown",
   "metadata": {},
   "source": [
    "# Present the Results\n",
    "\n",
    "Present your conclusions and results. If you have more than one interesting model feel free to include more than one along with a discussion. Use your work in this notebook to prepare your write-up."
   ]
  },
  {
   "cell_type": "code",
   "execution_count": null,
   "metadata": {
    "collapsed": true
   },
   "outputs": [],
   "source": []
  }
 ],
 "metadata": {
  "anaconda-cloud": {},
  "kernelspec": {
   "display_name": "Python [default]",
   "language": "python",
   "name": "python3"
  },
  "language_info": {
   "codemirror_mode": {
    "name": "ipython",
    "version": 3
   },
   "file_extension": ".py",
   "mimetype": "text/x-python",
   "name": "python",
   "nbconvert_exporter": "python",
   "pygments_lexer": "ipython3",
   "version": "3.6.3"
  }
 },
 "nbformat": 4,
 "nbformat_minor": 1
}
