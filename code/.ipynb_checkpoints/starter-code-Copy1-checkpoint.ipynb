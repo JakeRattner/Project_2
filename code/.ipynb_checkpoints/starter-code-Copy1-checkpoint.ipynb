{
 "cells": [
  {
   "cell_type": "markdown",
   "metadata": {},
   "source": [
    "\n",
    "# Getting started\n",
    "\n",
    "Once you've chosen your scenario, download the data from the Iowa website in csv format. Start by loading the data with pandas. You may need to parse the date columns appropriately."
   ]
  },
  {
   "cell_type": "code",
   "execution_count": 2,
   "metadata": {},
   "outputs": [
    {
     "name": "stderr",
     "output_type": "stream",
     "text": [
      "C:\\Users\\Jake\\Anaconda3\\lib\\site-packages\\statsmodels\\compat\\pandas.py:56: FutureWarning: The pandas.core.datetools module is deprecated and will be removed in a future version. Please use the pandas.tseries module instead.\n",
      "  from pandas.core import datetools\n"
     ]
    }
   ],
   "source": [
    "import pandas as pd\n",
    "import dateutil\n",
    "import numpy as np\n",
    "import sklearn.metrics as metrics\n",
    "import sklearn.linear_model as linear_model\n",
    "import statsmodels.api as sm\n",
    "from IPython.core.interactiveshell import InteractiveShell\n",
    "InteractiveShell.ast_node_interactivity = \"all\"\n",
    "import seaborn as sns\n",
    "import matplotlib.pyplot as plt\n",
    "%matplotlib inline\n",
    "df = pd.read_csv('C:\\\\Users\\\\Jake\\\\Documents\\\\ga_home\\\\project-2\\\\code/Iowa_Liquor_sales_sample_10pct.csv')"
   ]
  },
  {
   "cell_type": "code",
   "execution_count": 3,
   "metadata": {},
   "outputs": [
    {
     "data": {
      "text/plain": [
       "(270955, 18)"
      ]
     },
     "execution_count": 3,
     "metadata": {},
     "output_type": "execute_result"
    }
   ],
   "source": [
    "df.shape\n",
    "#There are 270955 rows and 18 columns"
   ]
  },
  {
   "cell_type": "code",
   "execution_count": 4,
   "metadata": {},
   "outputs": [
    {
     "data": {
      "text/plain": [
       "Index(['Date', 'Store Number', 'City', 'Zip Code', 'County Number', 'County',\n",
       "       'Category', 'Category Name', 'Vendor Number', 'Item Number',\n",
       "       'Item Description', 'Bottle Volume (ml)', 'State Bottle Cost',\n",
       "       'State Bottle Retail', 'Bottles Sold', 'Sale (Dollars)',\n",
       "       'Volume Sold (Liters)', 'Volume Sold (Gallons)'],\n",
       "      dtype='object')"
      ]
     },
     "execution_count": 4,
     "metadata": {},
     "output_type": "execute_result"
    }
   ],
   "source": [
    "df.columns\n",
    "# Seeing what columns are included"
   ]
  },
  {
   "cell_type": "code",
   "execution_count": 5,
   "metadata": {},
   "outputs": [
    {
     "data": {
      "text/plain": [
       "Date              object\n",
       "Store Number       int64\n",
       "City              object\n",
       "Zip Code          object\n",
       "County Number    float64\n",
       "dtype: object"
      ]
     },
     "execution_count": 5,
     "metadata": {},
     "output_type": "execute_result"
    }
   ],
   "source": [
    "df.dtypes.head()\n",
    "# Checking out the types here.  "
   ]
  },
  {
   "cell_type": "code",
   "execution_count": 6,
   "metadata": {},
   "outputs": [
    {
     "name": "stdout",
     "output_type": "stream",
     "text": [
      "<class 'pandas.core.frame.DataFrame'>\n",
      "RangeIndex: 270955 entries, 0 to 270954\n",
      "Data columns (total 18 columns):\n",
      "Date                     270955 non-null object\n",
      "Store Number             270955 non-null int64\n",
      "City                     270955 non-null object\n",
      "Zip Code                 270955 non-null object\n",
      "County Number            269878 non-null float64\n",
      "County                   269878 non-null object\n",
      "Category                 270887 non-null float64\n",
      "Category Name            270323 non-null object\n",
      "Vendor Number            270955 non-null int64\n",
      "Item Number              270955 non-null int64\n",
      "Item Description         270955 non-null object\n",
      "Bottle Volume (ml)       270955 non-null int64\n",
      "State Bottle Cost        270955 non-null object\n",
      "State Bottle Retail      270955 non-null object\n",
      "Bottles Sold             270955 non-null int64\n",
      "Sale (Dollars)           270955 non-null object\n",
      "Volume Sold (Liters)     270955 non-null float64\n",
      "Volume Sold (Gallons)    270955 non-null float64\n",
      "dtypes: float64(4), int64(5), object(9)\n",
      "memory usage: 37.2+ MB\n"
     ]
    }
   ],
   "source": [
    "df.info()\n",
    "# There appear to be nulls in County Number, County, Category, Category Name"
   ]
  },
  {
   "cell_type": "code",
   "execution_count": 7,
   "metadata": {},
   "outputs": [
    {
     "data": {
      "text/html": [
       "<div>\n",
       "<style>\n",
       "    .dataframe thead tr:only-child th {\n",
       "        text-align: right;\n",
       "    }\n",
       "\n",
       "    .dataframe thead th {\n",
       "        text-align: left;\n",
       "    }\n",
       "\n",
       "    .dataframe tbody tr th {\n",
       "        vertical-align: top;\n",
       "    }\n",
       "</style>\n",
       "<table border=\"1\" class=\"dataframe\">\n",
       "  <thead>\n",
       "    <tr style=\"text-align: right;\">\n",
       "      <th></th>\n",
       "      <th>Store Number</th>\n",
       "      <th>County Number</th>\n",
       "      <th>Category</th>\n",
       "      <th>Vendor Number</th>\n",
       "      <th>Item Number</th>\n",
       "      <th>Bottle Volume (ml)</th>\n",
       "      <th>Bottles Sold</th>\n",
       "      <th>Volume Sold (Liters)</th>\n",
       "      <th>Volume Sold (Gallons)</th>\n",
       "    </tr>\n",
       "  </thead>\n",
       "  <tbody>\n",
       "    <tr>\n",
       "      <th>count</th>\n",
       "      <td>270955.000000</td>\n",
       "      <td>269878.000000</td>\n",
       "      <td>2.708870e+05</td>\n",
       "      <td>270955.00000</td>\n",
       "      <td>270955.000000</td>\n",
       "      <td>270955.000000</td>\n",
       "      <td>270955.000000</td>\n",
       "      <td>270955.000000</td>\n",
       "      <td>270955.000000</td>\n",
       "    </tr>\n",
       "    <tr>\n",
       "      <th>mean</th>\n",
       "      <td>3590.263701</td>\n",
       "      <td>57.231642</td>\n",
       "      <td>1.043888e+06</td>\n",
       "      <td>256.43443</td>\n",
       "      <td>45974.963300</td>\n",
       "      <td>924.830341</td>\n",
       "      <td>9.871285</td>\n",
       "      <td>8.981351</td>\n",
       "      <td>2.372830</td>\n",
       "    </tr>\n",
       "    <tr>\n",
       "      <th>std</th>\n",
       "      <td>947.662050</td>\n",
       "      <td>27.341205</td>\n",
       "      <td>5.018211e+04</td>\n",
       "      <td>141.01489</td>\n",
       "      <td>52757.043086</td>\n",
       "      <td>493.088489</td>\n",
       "      <td>24.040912</td>\n",
       "      <td>28.913690</td>\n",
       "      <td>7.638182</td>\n",
       "    </tr>\n",
       "    <tr>\n",
       "      <th>min</th>\n",
       "      <td>2106.000000</td>\n",
       "      <td>1.000000</td>\n",
       "      <td>1.011100e+06</td>\n",
       "      <td>10.00000</td>\n",
       "      <td>168.000000</td>\n",
       "      <td>50.000000</td>\n",
       "      <td>1.000000</td>\n",
       "      <td>0.100000</td>\n",
       "      <td>0.030000</td>\n",
       "    </tr>\n",
       "    <tr>\n",
       "      <th>25%</th>\n",
       "      <td>2604.000000</td>\n",
       "      <td>31.000000</td>\n",
       "      <td>1.012200e+06</td>\n",
       "      <td>115.00000</td>\n",
       "      <td>26827.000000</td>\n",
       "      <td>750.000000</td>\n",
       "      <td>2.000000</td>\n",
       "      <td>1.500000</td>\n",
       "      <td>0.400000</td>\n",
       "    </tr>\n",
       "    <tr>\n",
       "      <th>50%</th>\n",
       "      <td>3722.000000</td>\n",
       "      <td>62.000000</td>\n",
       "      <td>1.031200e+06</td>\n",
       "      <td>260.00000</td>\n",
       "      <td>38176.000000</td>\n",
       "      <td>750.000000</td>\n",
       "      <td>6.000000</td>\n",
       "      <td>5.250000</td>\n",
       "      <td>1.390000</td>\n",
       "    </tr>\n",
       "    <tr>\n",
       "      <th>75%</th>\n",
       "      <td>4378.000000</td>\n",
       "      <td>77.000000</td>\n",
       "      <td>1.062310e+06</td>\n",
       "      <td>380.00000</td>\n",
       "      <td>64573.000000</td>\n",
       "      <td>1000.000000</td>\n",
       "      <td>12.000000</td>\n",
       "      <td>10.500000</td>\n",
       "      <td>2.770000</td>\n",
       "    </tr>\n",
       "    <tr>\n",
       "      <th>max</th>\n",
       "      <td>9023.000000</td>\n",
       "      <td>99.000000</td>\n",
       "      <td>1.701100e+06</td>\n",
       "      <td>978.00000</td>\n",
       "      <td>995507.000000</td>\n",
       "      <td>6000.000000</td>\n",
       "      <td>2508.000000</td>\n",
       "      <td>2508.000000</td>\n",
       "      <td>662.540000</td>\n",
       "    </tr>\n",
       "  </tbody>\n",
       "</table>\n",
       "</div>"
      ],
      "text/plain": [
       "        Store Number  County Number      Category  Vendor Number  \\\n",
       "count  270955.000000  269878.000000  2.708870e+05   270955.00000   \n",
       "mean     3590.263701      57.231642  1.043888e+06      256.43443   \n",
       "std       947.662050      27.341205  5.018211e+04      141.01489   \n",
       "min      2106.000000       1.000000  1.011100e+06       10.00000   \n",
       "25%      2604.000000      31.000000  1.012200e+06      115.00000   \n",
       "50%      3722.000000      62.000000  1.031200e+06      260.00000   \n",
       "75%      4378.000000      77.000000  1.062310e+06      380.00000   \n",
       "max      9023.000000      99.000000  1.701100e+06      978.00000   \n",
       "\n",
       "         Item Number  Bottle Volume (ml)   Bottles Sold  Volume Sold (Liters)  \\\n",
       "count  270955.000000       270955.000000  270955.000000         270955.000000   \n",
       "mean    45974.963300          924.830341       9.871285              8.981351   \n",
       "std     52757.043086          493.088489      24.040912             28.913690   \n",
       "min       168.000000           50.000000       1.000000              0.100000   \n",
       "25%     26827.000000          750.000000       2.000000              1.500000   \n",
       "50%     38176.000000          750.000000       6.000000              5.250000   \n",
       "75%     64573.000000         1000.000000      12.000000             10.500000   \n",
       "max    995507.000000         6000.000000    2508.000000           2508.000000   \n",
       "\n",
       "       Volume Sold (Gallons)  \n",
       "count          270955.000000  \n",
       "mean                2.372830  \n",
       "std                 7.638182  \n",
       "min                 0.030000  \n",
       "25%                 0.400000  \n",
       "50%                 1.390000  \n",
       "75%                 2.770000  \n",
       "max               662.540000  "
      ]
     },
     "execution_count": 7,
     "metadata": {},
     "output_type": "execute_result"
    }
   ],
   "source": [
    "df.describe()\n",
    "# Describes the numeric values and their descritpive statistics\n",
    "# Store Number, County Number, Category, Vendor Number,  Item Number (not really relevant)\n"
   ]
  },
  {
   "cell_type": "code",
   "execution_count": 8,
   "metadata": {},
   "outputs": [
    {
     "data": {
      "text/html": [
       "<div>\n",
       "<style>\n",
       "    .dataframe thead tr:only-child th {\n",
       "        text-align: right;\n",
       "    }\n",
       "\n",
       "    .dataframe thead th {\n",
       "        text-align: left;\n",
       "    }\n",
       "\n",
       "    .dataframe tbody tr th {\n",
       "        vertical-align: top;\n",
       "    }\n",
       "</style>\n",
       "<table border=\"1\" class=\"dataframe\">\n",
       "  <thead>\n",
       "    <tr style=\"text-align: right;\">\n",
       "      <th></th>\n",
       "      <th>Date</th>\n",
       "      <th>City</th>\n",
       "      <th>Zip Code</th>\n",
       "      <th>County</th>\n",
       "      <th>Category Name</th>\n",
       "      <th>Item Description</th>\n",
       "      <th>State Bottle Cost</th>\n",
       "      <th>State Bottle Retail</th>\n",
       "      <th>Sale (Dollars)</th>\n",
       "    </tr>\n",
       "  </thead>\n",
       "  <tbody>\n",
       "    <tr>\n",
       "      <th>count</th>\n",
       "      <td>270955</td>\n",
       "      <td>270955</td>\n",
       "      <td>270955</td>\n",
       "      <td>269878</td>\n",
       "      <td>270323</td>\n",
       "      <td>270955</td>\n",
       "      <td>270955</td>\n",
       "      <td>270955</td>\n",
       "      <td>270955</td>\n",
       "    </tr>\n",
       "    <tr>\n",
       "      <th>unique</th>\n",
       "      <td>274</td>\n",
       "      <td>385</td>\n",
       "      <td>415</td>\n",
       "      <td>99</td>\n",
       "      <td>71</td>\n",
       "      <td>2173</td>\n",
       "      <td>1086</td>\n",
       "      <td>1112</td>\n",
       "      <td>6580</td>\n",
       "    </tr>\n",
       "    <tr>\n",
       "      <th>top</th>\n",
       "      <td>12/1/2015</td>\n",
       "      <td>DES MOINES</td>\n",
       "      <td>50010</td>\n",
       "      <td>Polk</td>\n",
       "      <td>VODKA 80 PROOF</td>\n",
       "      <td>Black Velvet</td>\n",
       "      <td>$8.25</td>\n",
       "      <td>$12.38</td>\n",
       "      <td>$162.00</td>\n",
       "    </tr>\n",
       "    <tr>\n",
       "      <th>freq</th>\n",
       "      <td>1555</td>\n",
       "      <td>23724</td>\n",
       "      <td>7091</td>\n",
       "      <td>49102</td>\n",
       "      <td>35373</td>\n",
       "      <td>7233</td>\n",
       "      <td>6160</td>\n",
       "      <td>6160</td>\n",
       "      <td>3482</td>\n",
       "    </tr>\n",
       "  </tbody>\n",
       "</table>\n",
       "</div>"
      ],
      "text/plain": [
       "             Date        City Zip Code  County   Category Name  \\\n",
       "count      270955      270955   270955  269878          270323   \n",
       "unique        274         385      415      99              71   \n",
       "top     12/1/2015  DES MOINES    50010    Polk  VODKA 80 PROOF   \n",
       "freq         1555       23724     7091   49102           35373   \n",
       "\n",
       "       Item Description State Bottle Cost State Bottle Retail Sale (Dollars)  \n",
       "count            270955            270955              270955         270955  \n",
       "unique             2173              1086                1112           6580  \n",
       "top        Black Velvet            $8.25              $12.38        $162.00   \n",
       "freq               7233              6160                6160           3482  "
      ]
     },
     "execution_count": 8,
     "metadata": {},
     "output_type": "execute_result"
    }
   ],
   "source": [
    "df.describe(include=['object'])\n",
    "#describes the non-numeric velues"
   ]
  },
  {
   "cell_type": "code",
   "execution_count": 9,
   "metadata": {
    "scrolled": true
   },
   "outputs": [
    {
     "data": {
      "text/plain": [
       "0      11/4/2015\n",
       "1       3/2/2016\n",
       "2      2/11/2016\n",
       "3       2/3/2016\n",
       "4      8/18/2015\n",
       "5      4/20/2015\n",
       "6       8/5/2015\n",
       "7      6/25/2015\n",
       "8       1/4/2016\n",
       "9     11/10/2015\n",
       "10     9/28/2015\n",
       "11    10/28/2015\n",
       "12     1/22/2015\n",
       "13     2/29/2016\n",
       "14      1/4/2016\n",
       "15     6/10/2015\n",
       "16     2/25/2016\n",
       "17    12/29/2015\n",
       "18    12/26/2015\n",
       "19      3/4/2015\n",
       "20     1/16/2015\n",
       "21     1/13/2015\n",
       "22     3/24/2015\n",
       "23    11/12/2015\n",
       "24     3/14/2016\n",
       "25      2/3/2015\n",
       "26    11/23/2015\n",
       "27     4/21/2015\n",
       "28     12/1/2015\n",
       "29     1/14/2015\n",
       "30      4/1/2015\n",
       "31     1/12/2015\n",
       "32     1/16/2015\n",
       "33     1/13/2015\n",
       "34     6/29/2015\n",
       "35      4/2/2015\n",
       "36     4/20/2015\n",
       "37      6/3/2015\n",
       "38     1/27/2016\n",
       "39      3/7/2016\n",
       "40     3/31/2015\n",
       "41     2/23/2015\n",
       "42    10/21/2015\n",
       "43    10/28/2015\n",
       "44     1/28/2016\n",
       "45     4/14/2015\n",
       "46      8/6/2015\n",
       "47     6/29/2015\n",
       "48     1/27/2016\n",
       "49     1/26/2015\n",
       "Name: Date, dtype: object"
      ]
     },
     "execution_count": 9,
     "metadata": {},
     "output_type": "execute_result"
    }
   ],
   "source": [
    "df['Date'].head(50)"
   ]
  },
  {
   "cell_type": "code",
   "execution_count": 10,
   "metadata": {
    "collapsed": true
   },
   "outputs": [],
   "source": [
    "# Creating new columns with the year broken out\n",
    "df['year'] = pd.DatetimeIndex(df['Date']).year\n"
   ]
  },
  {
   "cell_type": "code",
   "execution_count": 11,
   "metadata": {},
   "outputs": [
    {
     "data": {
      "text/plain": [
       "2015    218594\n",
       "2016     52361\n",
       "Name: year, dtype: int64"
      ]
     },
     "execution_count": 11,
     "metadata": {},
     "output_type": "execute_result"
    }
   ],
   "source": [
    "df['year'].value_counts()"
   ]
  },
  {
   "cell_type": "code",
   "execution_count": 12,
   "metadata": {
    "collapsed": true
   },
   "outputs": [],
   "source": [
    "# Creating new columns with the month broken out\n",
    "df['month'] = pd.DatetimeIndex(df['Date']).month"
   ]
  },
  {
   "cell_type": "code",
   "execution_count": 13,
   "metadata": {
    "collapsed": true
   },
   "outputs": [],
   "source": [
    "#I'm using this code to remove the dollar signs and the commas from the curreny\n",
    "# columns\n",
    "df['State Bottle Cost'] = df['State Bottle Cost'].str.replace(',','')\n",
    "df['State Bottle Cost'] = df['State Bottle Cost'].str.replace('$','')\n",
    "df['State Bottle Retail'] = df['State Bottle Retail'].str.replace(',','')\n",
    "df['State Bottle Retail'] = df['State Bottle Retail'].str.replace('$','')\n",
    "df['Sale (Dollars)'] = df['Sale (Dollars)'].str.replace(',','')\n",
    "df['Sale (Dollars)'] = df['Sale (Dollars)'].str.replace('$','')\n",
    "df['State Bottle Cost'] = df['State Bottle Cost'].astype('float')\n",
    "df['State Bottle Retail'] = df['State Bottle Retail'].astype('float')\n",
    "df['Sale (Dollars)'] = df['Sale (Dollars)'].astype('float')\n"
   ]
  },
  {
   "cell_type": "code",
   "execution_count": 14,
   "metadata": {},
   "outputs": [
    {
     "data": {
      "text/plain": [
       "year\n",
       "2015    1469046\n",
       "2016     108211\n",
       "Name: month, dtype: int64"
      ]
     },
     "execution_count": 14,
     "metadata": {},
     "output_type": "execute_result"
    }
   ],
   "source": [
    "df['month'].groupby(df['year']).sum()"
   ]
  },
  {
   "cell_type": "code",
   "execution_count": 15,
   "metadata": {},
   "outputs": [
    {
     "data": {
      "text/plain": [
       "year  month\n",
       "2015  1        1858000.63\n",
       "      2        2037903.48\n",
       "      3        2257891.78\n",
       "      4        2302566.62\n",
       "      5        2259716.10\n",
       "      6        2754960.95\n",
       "      7        2175922.14\n",
       "      8        2164753.72\n",
       "      9        2387918.92\n",
       "      10       2810088.85\n",
       "      11       2460865.60\n",
       "      12       3056656.60\n",
       "2016  1        1880583.53\n",
       "      2        2214465.01\n",
       "      3        2304449.02\n",
       "Name: Sale (Dollars), dtype: float64"
      ]
     },
     "execution_count": 15,
     "metadata": {},
     "output_type": "execute_result"
    }
   ],
   "source": [
    "df.groupby(['year','month'])['Sale (Dollars)'].sum()"
   ]
  },
  {
   "cell_type": "code",
   "execution_count": 16,
   "metadata": {
    "scrolled": true
   },
   "outputs": [
    {
     "data": {
      "text/plain": [
       "0         2015-11\n",
       "1          2016-3\n",
       "2          2016-2\n",
       "3          2016-2\n",
       "4          2015-8\n",
       "5          2015-4\n",
       "6          2015-8\n",
       "7          2015-6\n",
       "8          2016-1\n",
       "9         2015-11\n",
       "10         2015-9\n",
       "11        2015-10\n",
       "12         2015-1\n",
       "13         2016-2\n",
       "14         2016-1\n",
       "15         2015-6\n",
       "16         2016-2\n",
       "17        2015-12\n",
       "18        2015-12\n",
       "19         2015-3\n",
       "20         2015-1\n",
       "21         2015-1\n",
       "22         2015-3\n",
       "23        2015-11\n",
       "24         2016-3\n",
       "25         2015-2\n",
       "26        2015-11\n",
       "27         2015-4\n",
       "28        2015-12\n",
       "29         2015-1\n",
       "           ...   \n",
       "270925     2015-1\n",
       "270926    2015-12\n",
       "270927     2015-8\n",
       "270928    2015-10\n",
       "270929     2016-1\n",
       "270930    2015-10\n",
       "270931     2015-5\n",
       "270932     2015-6\n",
       "270933     2015-2\n",
       "270934     2015-3\n",
       "270935     2015-6\n",
       "270936     2015-3\n",
       "270937     2015-1\n",
       "270938     2015-4\n",
       "270939     2015-5\n",
       "270940     2015-1\n",
       "270941     2015-2\n",
       "270942     2015-6\n",
       "270943    2015-10\n",
       "270944     2016-3\n",
       "270945     2015-6\n",
       "270946    2015-11\n",
       "270947     2015-5\n",
       "270948     2015-4\n",
       "270949     2015-7\n",
       "270950    2015-12\n",
       "270951    2015-11\n",
       "270952    2015-10\n",
       "270953    2015-11\n",
       "270954     2015-1\n",
       "Name: month_year, Length: 270955, dtype: object"
      ]
     },
     "execution_count": 16,
     "metadata": {},
     "output_type": "execute_result"
    }
   ],
   "source": [
    "df['month_year'] =  df['year'].astype('str')+\"-\"+ df['month'].astype('str')\n",
    "df['month_year']\n",
    "#df['Sale (Dollars)'] = df['Sale (Dollars)'].astype('float')"
   ]
  },
  {
   "cell_type": "code",
   "execution_count": 17,
   "metadata": {},
   "outputs": [
    {
     "data": {
      "text/plain": [
       "\"def label_quarter (row):\\n    if row['month_year'] == '2015-1' :\\n        return '2015_Q1'\\n    if row['month_year'] == '2015-2' :\\n        return '2015_Q1'\\n    if row['month_year'] == '2015-3' :\\n        return '2015_Q1'\\n    if row['month_year'] == '2015-4' :\\n        return '2015_Q2'\\n    if row['month_year'] == '2015-5' :\\n        return '2015_Q2'\\n    if row['month_year'] == '2015-6' :\\n        return '2015_Q2'\\n    if row['month_year'] == '2015-7' :\\n        return '2015_Q3'\\n    if row['month_year'] == '2015-8' :\\n        return '2015_Q3'\\n    if row['month_year'] == '2015-9' :\\n        return '2015_Q3'\\n    if row['month_year'] == '2015-10' :\\n        return '2015_Q4'\\n    if row['month_year'] == '2015-11' :\\n        return '2015_Q4'\\n    if row['month_year'] == '2015-12' :\\n        return '2015_Q4'\\n    if row['month_year'] == '2016-1' :\\n        return '2016_Q1'\\n    if row['month_year'] == '2016-2' :\\n        return '2016_Q1'\\n    if row['month_year'] == '2016-3' :\\n        return '2016_Q1'\\n    return 'Other'\\ndf.apply (lambda row: label_quarter (row),axis=1)\""
      ]
     },
     "execution_count": 17,
     "metadata": {},
     "output_type": "execute_result"
    }
   ],
   "source": [
    "\"\"\"def label_quarter (row):\n",
    "    if row['month_year'] == '2015-1' :\n",
    "        return '2015_Q1'\n",
    "    if row['month_year'] == '2015-2' :\n",
    "        return '2015_Q1'\n",
    "    if row['month_year'] == '2015-3' :\n",
    "        return '2015_Q1'\n",
    "    if row['month_year'] == '2015-4' :\n",
    "        return '2015_Q2'\n",
    "    if row['month_year'] == '2015-5' :\n",
    "        return '2015_Q2'\n",
    "    if row['month_year'] == '2015-6' :\n",
    "        return '2015_Q2'\n",
    "    if row['month_year'] == '2015-7' :\n",
    "        return '2015_Q3'\n",
    "    if row['month_year'] == '2015-8' :\n",
    "        return '2015_Q3'\n",
    "    if row['month_year'] == '2015-9' :\n",
    "        return '2015_Q3'\n",
    "    if row['month_year'] == '2015-10' :\n",
    "        return '2015_Q4'\n",
    "    if row['month_year'] == '2015-11' :\n",
    "        return '2015_Q4'\n",
    "    if row['month_year'] == '2015-12' :\n",
    "        return '2015_Q4'\n",
    "    if row['month_year'] == '2016-1' :\n",
    "        return '2016_Q1'\n",
    "    if row['month_year'] == '2016-2' :\n",
    "        return '2016_Q1'\n",
    "    if row['month_year'] == '2016-3' :\n",
    "        return '2016_Q1'\n",
    "    return 'Other'\n",
    "df.apply (lambda row: label_quarter (row),axis=1)\"\"\""
   ]
  },
  {
   "cell_type": "code",
   "execution_count": 18,
   "metadata": {},
   "outputs": [
    {
     "data": {
      "text/plain": [
       "Index(['Date', 'Store Number', 'City', 'Zip Code', 'County Number', 'County',\n",
       "       'Category', 'Category Name', 'Vendor Number', 'Item Number',\n",
       "       'Item Description', 'Bottle Volume (ml)', 'State Bottle Cost',\n",
       "       'State Bottle Retail', 'Bottles Sold', 'Sale (Dollars)',\n",
       "       'Volume Sold (Liters)', 'Volume Sold (Gallons)', 'year', 'month',\n",
       "       'month_year'],\n",
       "      dtype='object')"
      ]
     },
     "execution_count": 18,
     "metadata": {},
     "output_type": "execute_result"
    }
   ],
   "source": [
    "df.columns"
   ]
  },
  {
   "cell_type": "code",
   "execution_count": 20,
   "metadata": {},
   "outputs": [
    {
     "data": {
      "text/plain": [
       "\"def label_quarter(item):   \\n    try: \\n        if  '2015-1' = item:\\n            return '2015_Q1'\\n        elif '2015-2' in item:\\n            return '2015_Q1'\\n        elif '2015-3' in item:\\n            return '2015_Q1'\\n        elif '2015-4' in item:\\n            return '2015_Q2'\\n        elif '2015-5' in item:\\n            return '2015_Q2'\\n        elif '2015-6' in item:\\n            return '2015_Q2'\\n        elif '2015-7'  in item:\\n            return '2015_Q3'\\n        elif '2015-8' in item:\\n            return '2015_Q3'\\n        elif '2015-9'  in item:\\n            return '2015_Q3'\\n        elif '2015-10' in item:\\n            return '2015_Q4'\\n        elif '2015-11'  in item:\\n            return '2015_Q4'\\n        elif '2015-12' in item:\\n            return '2015_Q4'\\n        elif '2016-1'  in item:\\n            return '2016_Q1'\\n        elif '2016-2' in item:\\n            return '2016_Q1'\\n        elif '2016-3' in item:\\n            return '2016_Q1'\\n        else: \\n            'OTHER'\\n    except:\\n        pass\""
      ]
     },
     "execution_count": 20,
     "metadata": {},
     "output_type": "execute_result"
    }
   ],
   "source": [
    "\"\"\"def label_quarter(item):   \n",
    "    try: \n",
    "        if  '2015-1' = item:\n",
    "            return '2015_Q1'\n",
    "        elif '2015-2' in item:\n",
    "            return '2015_Q1'\n",
    "        elif '2015-3' in item:\n",
    "            return '2015_Q1'\n",
    "        elif '2015-4' in item:\n",
    "            return '2015_Q2'\n",
    "        elif '2015-5' in item:\n",
    "            return '2015_Q2'\n",
    "        elif '2015-6' in item:\n",
    "            return '2015_Q2'\n",
    "        elif '2015-7'  in item:\n",
    "            return '2015_Q3'\n",
    "        elif '2015-8' in item:\n",
    "            return '2015_Q3'\n",
    "        elif '2015-9'  in item:\n",
    "            return '2015_Q3'\n",
    "        elif '2015-10' in item:\n",
    "            return '2015_Q4'\n",
    "        elif '2015-11'  in item:\n",
    "            return '2015_Q4'\n",
    "        elif '2015-12' in item:\n",
    "            return '2015_Q4'\n",
    "        elif '2016-1'  in item:\n",
    "            return '2016_Q1'\n",
    "        elif '2016-2' in item:\n",
    "            return '2016_Q1'\n",
    "        elif '2016-3' in item:\n",
    "            return '2016_Q1'\n",
    "        else: \n",
    "            'OTHER'\n",
    "    except:\n",
    "        pass\"\"\""
   ]
  },
  {
   "cell_type": "code",
   "execution_count": 21,
   "metadata": {},
   "outputs": [
    {
     "ename": "NameError",
     "evalue": "name 'label_quarter' is not defined",
     "output_type": "error",
     "traceback": [
      "\u001b[1;31m---------------------------------------------------------------------------\u001b[0m",
      "\u001b[1;31mNameError\u001b[0m                                 Traceback (most recent call last)",
      "\u001b[1;32m<ipython-input-21-196ed14c7480>\u001b[0m in \u001b[0;36m<module>\u001b[1;34m()\u001b[0m\n\u001b[1;32m----> 1\u001b[1;33m \u001b[0mprint\u001b[0m\u001b[1;33m(\u001b[0m\u001b[0mlabel_quarter\u001b[0m\u001b[1;33m(\u001b[0m\u001b[0mdf\u001b[0m\u001b[1;33m[\u001b[0m\u001b[1;34m'month_year'\u001b[0m\u001b[1;33m]\u001b[0m\u001b[1;33m)\u001b[0m\u001b[1;33m)\u001b[0m\u001b[1;33m\u001b[0m\u001b[0m\n\u001b[0m",
      "\u001b[1;31mNameError\u001b[0m: name 'label_quarter' is not defined"
     ]
    }
   ],
   "source": [
    "print(label_quarter(df['month_year']))"
   ]
  },
  {
   "cell_type": "code",
   "execution_count": null,
   "metadata": {
    "collapsed": true
   },
   "outputs": [],
   "source": []
  },
  {
   "cell_type": "code",
   "execution_count": 22,
   "metadata": {},
   "outputs": [
    {
     "ename": "NameError",
     "evalue": "name 'label_quarter' is not defined",
     "output_type": "error",
     "traceback": [
      "\u001b[1;31m---------------------------------------------------------------------------\u001b[0m",
      "\u001b[1;31mNameError\u001b[0m                                 Traceback (most recent call last)",
      "\u001b[1;32m<ipython-input-22-1a8cb94c51da>\u001b[0m in \u001b[0;36m<module>\u001b[1;34m()\u001b[0m\n\u001b[0;32m      1\u001b[0m \u001b[1;31m#df['label_quarter'] = df.apply (lambda row: label_quarter (row),axis=1)\u001b[0m\u001b[1;33m\u001b[0m\u001b[1;33m\u001b[0m\u001b[0m\n\u001b[1;32m----> 2\u001b[1;33m \u001b[0mdf\u001b[0m\u001b[1;33m[\u001b[0m\u001b[1;34m'month_year2'\u001b[0m\u001b[1;33m]\u001b[0m \u001b[1;33m=\u001b[0m \u001b[0mdf\u001b[0m\u001b[1;33m[\u001b[0m\u001b[1;34m'month_year'\u001b[0m\u001b[1;33m]\u001b[0m\u001b[1;33m.\u001b[0m\u001b[0mapply\u001b[0m\u001b[1;33m(\u001b[0m\u001b[0mlabel_quarter\u001b[0m\u001b[1;33m)\u001b[0m\u001b[1;33m\u001b[0m\u001b[0m\n\u001b[0m",
      "\u001b[1;31mNameError\u001b[0m: name 'label_quarter' is not defined"
     ]
    }
   ],
   "source": [
    "#df['label_quarter'] = df.apply (lambda row: label_quarter (row),axis=1)\n",
    "df['month_year2'] = df['month_year'].apply(label_quarter)"
   ]
  },
  {
   "cell_type": "code",
   "execution_count": 23,
   "metadata": {},
   "outputs": [
    {
     "data": {
      "text/plain": [
       "0     2015-11\n",
       "1      2016-3\n",
       "2      2016-2\n",
       "3      2016-2\n",
       "4      2015-8\n",
       "5      2015-4\n",
       "6      2015-8\n",
       "7      2015-6\n",
       "8      2016-1\n",
       "9     2015-11\n",
       "10     2015-9\n",
       "11    2015-10\n",
       "12     2015-1\n",
       "13     2016-2\n",
       "14     2016-1\n",
       "15     2015-6\n",
       "16     2016-2\n",
       "17    2015-12\n",
       "18    2015-12\n",
       "19     2015-3\n",
       "20     2015-1\n",
       "21     2015-1\n",
       "22     2015-3\n",
       "23    2015-11\n",
       "24     2016-3\n",
       "25     2015-2\n",
       "26    2015-11\n",
       "27     2015-4\n",
       "28    2015-12\n",
       "29     2015-1\n",
       "30     2015-4\n",
       "31     2015-1\n",
       "32     2015-1\n",
       "33     2015-1\n",
       "34     2015-6\n",
       "35     2015-4\n",
       "36     2015-4\n",
       "37     2015-6\n",
       "38     2016-1\n",
       "39     2016-3\n",
       "40     2015-3\n",
       "41     2015-2\n",
       "42    2015-10\n",
       "43    2015-10\n",
       "44     2016-1\n",
       "45     2015-4\n",
       "46     2015-8\n",
       "47     2015-6\n",
       "48     2016-1\n",
       "49     2015-1\n",
       "50     2015-6\n",
       "51     2015-4\n",
       "52     2015-1\n",
       "53     2015-7\n",
       "54     2015-9\n",
       "55     2015-3\n",
       "56     2015-6\n",
       "57     2016-2\n",
       "58     2015-9\n",
       "59     2015-7\n",
       "Name: month_year, dtype: object"
      ]
     },
     "execution_count": 23,
     "metadata": {},
     "output_type": "execute_result"
    }
   ],
   "source": [
    "df['month_year'].head(60)\n"
   ]
  },
  {
   "cell_type": "code",
   "execution_count": 24,
   "metadata": {},
   "outputs": [
    {
     "name": "stdout",
     "output_type": "stream",
     "text": [
      "VODKA 80 PROOF                        35373\n",
      "CANADIAN WHISKIES                     27087\n",
      "STRAIGHT BOURBON WHISKIES             15342\n",
      "SPICED RUM                            14631\n",
      "VODKA FLAVORED                        14001\n",
      "TEQUILA                               12109\n",
      "BLENDED WHISKIES                      11547\n",
      "WHISKEY LIQUEUR                       10902\n",
      "IMPORTED VODKA                        10668\n",
      "PUERTO RICO & VIRGIN ISLANDS RUM      10062\n",
      "FLAVORED RUM                           7282\n",
      "TENNESSEE WHISKIES                     7081\n",
      "AMERICAN COCKTAILS                     6929\n",
      "AMERICAN GRAPE BRANDIES                6589\n",
      "AMERICAN DRY GINS                      6559\n",
      "IMPORTED VODKA - MISC                  6506\n",
      "MISC. IMPORTED CORDIALS & LIQUEURS     6299\n",
      "CREAM LIQUEURS                         6284\n",
      "SCOTCH WHISKIES                        5375\n",
      "IMPORTED GRAPE BRANDIES                4614\n",
      "IMPORTED SCHNAPPS                      4249\n",
      "MISC. AMERICAN CORDIALS & LIQUEURS     3394\n",
      "100 PROOF VODKA                        3304\n",
      "PEPPERMINT SCHNAPPS                    3221\n",
      "IMPORTED DRY GINS                      2939\n",
      "IRISH WHISKIES                         2791\n",
      "SINGLE MALT SCOTCH                     2288\n",
      "COFFEE LIQUEURS                        1914\n",
      "PEACH SCHNAPPS                         1650\n",
      "BLACKBERRY BRANDIES                    1580\n",
      "                                      ...  \n",
      "AMERICAN ALCOHOL                        573\n",
      "WATERMELON SCHNAPPS                     479\n",
      "BARBADOS RUM                            393\n",
      "JAMAICA RUM                             385\n",
      "GRAPE SCHNAPPS                          333\n",
      "CHERRY BRANDIES                         330\n",
      "ROOT BEER SCHNAPPS                      324\n",
      "SINGLE BARREL BOURBON WHISKIES          319\n",
      "RASPBERRY SCHNAPPS                      304\n",
      "STRAWBERRY SCHNAPPS                     302\n",
      "IMPORTED AMARETTO                       276\n",
      "GREEN CREME DE MENTHE                   259\n",
      "FLAVORED GINS                           250\n",
      "TROPICAL FRUIT SCHNAPPS                 235\n",
      "WHITE CREME DE CACAO                    201\n",
      "BOTTLED IN BOND BOURBON                 190\n",
      "AMERICAN SLOE GINS                      169\n",
      "DARK CREME DE CACAO                     157\n",
      "MISCELLANEOUS  BRANDIES                 144\n",
      "SPEARMINT SCHNAPPS                       99\n",
      "ROCK & RYE                               86\n",
      "OTHER PROOF VODKA                        78\n",
      "WHITE CREME DE MENTHE                    61\n",
      "CREME DE ALMOND                          52\n",
      "ANISETTE                                 35\n",
      "JAPANESE WHISKY                          23\n",
      "LOW PROOF VODKA                          15\n",
      "CORN WHISKIES                            12\n",
      "AMARETTO - IMPORTED                       3\n",
      "HIGH PROOF BEER - AMERICAN                2\n",
      "Name: Category Name, Length: 71, dtype: int64\n"
     ]
    }
   ],
   "source": [
    "# Seeing a wide variation in the  amount of liquor sold by cat.  Probably irrelevant\n",
    "print(df['Category Name'].value_counts())"
   ]
  },
  {
   "cell_type": "code",
   "execution_count": 25,
   "metadata": {
    "collapsed": true
   },
   "outputs": [],
   "source": [
    "def categorize(item):   \n",
    "    try: \n",
    "        if 'VODKA' in item:\n",
    "            return 'VODKA'\n",
    "        elif 'RUM' in item:\n",
    "            return 'RUM'\n",
    "        elif 'WHISK' in item:\n",
    "            return 'WHISKIE'\n",
    "        elif 'BRANDIE' in item:\n",
    "            return 'BRANDIE'\n",
    "        elif 'GIN' in item:\n",
    "            return 'GIN'\n",
    "        elif 'SCHNAP' in item:\n",
    "            return 'SCHNAPPS'\n",
    "        elif 'SCOTCH' in item:\n",
    "            return 'SCOTCH'\n",
    "        elif 'TEQUILA' in item:\n",
    "            return 'TEQUILA'\n",
    "        else: \n",
    "            'OTHER'\n",
    "    except:\n",
    "        pass"
   ]
  },
  {
   "cell_type": "code",
   "execution_count": 26,
   "metadata": {
    "collapsed": true
   },
   "outputs": [],
   "source": [
    "categorize(df['Category Name'])"
   ]
  },
  {
   "cell_type": "code",
   "execution_count": 27,
   "metadata": {
    "collapsed": true
   },
   "outputs": [],
   "source": [
    "df['liquor types'] = df['Category Name'].apply(categorize)"
   ]
  },
  {
   "cell_type": "code",
   "execution_count": 28,
   "metadata": {},
   "outputs": [
    {
     "data": {
      "text/plain": [
       "0          BRANDIE\n",
       "1          WHISKIE\n",
       "2          WHISKIE\n",
       "3             None\n",
       "4            VODKA\n",
       "5              GIN\n",
       "6          BRANDIE\n",
       "7          WHISKIE\n",
       "8            VODKA\n",
       "9         SCHNAPPS\n",
       "10         WHISKIE\n",
       "11            None\n",
       "12         WHISKIE\n",
       "13        SCHNAPPS\n",
       "14           VODKA\n",
       "15         BRANDIE\n",
       "16           VODKA\n",
       "17           VODKA\n",
       "18            None\n",
       "19         WHISKIE\n",
       "20           VODKA\n",
       "21         WHISKIE\n",
       "22         WHISKIE\n",
       "23         TEQUILA\n",
       "24           VODKA\n",
       "25         WHISKIE\n",
       "26         WHISKIE\n",
       "27         WHISKIE\n",
       "28           VODKA\n",
       "29         WHISKIE\n",
       "            ...   \n",
       "270925        None\n",
       "270926     TEQUILA\n",
       "270927       VODKA\n",
       "270928       VODKA\n",
       "270929       VODKA\n",
       "270930       VODKA\n",
       "270931        None\n",
       "270932     WHISKIE\n",
       "270933         RUM\n",
       "270934     BRANDIE\n",
       "270935     WHISKIE\n",
       "270936     TEQUILA\n",
       "270937        None\n",
       "270938       VODKA\n",
       "270939       VODKA\n",
       "270940     WHISKIE\n",
       "270941       VODKA\n",
       "270942     WHISKIE\n",
       "270943     WHISKIE\n",
       "270944        None\n",
       "270945         RUM\n",
       "270946       VODKA\n",
       "270947         RUM\n",
       "270948         RUM\n",
       "270949       VODKA\n",
       "270950     TEQUILA\n",
       "270951     WHISKIE\n",
       "270952     WHISKIE\n",
       "270953        None\n",
       "270954       VODKA\n",
       "Name: liquor types, Length: 270955, dtype: object"
      ]
     },
     "execution_count": 28,
     "metadata": {},
     "output_type": "execute_result"
    }
   ],
   "source": [
    "df['liquor types']"
   ]
  },
  {
   "cell_type": "code",
   "execution_count": 29,
   "metadata": {},
   "outputs": [
    {
     "name": "stdout",
     "output_type": "stream",
     "text": [
      "DES MOINES         23724\n",
      "CEDAR RAPIDS       18888\n",
      "DAVENPORT          11580\n",
      "WATERLOO            8425\n",
      "COUNCIL BLUFFS      8060\n",
      "SIOUX CITY          7992\n",
      "IOWA CITY           7951\n",
      "AMES                7548\n",
      "WEST DES MOINES     7162\n",
      "DUBUQUE             6915\n",
      "CEDAR FALLS         5735\n",
      "ANKENY              4836\n",
      "MASON CITY          4191\n",
      "BETTENDORF          3709\n",
      "CORALVILLE          3490\n",
      "MUSCATINE           3397\n",
      "BURLINGTON          3144\n",
      "CLINTON             3111\n",
      "FORT DODGE          2989\n",
      "WINDSOR HEIGHTS     2811\n",
      "MARSHALLTOWN        2694\n",
      "NEWTON              2544\n",
      "STORM LAKE          2533\n",
      "MARION              2489\n",
      "URBANDALE           2438\n",
      "OTTUMWA             2295\n",
      "JOHNSTON            2141\n",
      "ALTOONA             2113\n",
      "CLEAR LAKE          2083\n",
      "SPENCER             1910\n",
      "                   ...  \n",
      "BUSSEY                16\n",
      "VAN METER             15\n",
      "SCHALLER              15\n",
      "DANVILLE              15\n",
      "WASHBURN              15\n",
      "GOLDFIELD             15\n",
      "ALTA                  14\n",
      "WALL LAKE             14\n",
      "DOWS                  13\n",
      "AFTON                 12\n",
      "SULLY                 12\n",
      "AURELIA               11\n",
      "DELHI                 11\n",
      "LOVILIA               11\n",
      "MERRILL               10\n",
      "MINDEN                 9\n",
      "STANWOOD               9\n",
      "LATIMER                9\n",
      "EVERLY                 7\n",
      "MELBOURNE              6\n",
      "Cumming                6\n",
      "FONDA                  6\n",
      "SEYMOUR                6\n",
      "GILBERTVILLE           6\n",
      "GRISWOLD               5\n",
      "RUNNELLS               3\n",
      "LOHRVILLE              3\n",
      "TABOR                  3\n",
      "ROBINS                 2\n",
      "Carroll                1\n",
      "Name: City, Length: 385, dtype: int64\n"
     ]
    }
   ],
   "source": [
    "print(df['City'].value_counts())\n",
    "# investigating how many records for each city"
   ]
  },
  {
   "cell_type": "code",
   "execution_count": 30,
   "metadata": {
    "collapsed": true
   },
   "outputs": [],
   "source": [
    "#need to change dollars to float\n",
    "df['Sale (Dollars)'] = df['Sale (Dollars)'].astype('float') \n"
   ]
  },
  {
   "cell_type": "code",
   "execution_count": 31,
   "metadata": {
    "collapsed": true
   },
   "outputs": [],
   "source": [
    "DESMOINES = pd.get_dummies(df['City']=='DES MOINES',prefix ='DES_MOINES',drop_first=True)"
   ]
  },
  {
   "cell_type": "code",
   "execution_count": 32,
   "metadata": {
    "collapsed": true
   },
   "outputs": [],
   "source": [
    "df = pd.concat([df,DESMOINES], axis=1)"
   ]
  },
  {
   "cell_type": "code",
   "execution_count": 33,
   "metadata": {
    "collapsed": true
   },
   "outputs": [],
   "source": [
    "CEDAR_RAP = pd.get_dummies(df['City']=='CEDAR RAPIDS',prefix ='CEDAR_RAP',drop_first=True)"
   ]
  },
  {
   "cell_type": "code",
   "execution_count": 34,
   "metadata": {
    "collapsed": true
   },
   "outputs": [],
   "source": [
    "df = pd.concat([df,CEDAR_RAP], axis=1)"
   ]
  },
  {
   "cell_type": "code",
   "execution_count": 35,
   "metadata": {
    "collapsed": true
   },
   "outputs": [],
   "source": [
    "DAVENPORT_T = pd.get_dummies(df['City']=='DAVENPORT',prefix ='DAVEN',drop_first=True)"
   ]
  },
  {
   "cell_type": "code",
   "execution_count": 36,
   "metadata": {
    "collapsed": true
   },
   "outputs": [],
   "source": [
    "df = pd.concat([df,DAVENPORT_T], axis=1)"
   ]
  },
  {
   "cell_type": "code",
   "execution_count": 37,
   "metadata": {
    "collapsed": true
   },
   "outputs": [],
   "source": [
    "WATERLOO_T = pd.get_dummies(df['City']=='WATERLOO',prefix ='WATERLOO',drop_first=True)"
   ]
  },
  {
   "cell_type": "code",
   "execution_count": 38,
   "metadata": {
    "collapsed": true
   },
   "outputs": [],
   "source": [
    "df = pd.concat([df,WATERLOO_T], axis=1)"
   ]
  },
  {
   "cell_type": "code",
   "execution_count": 39,
   "metadata": {
    "collapsed": true
   },
   "outputs": [],
   "source": [
    "COUNCIL_BLUFFS_T = pd.get_dummies(df['City']=='COUNCIL BLUFFS',prefix ='COUNCIL_BLUFFS',drop_first=True)"
   ]
  },
  {
   "cell_type": "code",
   "execution_count": 40,
   "metadata": {
    "collapsed": true
   },
   "outputs": [],
   "source": [
    "df = pd.concat([df,COUNCIL_BLUFFS_T], axis=1)"
   ]
  },
  {
   "cell_type": "code",
   "execution_count": 41,
   "metadata": {},
   "outputs": [
    {
     "ename": "KeyError",
     "evalue": "'label_quarter'",
     "output_type": "error",
     "traceback": [
      "\u001b[1;31m---------------------------------------------------------------------------\u001b[0m",
      "\u001b[1;31mKeyError\u001b[0m                                  Traceback (most recent call last)",
      "\u001b[1;32m~\\Anaconda3\\lib\\site-packages\\pandas\\core\\indexes\\base.py\u001b[0m in \u001b[0;36mget_loc\u001b[1;34m(self, key, method, tolerance)\u001b[0m\n\u001b[0;32m   2441\u001b[0m             \u001b[1;32mtry\u001b[0m\u001b[1;33m:\u001b[0m\u001b[1;33m\u001b[0m\u001b[0m\n\u001b[1;32m-> 2442\u001b[1;33m                 \u001b[1;32mreturn\u001b[0m \u001b[0mself\u001b[0m\u001b[1;33m.\u001b[0m\u001b[0m_engine\u001b[0m\u001b[1;33m.\u001b[0m\u001b[0mget_loc\u001b[0m\u001b[1;33m(\u001b[0m\u001b[0mkey\u001b[0m\u001b[1;33m)\u001b[0m\u001b[1;33m\u001b[0m\u001b[0m\n\u001b[0m\u001b[0;32m   2443\u001b[0m             \u001b[1;32mexcept\u001b[0m \u001b[0mKeyError\u001b[0m\u001b[1;33m:\u001b[0m\u001b[1;33m\u001b[0m\u001b[0m\n",
      "\u001b[1;32mpandas\\_libs\\index.pyx\u001b[0m in \u001b[0;36mpandas._libs.index.IndexEngine.get_loc\u001b[1;34m()\u001b[0m\n",
      "\u001b[1;32mpandas\\_libs\\index.pyx\u001b[0m in \u001b[0;36mpandas._libs.index.IndexEngine.get_loc\u001b[1;34m()\u001b[0m\n",
      "\u001b[1;32mpandas\\_libs\\hashtable_class_helper.pxi\u001b[0m in \u001b[0;36mpandas._libs.hashtable.PyObjectHashTable.get_item\u001b[1;34m()\u001b[0m\n",
      "\u001b[1;32mpandas\\_libs\\hashtable_class_helper.pxi\u001b[0m in \u001b[0;36mpandas._libs.hashtable.PyObjectHashTable.get_item\u001b[1;34m()\u001b[0m\n",
      "\u001b[1;31mKeyError\u001b[0m: 'label_quarter'",
      "\nDuring handling of the above exception, another exception occurred:\n",
      "\u001b[1;31mKeyError\u001b[0m                                  Traceback (most recent call last)",
      "\u001b[1;32m<ipython-input-41-e957a301700d>\u001b[0m in \u001b[0;36m<module>\u001b[1;34m()\u001b[0m\n\u001b[1;32m----> 1\u001b[1;33m \u001b[0mquarters\u001b[0m \u001b[1;33m=\u001b[0m \u001b[0mpd\u001b[0m\u001b[1;33m.\u001b[0m\u001b[0mget_dummies\u001b[0m\u001b[1;33m(\u001b[0m\u001b[0mdf\u001b[0m\u001b[1;33m[\u001b[0m\u001b[1;34m'label_quarter'\u001b[0m\u001b[1;33m]\u001b[0m\u001b[1;33m,\u001b[0m\u001b[0mprefix\u001b[0m \u001b[1;33m=\u001b[0m\u001b[1;34m'd'\u001b[0m\u001b[1;33m,\u001b[0m\u001b[0mdrop_first\u001b[0m\u001b[1;33m=\u001b[0m\u001b[1;32mFalse\u001b[0m\u001b[1;33m)\u001b[0m\u001b[1;33m\u001b[0m\u001b[0m\n\u001b[0m",
      "\u001b[1;32m~\\Anaconda3\\lib\\site-packages\\pandas\\core\\frame.py\u001b[0m in \u001b[0;36m__getitem__\u001b[1;34m(self, key)\u001b[0m\n\u001b[0;32m   1962\u001b[0m             \u001b[1;32mreturn\u001b[0m \u001b[0mself\u001b[0m\u001b[1;33m.\u001b[0m\u001b[0m_getitem_multilevel\u001b[0m\u001b[1;33m(\u001b[0m\u001b[0mkey\u001b[0m\u001b[1;33m)\u001b[0m\u001b[1;33m\u001b[0m\u001b[0m\n\u001b[0;32m   1963\u001b[0m         \u001b[1;32melse\u001b[0m\u001b[1;33m:\u001b[0m\u001b[1;33m\u001b[0m\u001b[0m\n\u001b[1;32m-> 1964\u001b[1;33m             \u001b[1;32mreturn\u001b[0m \u001b[0mself\u001b[0m\u001b[1;33m.\u001b[0m\u001b[0m_getitem_column\u001b[0m\u001b[1;33m(\u001b[0m\u001b[0mkey\u001b[0m\u001b[1;33m)\u001b[0m\u001b[1;33m\u001b[0m\u001b[0m\n\u001b[0m\u001b[0;32m   1965\u001b[0m \u001b[1;33m\u001b[0m\u001b[0m\n\u001b[0;32m   1966\u001b[0m     \u001b[1;32mdef\u001b[0m \u001b[0m_getitem_column\u001b[0m\u001b[1;33m(\u001b[0m\u001b[0mself\u001b[0m\u001b[1;33m,\u001b[0m \u001b[0mkey\u001b[0m\u001b[1;33m)\u001b[0m\u001b[1;33m:\u001b[0m\u001b[1;33m\u001b[0m\u001b[0m\n",
      "\u001b[1;32m~\\Anaconda3\\lib\\site-packages\\pandas\\core\\frame.py\u001b[0m in \u001b[0;36m_getitem_column\u001b[1;34m(self, key)\u001b[0m\n\u001b[0;32m   1969\u001b[0m         \u001b[1;31m# get column\u001b[0m\u001b[1;33m\u001b[0m\u001b[1;33m\u001b[0m\u001b[0m\n\u001b[0;32m   1970\u001b[0m         \u001b[1;32mif\u001b[0m \u001b[0mself\u001b[0m\u001b[1;33m.\u001b[0m\u001b[0mcolumns\u001b[0m\u001b[1;33m.\u001b[0m\u001b[0mis_unique\u001b[0m\u001b[1;33m:\u001b[0m\u001b[1;33m\u001b[0m\u001b[0m\n\u001b[1;32m-> 1971\u001b[1;33m             \u001b[1;32mreturn\u001b[0m \u001b[0mself\u001b[0m\u001b[1;33m.\u001b[0m\u001b[0m_get_item_cache\u001b[0m\u001b[1;33m(\u001b[0m\u001b[0mkey\u001b[0m\u001b[1;33m)\u001b[0m\u001b[1;33m\u001b[0m\u001b[0m\n\u001b[0m\u001b[0;32m   1972\u001b[0m \u001b[1;33m\u001b[0m\u001b[0m\n\u001b[0;32m   1973\u001b[0m         \u001b[1;31m# duplicate columns & possible reduce dimensionality\u001b[0m\u001b[1;33m\u001b[0m\u001b[1;33m\u001b[0m\u001b[0m\n",
      "\u001b[1;32m~\\Anaconda3\\lib\\site-packages\\pandas\\core\\generic.py\u001b[0m in \u001b[0;36m_get_item_cache\u001b[1;34m(self, item)\u001b[0m\n\u001b[0;32m   1643\u001b[0m         \u001b[0mres\u001b[0m \u001b[1;33m=\u001b[0m \u001b[0mcache\u001b[0m\u001b[1;33m.\u001b[0m\u001b[0mget\u001b[0m\u001b[1;33m(\u001b[0m\u001b[0mitem\u001b[0m\u001b[1;33m)\u001b[0m\u001b[1;33m\u001b[0m\u001b[0m\n\u001b[0;32m   1644\u001b[0m         \u001b[1;32mif\u001b[0m \u001b[0mres\u001b[0m \u001b[1;32mis\u001b[0m \u001b[1;32mNone\u001b[0m\u001b[1;33m:\u001b[0m\u001b[1;33m\u001b[0m\u001b[0m\n\u001b[1;32m-> 1645\u001b[1;33m             \u001b[0mvalues\u001b[0m \u001b[1;33m=\u001b[0m \u001b[0mself\u001b[0m\u001b[1;33m.\u001b[0m\u001b[0m_data\u001b[0m\u001b[1;33m.\u001b[0m\u001b[0mget\u001b[0m\u001b[1;33m(\u001b[0m\u001b[0mitem\u001b[0m\u001b[1;33m)\u001b[0m\u001b[1;33m\u001b[0m\u001b[0m\n\u001b[0m\u001b[0;32m   1646\u001b[0m             \u001b[0mres\u001b[0m \u001b[1;33m=\u001b[0m \u001b[0mself\u001b[0m\u001b[1;33m.\u001b[0m\u001b[0m_box_item_values\u001b[0m\u001b[1;33m(\u001b[0m\u001b[0mitem\u001b[0m\u001b[1;33m,\u001b[0m \u001b[0mvalues\u001b[0m\u001b[1;33m)\u001b[0m\u001b[1;33m\u001b[0m\u001b[0m\n\u001b[0;32m   1647\u001b[0m             \u001b[0mcache\u001b[0m\u001b[1;33m[\u001b[0m\u001b[0mitem\u001b[0m\u001b[1;33m]\u001b[0m \u001b[1;33m=\u001b[0m \u001b[0mres\u001b[0m\u001b[1;33m\u001b[0m\u001b[0m\n",
      "\u001b[1;32m~\\Anaconda3\\lib\\site-packages\\pandas\\core\\internals.py\u001b[0m in \u001b[0;36mget\u001b[1;34m(self, item, fastpath)\u001b[0m\n\u001b[0;32m   3588\u001b[0m \u001b[1;33m\u001b[0m\u001b[0m\n\u001b[0;32m   3589\u001b[0m             \u001b[1;32mif\u001b[0m \u001b[1;32mnot\u001b[0m \u001b[0misnull\u001b[0m\u001b[1;33m(\u001b[0m\u001b[0mitem\u001b[0m\u001b[1;33m)\u001b[0m\u001b[1;33m:\u001b[0m\u001b[1;33m\u001b[0m\u001b[0m\n\u001b[1;32m-> 3590\u001b[1;33m                 \u001b[0mloc\u001b[0m \u001b[1;33m=\u001b[0m \u001b[0mself\u001b[0m\u001b[1;33m.\u001b[0m\u001b[0mitems\u001b[0m\u001b[1;33m.\u001b[0m\u001b[0mget_loc\u001b[0m\u001b[1;33m(\u001b[0m\u001b[0mitem\u001b[0m\u001b[1;33m)\u001b[0m\u001b[1;33m\u001b[0m\u001b[0m\n\u001b[0m\u001b[0;32m   3591\u001b[0m             \u001b[1;32melse\u001b[0m\u001b[1;33m:\u001b[0m\u001b[1;33m\u001b[0m\u001b[0m\n\u001b[0;32m   3592\u001b[0m                 \u001b[0mindexer\u001b[0m \u001b[1;33m=\u001b[0m \u001b[0mnp\u001b[0m\u001b[1;33m.\u001b[0m\u001b[0marange\u001b[0m\u001b[1;33m(\u001b[0m\u001b[0mlen\u001b[0m\u001b[1;33m(\u001b[0m\u001b[0mself\u001b[0m\u001b[1;33m.\u001b[0m\u001b[0mitems\u001b[0m\u001b[1;33m)\u001b[0m\u001b[1;33m)\u001b[0m\u001b[1;33m[\u001b[0m\u001b[0misnull\u001b[0m\u001b[1;33m(\u001b[0m\u001b[0mself\u001b[0m\u001b[1;33m.\u001b[0m\u001b[0mitems\u001b[0m\u001b[1;33m)\u001b[0m\u001b[1;33m]\u001b[0m\u001b[1;33m\u001b[0m\u001b[0m\n",
      "\u001b[1;32m~\\Anaconda3\\lib\\site-packages\\pandas\\core\\indexes\\base.py\u001b[0m in \u001b[0;36mget_loc\u001b[1;34m(self, key, method, tolerance)\u001b[0m\n\u001b[0;32m   2442\u001b[0m                 \u001b[1;32mreturn\u001b[0m \u001b[0mself\u001b[0m\u001b[1;33m.\u001b[0m\u001b[0m_engine\u001b[0m\u001b[1;33m.\u001b[0m\u001b[0mget_loc\u001b[0m\u001b[1;33m(\u001b[0m\u001b[0mkey\u001b[0m\u001b[1;33m)\u001b[0m\u001b[1;33m\u001b[0m\u001b[0m\n\u001b[0;32m   2443\u001b[0m             \u001b[1;32mexcept\u001b[0m \u001b[0mKeyError\u001b[0m\u001b[1;33m:\u001b[0m\u001b[1;33m\u001b[0m\u001b[0m\n\u001b[1;32m-> 2444\u001b[1;33m                 \u001b[1;32mreturn\u001b[0m \u001b[0mself\u001b[0m\u001b[1;33m.\u001b[0m\u001b[0m_engine\u001b[0m\u001b[1;33m.\u001b[0m\u001b[0mget_loc\u001b[0m\u001b[1;33m(\u001b[0m\u001b[0mself\u001b[0m\u001b[1;33m.\u001b[0m\u001b[0m_maybe_cast_indexer\u001b[0m\u001b[1;33m(\u001b[0m\u001b[0mkey\u001b[0m\u001b[1;33m)\u001b[0m\u001b[1;33m)\u001b[0m\u001b[1;33m\u001b[0m\u001b[0m\n\u001b[0m\u001b[0;32m   2445\u001b[0m \u001b[1;33m\u001b[0m\u001b[0m\n\u001b[0;32m   2446\u001b[0m         \u001b[0mindexer\u001b[0m \u001b[1;33m=\u001b[0m \u001b[0mself\u001b[0m\u001b[1;33m.\u001b[0m\u001b[0mget_indexer\u001b[0m\u001b[1;33m(\u001b[0m\u001b[1;33m[\u001b[0m\u001b[0mkey\u001b[0m\u001b[1;33m]\u001b[0m\u001b[1;33m,\u001b[0m \u001b[0mmethod\u001b[0m\u001b[1;33m=\u001b[0m\u001b[0mmethod\u001b[0m\u001b[1;33m,\u001b[0m \u001b[0mtolerance\u001b[0m\u001b[1;33m=\u001b[0m\u001b[0mtolerance\u001b[0m\u001b[1;33m)\u001b[0m\u001b[1;33m\u001b[0m\u001b[0m\n",
      "\u001b[1;32mpandas\\_libs\\index.pyx\u001b[0m in \u001b[0;36mpandas._libs.index.IndexEngine.get_loc\u001b[1;34m()\u001b[0m\n",
      "\u001b[1;32mpandas\\_libs\\index.pyx\u001b[0m in \u001b[0;36mpandas._libs.index.IndexEngine.get_loc\u001b[1;34m()\u001b[0m\n",
      "\u001b[1;32mpandas\\_libs\\hashtable_class_helper.pxi\u001b[0m in \u001b[0;36mpandas._libs.hashtable.PyObjectHashTable.get_item\u001b[1;34m()\u001b[0m\n",
      "\u001b[1;32mpandas\\_libs\\hashtable_class_helper.pxi\u001b[0m in \u001b[0;36mpandas._libs.hashtable.PyObjectHashTable.get_item\u001b[1;34m()\u001b[0m\n",
      "\u001b[1;31mKeyError\u001b[0m: 'label_quarter'"
     ]
    }
   ],
   "source": [
    "quarters = pd.get_dummies(df['label_quarter'],prefix ='d',drop_first=False)"
   ]
  },
  {
   "cell_type": "code",
   "execution_count": 42,
   "metadata": {},
   "outputs": [
    {
     "ename": "NameError",
     "evalue": "name 'quarters' is not defined",
     "output_type": "error",
     "traceback": [
      "\u001b[1;31m---------------------------------------------------------------------------\u001b[0m",
      "\u001b[1;31mNameError\u001b[0m                                 Traceback (most recent call last)",
      "\u001b[1;32m<ipython-input-42-8f1cafd8e74f>\u001b[0m in \u001b[0;36m<module>\u001b[1;34m()\u001b[0m\n\u001b[1;32m----> 1\u001b[1;33m \u001b[0mdf\u001b[0m \u001b[1;33m=\u001b[0m \u001b[0mpd\u001b[0m\u001b[1;33m.\u001b[0m\u001b[0mconcat\u001b[0m\u001b[1;33m(\u001b[0m\u001b[1;33m[\u001b[0m\u001b[0mdf\u001b[0m\u001b[1;33m,\u001b[0m\u001b[0mquarters\u001b[0m\u001b[1;33m]\u001b[0m\u001b[1;33m,\u001b[0m \u001b[0maxis\u001b[0m\u001b[1;33m=\u001b[0m\u001b[1;36m1\u001b[0m\u001b[1;33m)\u001b[0m\u001b[1;33m\u001b[0m\u001b[0m\n\u001b[0m",
      "\u001b[1;31mNameError\u001b[0m: name 'quarters' is not defined"
     ]
    }
   ],
   "source": [
    "df = pd.concat([df,quarters], axis=1)"
   ]
  },
  {
   "cell_type": "code",
   "execution_count": 43,
   "metadata": {},
   "outputs": [
    {
     "data": {
      "text/plain": [
       "Index(['Date', 'Store Number', 'City', 'Zip Code', 'County Number', 'County',\n",
       "       'Category', 'Category Name', 'Vendor Number', 'Item Number',\n",
       "       'Item Description', 'Bottle Volume (ml)', 'State Bottle Cost',\n",
       "       'State Bottle Retail', 'Bottles Sold', 'Sale (Dollars)',\n",
       "       'Volume Sold (Liters)', 'Volume Sold (Gallons)', 'year', 'month',\n",
       "       'month_year', 'liquor types', 'DES_MOINES_True', 'CEDAR_RAP_True',\n",
       "       'DAVEN_True', 'WATERLOO_True', 'COUNCIL_BLUFFS_True'],\n",
       "      dtype='object')"
      ]
     },
     "execution_count": 43,
     "metadata": {},
     "output_type": "execute_result"
    }
   ],
   "source": [
    "df.columns"
   ]
  },
  {
   "cell_type": "code",
   "execution_count": 44,
   "metadata": {
    "scrolled": true
   },
   "outputs": [
    {
     "data": {
      "text/plain": [
       "Store Number\n",
       "2106     654\n",
       "2113     184\n",
       "2130     509\n",
       "2152     171\n",
       "2178     295\n",
       "2190    1626\n",
       "2191     739\n",
       "2200     485\n",
       "2205     288\n",
       "2228     306\n",
       "2233     290\n",
       "2238      71\n",
       "2248     560\n",
       "2285     358\n",
       "2290    1041\n",
       "2327     234\n",
       "2353     414\n",
       "2367      45\n",
       "2413     606\n",
       "2445     200\n",
       "2448     505\n",
       "2459     133\n",
       "2460     397\n",
       "2465     461\n",
       "2475     106\n",
       "2478     107\n",
       "2487     409\n",
       "2498      76\n",
       "2500    1521\n",
       "2501    1553\n",
       "        ... \n",
       "5211      19\n",
       "5212      28\n",
       "5213      13\n",
       "5214      12\n",
       "5215      56\n",
       "5216       3\n",
       "5217       6\n",
       "5218       2\n",
       "5220      61\n",
       "5222      33\n",
       "5223       3\n",
       "5224      20\n",
       "5225      14\n",
       "5226      13\n",
       "5227      27\n",
       "5229       5\n",
       "5230      65\n",
       "5232       4\n",
       "5233       4\n",
       "5234       3\n",
       "5236      49\n",
       "5237       6\n",
       "5240       7\n",
       "5247       7\n",
       "9001      24\n",
       "9002      49\n",
       "9010      17\n",
       "9013       6\n",
       "9018       1\n",
       "9023       1\n",
       "Length: 1400, dtype: int64"
      ]
     },
     "execution_count": 44,
     "metadata": {},
     "output_type": "execute_result"
    }
   ],
   "source": [
    "df.groupby(['Store Number']).size()"
   ]
  },
  {
   "cell_type": "code",
   "execution_count": 45,
   "metadata": {},
   "outputs": [
    {
     "data": {
      "text/plain": [
       "year  month\n",
       "2015  1        1858000.63\n",
       "      2        2037903.48\n",
       "      3        2257891.78\n",
       "      4        2302566.62\n",
       "      5        2259716.10\n",
       "      6        2754960.95\n",
       "      7        2175922.14\n",
       "      8        2164753.72\n",
       "      9        2387918.92\n",
       "      10       2810088.85\n",
       "      11       2460865.60\n",
       "      12       3056656.60\n",
       "2016  1        1880583.53\n",
       "      2        2214465.01\n",
       "      3        2304449.02\n",
       "Name: Sale (Dollars), dtype: float64"
      ]
     },
     "execution_count": 45,
     "metadata": {},
     "output_type": "execute_result"
    }
   ],
   "source": [
    "df.groupby(['year','month'])['Sale (Dollars)'].sum()"
   ]
  },
  {
   "cell_type": "code",
   "execution_count": 46,
   "metadata": {},
   "outputs": [
    {
     "ename": "NameError",
     "evalue": "name 'store_data' is not defined",
     "output_type": "error",
     "traceback": [
      "\u001b[1;31m---------------------------------------------------------------------------\u001b[0m",
      "\u001b[1;31mNameError\u001b[0m                                 Traceback (most recent call last)",
      "\u001b[1;32m<ipython-input-46-9c5f874b1658>\u001b[0m in \u001b[0;36m<module>\u001b[1;34m()\u001b[0m\n\u001b[1;32m----> 1\u001b[1;33m \u001b[0mgrouped_city\u001b[0m \u001b[1;33m=\u001b[0m \u001b[0mdf\u001b[0m\u001b[1;33m[\u001b[0m\u001b[1;34m'Sale (Dollars)'\u001b[0m\u001b[1;33m]\u001b[0m\u001b[1;33m.\u001b[0m\u001b[0mgroupby\u001b[0m\u001b[1;33m(\u001b[0m\u001b[0mstore_data\u001b[0m\u001b[1;33m[\u001b[0m\u001b[1;34m'City'\u001b[0m\u001b[1;33m]\u001b[0m\u001b[1;33m)\u001b[0m\u001b[1;33m.\u001b[0m\u001b[0msum\u001b[0m\u001b[1;33m(\u001b[0m\u001b[1;33m)\u001b[0m\u001b[1;33m\u001b[0m\u001b[0m\n\u001b[0m\u001b[0;32m      2\u001b[0m \u001b[0mgrouped_city\u001b[0m\u001b[1;33m.\u001b[0m\u001b[0msort_values\u001b[0m\u001b[1;33m(\u001b[0m\u001b[0mascending\u001b[0m\u001b[1;33m=\u001b[0m\u001b[1;32mFalse\u001b[0m\u001b[1;33m)\u001b[0m\u001b[1;33m\u001b[0m\u001b[0m\n",
      "\u001b[1;31mNameError\u001b[0m: name 'store_data' is not defined"
     ]
    }
   ],
   "source": [
    "grouped_city = df['Sale (Dollars)'].groupby(store_data['City']).sum()\n",
    "grouped_city.sort_values(ascending=False)"
   ]
  },
  {
   "cell_type": "code",
   "execution_count": 47,
   "metadata": {},
   "outputs": [
    {
     "ename": "NameError",
     "evalue": "name 'grouped_city' is not defined",
     "output_type": "error",
     "traceback": [
      "\u001b[1;31m---------------------------------------------------------------------------\u001b[0m",
      "\u001b[1;31mNameError\u001b[0m                                 Traceback (most recent call last)",
      "\u001b[1;32m<ipython-input-47-2d8f4aa52b98>\u001b[0m in \u001b[0;36m<module>\u001b[1;34m()\u001b[0m\n\u001b[1;32m----> 1\u001b[1;33m \u001b[0mgrouped_city\u001b[0m\u001b[1;33m.\u001b[0m\u001b[0msort_values\u001b[0m\u001b[1;33m(\u001b[0m\u001b[0mascending\u001b[0m\u001b[1;33m=\u001b[0m\u001b[1;32mFalse\u001b[0m\u001b[1;33m)\u001b[0m\u001b[1;33m.\u001b[0m\u001b[0mplot\u001b[0m\u001b[1;33m(\u001b[0m\u001b[1;33m)\u001b[0m\u001b[1;33m\u001b[0m\u001b[0m\n\u001b[0m\u001b[0;32m      2\u001b[0m \u001b[1;31m# Can see that the there are several cities that have the majority of state sales\u001b[0m\u001b[1;33m\u001b[0m\u001b[1;33m\u001b[0m\u001b[0m\n",
      "\u001b[1;31mNameError\u001b[0m: name 'grouped_city' is not defined"
     ]
    }
   ],
   "source": [
    "grouped_city.sort_values(ascending=False).plot()\n",
    "# Can see that the there are several cities that have the majority of state sales"
   ]
  },
  {
   "cell_type": "code",
   "execution_count": 48,
   "metadata": {},
   "outputs": [
    {
     "ename": "NameError",
     "evalue": "name 'store_data' is not defined",
     "output_type": "error",
     "traceback": [
      "\u001b[1;31m---------------------------------------------------------------------------\u001b[0m",
      "\u001b[1;31mNameError\u001b[0m                                 Traceback (most recent call last)",
      "\u001b[1;32m<ipython-input-48-005525227ff3>\u001b[0m in \u001b[0;36m<module>\u001b[1;34m()\u001b[0m\n\u001b[1;32m----> 1\u001b[1;33m \u001b[0mstore_data\u001b[0m\u001b[1;33m[\u001b[0m\u001b[1;34m'Sale (Dollars)'\u001b[0m\u001b[1;33m]\u001b[0m\u001b[1;33m.\u001b[0m\u001b[0mgroupby\u001b[0m\u001b[1;33m(\u001b[0m\u001b[0mstore_data\u001b[0m\u001b[1;33m[\u001b[0m\u001b[1;34m'County'\u001b[0m\u001b[1;33m]\u001b[0m\u001b[1;33m)\u001b[0m\u001b[1;33m.\u001b[0m\u001b[0msum\u001b[0m\u001b[1;33m(\u001b[0m\u001b[1;33m)\u001b[0m\u001b[1;33m\u001b[0m\u001b[0m\n\u001b[0m\u001b[0;32m      2\u001b[0m \u001b[0mgrouped_county\u001b[0m \u001b[1;33m=\u001b[0m \u001b[0mdf\u001b[0m\u001b[1;33m[\u001b[0m\u001b[1;34m'Sale (Dollars)'\u001b[0m\u001b[1;33m]\u001b[0m\u001b[1;33m.\u001b[0m\u001b[0mgroupby\u001b[0m\u001b[1;33m(\u001b[0m\u001b[0mstore_data\u001b[0m\u001b[1;33m[\u001b[0m\u001b[1;34m'County'\u001b[0m\u001b[1;33m]\u001b[0m\u001b[1;33m)\u001b[0m\u001b[1;33m.\u001b[0m\u001b[0msum\u001b[0m\u001b[1;33m(\u001b[0m\u001b[1;33m)\u001b[0m\u001b[1;33m\u001b[0m\u001b[0m\n\u001b[0;32m      3\u001b[0m \u001b[0mgrouped_county\u001b[0m\u001b[1;33m.\u001b[0m\u001b[0msort_values\u001b[0m\u001b[1;33m(\u001b[0m\u001b[0mascending\u001b[0m\u001b[1;33m=\u001b[0m\u001b[1;32mFalse\u001b[0m\u001b[1;33m)\u001b[0m\u001b[1;33m\u001b[0m\u001b[0m\n",
      "\u001b[1;31mNameError\u001b[0m: name 'store_data' is not defined"
     ]
    }
   ],
   "source": [
    "store_data['Sale (Dollars)'].groupby(store_data['County']).sum()\n",
    "grouped_county = df['Sale (Dollars)'].groupby(store_data['County']).sum()\n",
    "grouped_county.sort_values(ascending=False)"
   ]
  },
  {
   "cell_type": "code",
   "execution_count": 49,
   "metadata": {},
   "outputs": [
    {
     "ename": "NameError",
     "evalue": "name 'grouped_county' is not defined",
     "output_type": "error",
     "traceback": [
      "\u001b[1;31m---------------------------------------------------------------------------\u001b[0m",
      "\u001b[1;31mNameError\u001b[0m                                 Traceback (most recent call last)",
      "\u001b[1;32m<ipython-input-49-dc13ab0739d7>\u001b[0m in \u001b[0;36m<module>\u001b[1;34m()\u001b[0m\n\u001b[1;32m----> 1\u001b[1;33m \u001b[0mgrouped_county\u001b[0m\u001b[1;33m.\u001b[0m\u001b[0msort_values\u001b[0m\u001b[1;33m(\u001b[0m\u001b[0mascending\u001b[0m\u001b[1;33m=\u001b[0m\u001b[1;32mFalse\u001b[0m\u001b[1;33m)\u001b[0m\u001b[1;33m.\u001b[0m\u001b[0mplot\u001b[0m\u001b[1;33m(\u001b[0m\u001b[1;33m)\u001b[0m\u001b[1;33m\u001b[0m\u001b[0m\n\u001b[0m\u001b[0;32m      2\u001b[0m \u001b[1;31m# Can see that the there are several counties that have the majority of state sales\u001b[0m\u001b[1;33m\u001b[0m\u001b[1;33m\u001b[0m\u001b[0m\n",
      "\u001b[1;31mNameError\u001b[0m: name 'grouped_county' is not defined"
     ]
    }
   ],
   "source": [
    "grouped_county.sort_values(ascending=False).plot()\n",
    "# Can see that the there are several counties that have the majority of state sales"
   ]
  },
  {
   "cell_type": "code",
   "execution_count": 50,
   "metadata": {},
   "outputs": [
    {
     "data": {
      "text/plain": [
       "year  month\n",
       "2015  1        1858000.63\n",
       "      2        2037903.48\n",
       "      3        2257891.78\n",
       "      4        2302566.62\n",
       "      5        2259716.10\n",
       "      6        2754960.95\n",
       "      7        2175922.14\n",
       "      8        2164753.72\n",
       "      9        2387918.92\n",
       "      10       2810088.85\n",
       "      11       2460865.60\n",
       "      12       3056656.60\n",
       "2016  1        1880583.53\n",
       "      2        2214465.01\n",
       "      3        2304449.02\n",
       "Name: Sale (Dollars), dtype: float64"
      ]
     },
     "execution_count": 50,
     "metadata": {},
     "output_type": "execute_result"
    }
   ],
   "source": [
    "df.groupby(['year','month'])['Sale (Dollars)'].sum()\n",
    "#fml - motivated to murder pandas"
   ]
  },
  {
   "cell_type": "code",
   "execution_count": 51,
   "metadata": {},
   "outputs": [
    {
     "data": {
      "text/plain": [
       "Black Velvet                                                  7233\n",
       "Hawkeye Vodka                                                 6689\n",
       "Five O'clock Vodka                                            4512\n",
       "Smirnoff Vodka 80 Prf                                         3435\n",
       "Captain Morgan Spiced Rum                                     3356\n",
       "Seagrams 7 Crown Bl Whiskey                                   3280\n",
       "Fireball Cinnamon Whiskey                                     3198\n",
       "Jack Daniels Old #7 Black Lbl                                 3106\n",
       "Absolut Swedish Vodka 80 Prf                                  2918\n",
       "Bacardi Superior Rum                                          2813\n",
       "Admiral Nelson Spiced Rum                                     2811\n",
       "Jim Beam                                                      2725\n",
       "Mccormick Vodka Pet                                           2520\n",
       "Jagermeister Liqueur                                          2420\n",
       "Crown Royal Canadian Whisky                                   2299\n",
       "Five Star                                                     2294\n",
       "Grey Goose Vodka                                              2270\n",
       "Paramount White Rum                                           2261\n",
       "Jose Cuervo Especial Reposado Tequila                         2205\n",
       "Southern Comfort                                              2095\n",
       "Uv Blue (raspberry) Vodka                                     2072\n",
       "Malibu Coconut Rum                                            2021\n",
       "Canadian Ltd Whisky                                           1922\n",
       "Barton Vodka                                                  1817\n",
       "Phillips Vodka                                                1750\n",
       "Paul Masson Grande Amber Brandy                               1723\n",
       "Captain Morgan Original Spiced                                1668\n",
       "New Amsterdam Vodka                                           1636\n",
       "Seagrams Extra Dry Gin                                        1617\n",
       "Hennessy VS                                                   1615\n",
       "                                                              ... \n",
       "Twenty Grand w/100ml Rose                                        1\n",
       "Macallan 12 year                                                 1\n",
       "Don Q 151                                                        1\n",
       "Rondiaz Rum White                                                1\n",
       "Brugal Anejo Rum                                                 1\n",
       "Trader Vic's Chestnut Liqueur                                    1\n",
       "Old Rip Van Winkle 20yr(pappy) HA                                1\n",
       "Appleton Estate Vx                                               1\n",
       "Christian Bros White Frost Brandy                                1\n",
       "Annie's Apple Pie                                                1\n",
       "Agavero Orange Tequila Liqueur                                   1\n",
       "Italian Brandy                                                   1\n",
       "Crown Royal Spec Reserve                                         1\n",
       "Sauza Tres Generaciones Reposado                                 1\n",
       "St. George Terroir Gin                                           1\n",
       "Margaritaville Island Lime Tequila                               1\n",
       "Rogue Hazelnut Spiced Rum                                        1\n",
       "Effen Raspberry Vanilla Vodka                                    1\n",
       "Woodford Reserve MC 1838 White Corn                              1\n",
       "Salvador's Strawberry Margarita 200ml-4Pack                      1\n",
       "Pinnacle Blueberry Vodka                                         1\n",
       "Giffard Creme de Pamplemousse Rose Pink Grapefruit Liqueur       1\n",
       "Menage a Trois                                                   1\n",
       "Orphan Barrel Barterhouse HA                                     1\n",
       "Tyrconnell Irish Sing Malt                                       1\n",
       "Berry's Own 10yr Panama Rum                                      1\n",
       "Irishman Single Malt                                             1\n",
       "Hiram Walker Peppermint Schnapps                                 1\n",
       "Figenza Mediterranean Fig Vodka                                  1\n",
       "Svedka 100 Prf                                                   1\n",
       "Name: Item Description, Length: 2173, dtype: int64"
      ]
     },
     "execution_count": 51,
     "metadata": {},
     "output_type": "execute_result"
    }
   ],
   "source": [
    "df['Item Description'].value_counts()"
   ]
  },
  {
   "cell_type": "code",
   "execution_count": 65,
   "metadata": {},
   "outputs": [
    {
     "ename": "ValueError",
     "evalue": "labels ['label_quarter' 'd_2015_Q2' 'd_2015_Q1' 'd_2015_Q2' 'd_2015_Q3'\n 'd_2016_Q1' 'Quarters'] not contained in axis",
     "output_type": "error",
     "traceback": [
      "\u001b[1;31m---------------------------------------------------------------------------\u001b[0m",
      "\u001b[1;31mValueError\u001b[0m                                Traceback (most recent call last)",
      "\u001b[1;32m<ipython-input-65-1f0bb2d908a7>\u001b[0m in \u001b[0;36m<module>\u001b[1;34m()\u001b[0m\n\u001b[0;32m     13\u001b[0m        \u001b[1;34m'DES_MOINES_True'\u001b[0m\u001b[1;33m,\u001b[0m \u001b[1;34m'CEDAR_RAP_True'\u001b[0m\u001b[1;33m,\u001b[0m \u001b[1;34m'DAVEN_True'\u001b[0m\u001b[1;33m,\u001b[0m \u001b[1;34m'WATERLOO_True'\u001b[0m\u001b[1;33m,\u001b[0m\u001b[1;33m\u001b[0m\u001b[0m\n\u001b[0;32m     14\u001b[0m        \u001b[1;34m'COUNCIL_BLUFFS_True'\u001b[0m\u001b[1;33m,\u001b[0m \u001b[1;34m'd_2015_Q2'\u001b[0m\u001b[1;33m,\u001b[0m\u001b[1;34m'd_2015_Q1'\u001b[0m\u001b[1;33m,\u001b[0m \u001b[1;34m'd_2015_Q2'\u001b[0m\u001b[1;33m,\u001b[0m \u001b[1;34m'd_2015_Q3'\u001b[0m\u001b[1;33m,\u001b[0m\u001b[1;33m\u001b[0m\u001b[0m\n\u001b[1;32m---> 15\u001b[1;33m         'd_2016_Q1','Quarters'], axis=1, inplace=True)\n\u001b[0m",
      "\u001b[1;32m~\\Anaconda3\\lib\\site-packages\\pandas\\core\\generic.py\u001b[0m in \u001b[0;36mdrop\u001b[1;34m(self, labels, axis, level, inplace, errors)\u001b[0m\n\u001b[0;32m   2159\u001b[0m                 \u001b[0mnew_axis\u001b[0m \u001b[1;33m=\u001b[0m \u001b[0maxis\u001b[0m\u001b[1;33m.\u001b[0m\u001b[0mdrop\u001b[0m\u001b[1;33m(\u001b[0m\u001b[0mlabels\u001b[0m\u001b[1;33m,\u001b[0m \u001b[0mlevel\u001b[0m\u001b[1;33m=\u001b[0m\u001b[0mlevel\u001b[0m\u001b[1;33m,\u001b[0m \u001b[0merrors\u001b[0m\u001b[1;33m=\u001b[0m\u001b[0merrors\u001b[0m\u001b[1;33m)\u001b[0m\u001b[1;33m\u001b[0m\u001b[0m\n\u001b[0;32m   2160\u001b[0m             \u001b[1;32melse\u001b[0m\u001b[1;33m:\u001b[0m\u001b[1;33m\u001b[0m\u001b[0m\n\u001b[1;32m-> 2161\u001b[1;33m                 \u001b[0mnew_axis\u001b[0m \u001b[1;33m=\u001b[0m \u001b[0maxis\u001b[0m\u001b[1;33m.\u001b[0m\u001b[0mdrop\u001b[0m\u001b[1;33m(\u001b[0m\u001b[0mlabels\u001b[0m\u001b[1;33m,\u001b[0m \u001b[0merrors\u001b[0m\u001b[1;33m=\u001b[0m\u001b[0merrors\u001b[0m\u001b[1;33m)\u001b[0m\u001b[1;33m\u001b[0m\u001b[0m\n\u001b[0m\u001b[0;32m   2162\u001b[0m             \u001b[0mdropped\u001b[0m \u001b[1;33m=\u001b[0m \u001b[0mself\u001b[0m\u001b[1;33m.\u001b[0m\u001b[0mreindex\u001b[0m\u001b[1;33m(\u001b[0m\u001b[1;33m**\u001b[0m\u001b[1;33m{\u001b[0m\u001b[0maxis_name\u001b[0m\u001b[1;33m:\u001b[0m \u001b[0mnew_axis\u001b[0m\u001b[1;33m}\u001b[0m\u001b[1;33m)\u001b[0m\u001b[1;33m\u001b[0m\u001b[0m\n\u001b[0;32m   2163\u001b[0m             \u001b[1;32mtry\u001b[0m\u001b[1;33m:\u001b[0m\u001b[1;33m\u001b[0m\u001b[0m\n",
      "\u001b[1;32m~\\Anaconda3\\lib\\site-packages\\pandas\\core\\indexes\\base.py\u001b[0m in \u001b[0;36mdrop\u001b[1;34m(self, labels, errors)\u001b[0m\n\u001b[0;32m   3622\u001b[0m             \u001b[1;32mif\u001b[0m \u001b[0merrors\u001b[0m \u001b[1;33m!=\u001b[0m \u001b[1;34m'ignore'\u001b[0m\u001b[1;33m:\u001b[0m\u001b[1;33m\u001b[0m\u001b[0m\n\u001b[0;32m   3623\u001b[0m                 raise ValueError('labels %s not contained in axis' %\n\u001b[1;32m-> 3624\u001b[1;33m                                  labels[mask])\n\u001b[0m\u001b[0;32m   3625\u001b[0m             \u001b[0mindexer\u001b[0m \u001b[1;33m=\u001b[0m \u001b[0mindexer\u001b[0m\u001b[1;33m[\u001b[0m\u001b[1;33m~\u001b[0m\u001b[0mmask\u001b[0m\u001b[1;33m]\u001b[0m\u001b[1;33m\u001b[0m\u001b[0m\n\u001b[0;32m   3626\u001b[0m         \u001b[1;32mreturn\u001b[0m \u001b[0mself\u001b[0m\u001b[1;33m.\u001b[0m\u001b[0mdelete\u001b[0m\u001b[1;33m(\u001b[0m\u001b[0mindexer\u001b[0m\u001b[1;33m)\u001b[0m\u001b[1;33m\u001b[0m\u001b[0m\n",
      "\u001b[1;31mValueError\u001b[0m: labels ['label_quarter' 'd_2015_Q2' 'd_2015_Q1' 'd_2015_Q2' 'd_2015_Q3'\n 'd_2016_Q1' 'Quarters'] not contained in axis"
     ]
    }
   ],
   "source": [
    "#df_clean = df.dropna(subset = ['County Number', 'County','Date','Store Number',\n",
    "                            #  'City', 'Zip Code', 'County Number', 'County',\n",
    "                             #  'Category', 'Category Name', 'Vendor Number', \n",
    "                              # 'Item Number','Item Description','month_year',\n",
    "                               #'liquor types'], inplace=True)\n",
    "\n",
    "df.drop(['County Number', 'County','Date','Store Number',\n",
    "                              'City', 'Zip Code', 'County Number', 'County',\n",
    "                               'Category', 'Category Name', 'Vendor Number', \n",
    "                               'Item Number','Item Description','month_year','label_quarter',\n",
    "                               'liquor types','DES_MOINES_True',\n",
    "       'CEDAR_RAP_True', 'DAVEN_True', 'WATERLOO_True', 'COUNCIL_BLUFFS_True',\n",
    "       'DES_MOINES_True', 'CEDAR_RAP_True', 'DAVEN_True', 'WATERLOO_True',\n",
    "       'COUNCIL_BLUFFS_True', 'd_2015_Q2','d_2015_Q1', 'd_2015_Q2', 'd_2015_Q3',\n",
    "        'd_2016_Q1','Quarters'], axis=1, inplace=True)\n"
   ]
  },
  {
   "cell_type": "code",
   "execution_count": 53,
   "metadata": {
    "collapsed": true
   },
   "outputs": [],
   "source": [
    "#df.drop(['d_2015 Q1'], axis=1, inplace=True)"
   ]
  },
  {
   "cell_type": "code",
   "execution_count": 54,
   "metadata": {},
   "outputs": [
    {
     "data": {
      "text/plain": [
       "Index(['Date', 'Store Number', 'City', 'Zip Code', 'County Number', 'County',\n",
       "       'Category', 'Category Name', 'Vendor Number', 'Item Number',\n",
       "       'Item Description', 'Bottle Volume (ml)', 'State Bottle Cost',\n",
       "       'State Bottle Retail', 'Bottles Sold', 'Sale (Dollars)',\n",
       "       'Volume Sold (Liters)', 'Volume Sold (Gallons)', 'year', 'month',\n",
       "       'month_year', 'liquor types', 'DES_MOINES_True', 'CEDAR_RAP_True',\n",
       "       'DAVEN_True', 'WATERLOO_True', 'COUNCIL_BLUFFS_True'],\n",
       "      dtype='object')"
      ]
     },
     "execution_count": 54,
     "metadata": {},
     "output_type": "execute_result"
    }
   ],
   "source": [
    "df.columns"
   ]
  },
  {
   "cell_type": "code",
   "execution_count": 55,
   "metadata": {},
   "outputs": [
    {
     "data": {
      "image/png": "[encoded data removed]",
      "text/plain": [
       "<matplotlib.figure.Figure at 0x2b705eac1d0>"
      ]
     },
     "metadata": {},
     "output_type": "display_data"
    }
   ],
   "source": [
    "corr = df.corr()\n",
    "sns.heatmap(corr, annot=True);\n",
    "# It looks like the important variables are 'Bottles Sold', 'Volume Sold (liters).\n",
    "# It seems as though 'Bottles Sold' and 'Volume' are almost measuring the same thing\n",
    "# Volume Sold (Gallon) was also correlated, but same as liters, just dif units\n",
    "# I'm not sure how to use categorical data such as city, county, category\n",
    "# State bottle tax and cost appear to be related"
   ]
  },
  {
   "cell_type": "code",
   "execution_count": 56,
   "metadata": {},
   "outputs": [
    {
     "data": {
      "text/html": [
       "<div>\n",
       "<style>\n",
       "    .dataframe thead tr:only-child th {\n",
       "        text-align: right;\n",
       "    }\n",
       "\n",
       "    .dataframe thead th {\n",
       "        text-align: left;\n",
       "    }\n",
       "\n",
       "    .dataframe tbody tr th {\n",
       "        vertical-align: top;\n",
       "    }\n",
       "</style>\n",
       "<table border=\"1\" class=\"dataframe\">\n",
       "  <thead>\n",
       "    <tr style=\"text-align: right;\">\n",
       "      <th></th>\n",
       "      <th>Date</th>\n",
       "      <th>Store Number</th>\n",
       "      <th>City</th>\n",
       "      <th>Zip Code</th>\n",
       "      <th>County Number</th>\n",
       "      <th>County</th>\n",
       "      <th>Category</th>\n",
       "      <th>Category Name</th>\n",
       "      <th>Vendor Number</th>\n",
       "      <th>Item Number</th>\n",
       "      <th>...</th>\n",
       "      <th>Volume Sold (Gallons)</th>\n",
       "      <th>year</th>\n",
       "      <th>month</th>\n",
       "      <th>month_year</th>\n",
       "      <th>liquor types</th>\n",
       "      <th>DES_MOINES_True</th>\n",
       "      <th>CEDAR_RAP_True</th>\n",
       "      <th>DAVEN_True</th>\n",
       "      <th>WATERLOO_True</th>\n",
       "      <th>COUNCIL_BLUFFS_True</th>\n",
       "    </tr>\n",
       "  </thead>\n",
       "  <tbody>\n",
       "    <tr>\n",
       "      <th>count</th>\n",
       "      <td>270955</td>\n",
       "      <td>270955.000000</td>\n",
       "      <td>270955</td>\n",
       "      <td>270955</td>\n",
       "      <td>269878.000000</td>\n",
       "      <td>269878</td>\n",
       "      <td>2.708870e+05</td>\n",
       "      <td>270323</td>\n",
       "      <td>270955.00000</td>\n",
       "      <td>270955.000000</td>\n",
       "      <td>...</td>\n",
       "      <td>270955.000000</td>\n",
       "      <td>270955.000000</td>\n",
       "      <td>270955.000000</td>\n",
       "      <td>270955</td>\n",
       "      <td>238487</td>\n",
       "      <td>270955.000000</td>\n",
       "      <td>270955.000000</td>\n",
       "      <td>270955.000000</td>\n",
       "      <td>270955.000000</td>\n",
       "      <td>270955.000000</td>\n",
       "    </tr>\n",
       "    <tr>\n",
       "      <th>unique</th>\n",
       "      <td>274</td>\n",
       "      <td>NaN</td>\n",
       "      <td>385</td>\n",
       "      <td>415</td>\n",
       "      <td>NaN</td>\n",
       "      <td>99</td>\n",
       "      <td>NaN</td>\n",
       "      <td>71</td>\n",
       "      <td>NaN</td>\n",
       "      <td>NaN</td>\n",
       "      <td>...</td>\n",
       "      <td>NaN</td>\n",
       "      <td>NaN</td>\n",
       "      <td>NaN</td>\n",
       "      <td>15</td>\n",
       "      <td>8</td>\n",
       "      <td>NaN</td>\n",
       "      <td>NaN</td>\n",
       "      <td>NaN</td>\n",
       "      <td>NaN</td>\n",
       "      <td>NaN</td>\n",
       "    </tr>\n",
       "    <tr>\n",
       "      <th>top</th>\n",
       "      <td>12/1/2015</td>\n",
       "      <td>NaN</td>\n",
       "      <td>DES MOINES</td>\n",
       "      <td>50010</td>\n",
       "      <td>NaN</td>\n",
       "      <td>Polk</td>\n",
       "      <td>NaN</td>\n",
       "      <td>VODKA 80 PROOF</td>\n",
       "      <td>NaN</td>\n",
       "      <td>NaN</td>\n",
       "      <td>...</td>\n",
       "      <td>NaN</td>\n",
       "      <td>NaN</td>\n",
       "      <td>NaN</td>\n",
       "      <td>2015-12</td>\n",
       "      <td>WHISKIE</td>\n",
       "      <td>NaN</td>\n",
       "      <td>NaN</td>\n",
       "      <td>NaN</td>\n",
       "      <td>NaN</td>\n",
       "      <td>NaN</td>\n",
       "    </tr>\n",
       "    <tr>\n",
       "      <th>freq</th>\n",
       "      <td>1555</td>\n",
       "      <td>NaN</td>\n",
       "      <td>23724</td>\n",
       "      <td>7091</td>\n",
       "      <td>NaN</td>\n",
       "      <td>49102</td>\n",
       "      <td>NaN</td>\n",
       "      <td>35373</td>\n",
       "      <td>NaN</td>\n",
       "      <td>NaN</td>\n",
       "      <td>...</td>\n",
       "      <td>NaN</td>\n",
       "      <td>NaN</td>\n",
       "      <td>NaN</td>\n",
       "      <td>23128</td>\n",
       "      <td>81867</td>\n",
       "      <td>NaN</td>\n",
       "      <td>NaN</td>\n",
       "      <td>NaN</td>\n",
       "      <td>NaN</td>\n",
       "      <td>NaN</td>\n",
       "    </tr>\n",
       "    <tr>\n",
       "      <th>mean</th>\n",
       "      <td>NaN</td>\n",
       "      <td>3590.263701</td>\n",
       "      <td>NaN</td>\n",
       "      <td>NaN</td>\n",
       "      <td>57.231642</td>\n",
       "      <td>NaN</td>\n",
       "      <td>1.043888e+06</td>\n",
       "      <td>NaN</td>\n",
       "      <td>256.43443</td>\n",
       "      <td>45974.963300</td>\n",
       "      <td>...</td>\n",
       "      <td>2.372830</td>\n",
       "      <td>2015.193246</td>\n",
       "      <td>5.821103</td>\n",
       "      <td>NaN</td>\n",
       "      <td>NaN</td>\n",
       "      <td>0.087557</td>\n",
       "      <td>0.069709</td>\n",
       "      <td>0.042738</td>\n",
       "      <td>0.031094</td>\n",
       "      <td>0.029747</td>\n",
       "    </tr>\n",
       "    <tr>\n",
       "      <th>std</th>\n",
       "      <td>NaN</td>\n",
       "      <td>947.662050</td>\n",
       "      <td>NaN</td>\n",
       "      <td>NaN</td>\n",
       "      <td>27.341205</td>\n",
       "      <td>NaN</td>\n",
       "      <td>5.018211e+04</td>\n",
       "      <td>NaN</td>\n",
       "      <td>141.01489</td>\n",
       "      <td>52757.043086</td>\n",
       "      <td>...</td>\n",
       "      <td>7.638182</td>\n",
       "      <td>0.394845</td>\n",
       "      <td>3.621291</td>\n",
       "      <td>NaN</td>\n",
       "      <td>NaN</td>\n",
       "      <td>0.282650</td>\n",
       "      <td>0.254656</td>\n",
       "      <td>0.202266</td>\n",
       "      <td>0.173571</td>\n",
       "      <td>0.169888</td>\n",
       "    </tr>\n",
       "    <tr>\n",
       "      <th>min</th>\n",
       "      <td>NaN</td>\n",
       "      <td>2106.000000</td>\n",
       "      <td>NaN</td>\n",
       "      <td>NaN</td>\n",
       "      <td>1.000000</td>\n",
       "      <td>NaN</td>\n",
       "      <td>1.011100e+06</td>\n",
       "      <td>NaN</td>\n",
       "      <td>10.00000</td>\n",
       "      <td>168.000000</td>\n",
       "      <td>...</td>\n",
       "      <td>0.030000</td>\n",
       "      <td>2015.000000</td>\n",
       "      <td>1.000000</td>\n",
       "      <td>NaN</td>\n",
       "      <td>NaN</td>\n",
       "      <td>0.000000</td>\n",
       "      <td>0.000000</td>\n",
       "      <td>0.000000</td>\n",
       "      <td>0.000000</td>\n",
       "      <td>0.000000</td>\n",
       "    </tr>\n",
       "    <tr>\n",
       "      <th>25%</th>\n",
       "      <td>NaN</td>\n",
       "      <td>2604.000000</td>\n",
       "      <td>NaN</td>\n",
       "      <td>NaN</td>\n",
       "      <td>31.000000</td>\n",
       "      <td>NaN</td>\n",
       "      <td>1.012200e+06</td>\n",
       "      <td>NaN</td>\n",
       "      <td>115.00000</td>\n",
       "      <td>26827.000000</td>\n",
       "      <td>...</td>\n",
       "      <td>0.400000</td>\n",
       "      <td>2015.000000</td>\n",
       "      <td>3.000000</td>\n",
       "      <td>NaN</td>\n",
       "      <td>NaN</td>\n",
       "      <td>0.000000</td>\n",
       "      <td>0.000000</td>\n",
       "      <td>0.000000</td>\n",
       "      <td>0.000000</td>\n",
       "      <td>0.000000</td>\n",
       "    </tr>\n",
       "    <tr>\n",
       "      <th>50%</th>\n",
       "      <td>NaN</td>\n",
       "      <td>3722.000000</td>\n",
       "      <td>NaN</td>\n",
       "      <td>NaN</td>\n",
       "      <td>62.000000</td>\n",
       "      <td>NaN</td>\n",
       "      <td>1.031200e+06</td>\n",
       "      <td>NaN</td>\n",
       "      <td>260.00000</td>\n",
       "      <td>38176.000000</td>\n",
       "      <td>...</td>\n",
       "      <td>1.390000</td>\n",
       "      <td>2015.000000</td>\n",
       "      <td>5.000000</td>\n",
       "      <td>NaN</td>\n",
       "      <td>NaN</td>\n",
       "      <td>0.000000</td>\n",
       "      <td>0.000000</td>\n",
       "      <td>0.000000</td>\n",
       "      <td>0.000000</td>\n",
       "      <td>0.000000</td>\n",
       "    </tr>\n",
       "    <tr>\n",
       "      <th>75%</th>\n",
       "      <td>NaN</td>\n",
       "      <td>4378.000000</td>\n",
       "      <td>NaN</td>\n",
       "      <td>NaN</td>\n",
       "      <td>77.000000</td>\n",
       "      <td>NaN</td>\n",
       "      <td>1.062310e+06</td>\n",
       "      <td>NaN</td>\n",
       "      <td>380.00000</td>\n",
       "      <td>64573.000000</td>\n",
       "      <td>...</td>\n",
       "      <td>2.770000</td>\n",
       "      <td>2015.000000</td>\n",
       "      <td>9.000000</td>\n",
       "      <td>NaN</td>\n",
       "      <td>NaN</td>\n",
       "      <td>0.000000</td>\n",
       "      <td>0.000000</td>\n",
       "      <td>0.000000</td>\n",
       "      <td>0.000000</td>\n",
       "      <td>0.000000</td>\n",
       "    </tr>\n",
       "    <tr>\n",
       "      <th>max</th>\n",
       "      <td>NaN</td>\n",
       "      <td>9023.000000</td>\n",
       "      <td>NaN</td>\n",
       "      <td>NaN</td>\n",
       "      <td>99.000000</td>\n",
       "      <td>NaN</td>\n",
       "      <td>1.701100e+06</td>\n",
       "      <td>NaN</td>\n",
       "      <td>978.00000</td>\n",
       "      <td>995507.000000</td>\n",
       "      <td>...</td>\n",
       "      <td>662.540000</td>\n",
       "      <td>2016.000000</td>\n",
       "      <td>12.000000</td>\n",
       "      <td>NaN</td>\n",
       "      <td>NaN</td>\n",
       "      <td>1.000000</td>\n",
       "      <td>1.000000</td>\n",
       "      <td>1.000000</td>\n",
       "      <td>1.000000</td>\n",
       "      <td>1.000000</td>\n",
       "    </tr>\n",
       "  </tbody>\n",
       "</table>\n",
       "<p>11 rows × 27 columns</p>\n",
       "</div>"
      ],
      "text/plain": [
       "             Date   Store Number        City Zip Code  County Number  County  \\\n",
       "count      270955  270955.000000      270955   270955  269878.000000  269878   \n",
       "unique        274            NaN         385      415            NaN      99   \n",
       "top     12/1/2015            NaN  DES MOINES    50010            NaN    Polk   \n",
       "freq         1555            NaN       23724     7091            NaN   49102   \n",
       "mean          NaN    3590.263701         NaN      NaN      57.231642     NaN   \n",
       "std           NaN     947.662050         NaN      NaN      27.341205     NaN   \n",
       "min           NaN    2106.000000         NaN      NaN       1.000000     NaN   \n",
       "25%           NaN    2604.000000         NaN      NaN      31.000000     NaN   \n",
       "50%           NaN    3722.000000         NaN      NaN      62.000000     NaN   \n",
       "75%           NaN    4378.000000         NaN      NaN      77.000000     NaN   \n",
       "max           NaN    9023.000000         NaN      NaN      99.000000     NaN   \n",
       "\n",
       "            Category   Category Name  Vendor Number    Item Number  \\\n",
       "count   2.708870e+05          270323   270955.00000  270955.000000   \n",
       "unique           NaN              71            NaN            NaN   \n",
       "top              NaN  VODKA 80 PROOF            NaN            NaN   \n",
       "freq             NaN           35373            NaN            NaN   \n",
       "mean    1.043888e+06             NaN      256.43443   45974.963300   \n",
       "std     5.018211e+04             NaN      141.01489   52757.043086   \n",
       "min     1.011100e+06             NaN       10.00000     168.000000   \n",
       "25%     1.012200e+06             NaN      115.00000   26827.000000   \n",
       "50%     1.031200e+06             NaN      260.00000   38176.000000   \n",
       "75%     1.062310e+06             NaN      380.00000   64573.000000   \n",
       "max     1.701100e+06             NaN      978.00000  995507.000000   \n",
       "\n",
       "               ...          Volume Sold (Gallons)           year  \\\n",
       "count          ...                  270955.000000  270955.000000   \n",
       "unique         ...                            NaN            NaN   \n",
       "top            ...                            NaN            NaN   \n",
       "freq           ...                            NaN            NaN   \n",
       "mean           ...                       2.372830    2015.193246   \n",
       "std            ...                       7.638182       0.394845   \n",
       "min            ...                       0.030000    2015.000000   \n",
       "25%            ...                       0.400000    2015.000000   \n",
       "50%            ...                       1.390000    2015.000000   \n",
       "75%            ...                       2.770000    2015.000000   \n",
       "max            ...                     662.540000    2016.000000   \n",
       "\n",
       "                month  month_year  liquor types  DES_MOINES_True  \\\n",
       "count   270955.000000      270955        238487    270955.000000   \n",
       "unique            NaN          15             8              NaN   \n",
       "top               NaN     2015-12       WHISKIE              NaN   \n",
       "freq              NaN       23128         81867              NaN   \n",
       "mean         5.821103         NaN           NaN         0.087557   \n",
       "std          3.621291         NaN           NaN         0.282650   \n",
       "min          1.000000         NaN           NaN         0.000000   \n",
       "25%          3.000000         NaN           NaN         0.000000   \n",
       "50%          5.000000         NaN           NaN         0.000000   \n",
       "75%          9.000000         NaN           NaN         0.000000   \n",
       "max         12.000000         NaN           NaN         1.000000   \n",
       "\n",
       "        CEDAR_RAP_True     DAVEN_True  WATERLOO_True  COUNCIL_BLUFFS_True  \n",
       "count    270955.000000  270955.000000  270955.000000        270955.000000  \n",
       "unique             NaN            NaN            NaN                  NaN  \n",
       "top                NaN            NaN            NaN                  NaN  \n",
       "freq               NaN            NaN            NaN                  NaN  \n",
       "mean          0.069709       0.042738       0.031094             0.029747  \n",
       "std           0.254656       0.202266       0.173571             0.169888  \n",
       "min           0.000000       0.000000       0.000000             0.000000  \n",
       "25%           0.000000       0.000000       0.000000             0.000000  \n",
       "50%           0.000000       0.000000       0.000000             0.000000  \n",
       "75%           0.000000       0.000000       0.000000             0.000000  \n",
       "max           1.000000       1.000000       1.000000             1.000000  \n",
       "\n",
       "[11 rows x 27 columns]"
      ]
     },
     "execution_count": 56,
     "metadata": {},
     "output_type": "execute_result"
    }
   ],
   "source": [
    "df.describe(include='all')"
   ]
  },
  {
   "cell_type": "code",
   "execution_count": 57,
   "metadata": {},
   "outputs": [
    {
     "data": {
      "text/plain": [
       "(218594, 27)"
      ]
     },
     "execution_count": 57,
     "metadata": {},
     "output_type": "execute_result"
    }
   ],
   "source": [
    "df_2015 = df.loc[df['year'] == 2015]\n",
    "df_2015.shape"
   ]
  },
  {
   "cell_type": "code",
   "execution_count": 58,
   "metadata": {
    "scrolled": true
   },
   "outputs": [
    {
     "data": {
      "text/plain": [
       "(52361, 27)"
      ]
     },
     "execution_count": 58,
     "metadata": {},
     "output_type": "execute_result"
    }
   ],
   "source": [
    "df_2016 = df.loc[df['year'] == 2016]\n",
    "df_2016.shape"
   ]
  },
  {
   "cell_type": "markdown",
   "metadata": {},
   "source": [
    "# Explore the data\n",
    "\n",
    "Perform some exploratory statistical analysis and make some plots, such as histograms of transaction totals, bottles sold, etc."
   ]
  },
  {
   "cell_type": "markdown",
   "metadata": {},
   "source": [
    "Need to clean this up by bringing a lot of the stuff before this section down into this EDA section"
   ]
  },
  {
   "cell_type": "code",
   "execution_count": 59,
   "metadata": {
    "collapsed": true
   },
   "outputs": [],
   "source": [
    "y_train = df_2015['Sale (Dollars)']\n",
    "x_train = df_2015.drop(['Sale (Dollars)'], axis = 'columns')"
   ]
  },
  {
   "cell_type": "code",
   "execution_count": 60,
   "metadata": {},
   "outputs": [
    {
     "data": {
      "text/html": [
       "<div>\n",
       "<style>\n",
       "    .dataframe thead tr:only-child th {\n",
       "        text-align: right;\n",
       "    }\n",
       "\n",
       "    .dataframe thead th {\n",
       "        text-align: left;\n",
       "    }\n",
       "\n",
       "    .dataframe tbody tr th {\n",
       "        vertical-align: top;\n",
       "    }\n",
       "</style>\n",
       "<table border=\"1\" class=\"dataframe\">\n",
       "  <thead>\n",
       "    <tr style=\"text-align: right;\">\n",
       "      <th></th>\n",
       "      <th>Date</th>\n",
       "      <th>Store Number</th>\n",
       "      <th>City</th>\n",
       "      <th>Zip Code</th>\n",
       "      <th>County Number</th>\n",
       "      <th>County</th>\n",
       "      <th>Category</th>\n",
       "      <th>Category Name</th>\n",
       "      <th>Vendor Number</th>\n",
       "      <th>Item Number</th>\n",
       "      <th>...</th>\n",
       "      <th>Volume Sold (Gallons)</th>\n",
       "      <th>year</th>\n",
       "      <th>month</th>\n",
       "      <th>month_year</th>\n",
       "      <th>liquor types</th>\n",
       "      <th>DES_MOINES_True</th>\n",
       "      <th>CEDAR_RAP_True</th>\n",
       "      <th>DAVEN_True</th>\n",
       "      <th>WATERLOO_True</th>\n",
       "      <th>COUNCIL_BLUFFS_True</th>\n",
       "    </tr>\n",
       "  </thead>\n",
       "  <tbody>\n",
       "    <tr>\n",
       "      <th>270950</th>\n",
       "      <td>12/22/2015</td>\n",
       "      <td>4057</td>\n",
       "      <td>DES MOINES</td>\n",
       "      <td>50316</td>\n",
       "      <td>77.0</td>\n",
       "      <td>Polk</td>\n",
       "      <td>1022100.0</td>\n",
       "      <td>TEQUILA</td>\n",
       "      <td>410</td>\n",
       "      <td>88291</td>\n",
       "      <td>...</td>\n",
       "      <td>0.32</td>\n",
       "      <td>2015</td>\n",
       "      <td>12</td>\n",
       "      <td>2015-12</td>\n",
       "      <td>TEQUILA</td>\n",
       "      <td>1</td>\n",
       "      <td>0</td>\n",
       "      <td>0</td>\n",
       "      <td>0</td>\n",
       "      <td>0</td>\n",
       "    </tr>\n",
       "    <tr>\n",
       "      <th>270951</th>\n",
       "      <td>11/4/2015</td>\n",
       "      <td>5151</td>\n",
       "      <td>IDA GROVE</td>\n",
       "      <td>51445</td>\n",
       "      <td>47.0</td>\n",
       "      <td>Ida</td>\n",
       "      <td>1011200.0</td>\n",
       "      <td>STRAIGHT BOURBON WHISKIES</td>\n",
       "      <td>259</td>\n",
       "      <td>17956</td>\n",
       "      <td>...</td>\n",
       "      <td>0.59</td>\n",
       "      <td>2015</td>\n",
       "      <td>11</td>\n",
       "      <td>2015-11</td>\n",
       "      <td>WHISKIE</td>\n",
       "      <td>0</td>\n",
       "      <td>0</td>\n",
       "      <td>0</td>\n",
       "      <td>0</td>\n",
       "      <td>0</td>\n",
       "    </tr>\n",
       "    <tr>\n",
       "      <th>270952</th>\n",
       "      <td>10/20/2015</td>\n",
       "      <td>5152</td>\n",
       "      <td>WATERLOO</td>\n",
       "      <td>50702</td>\n",
       "      <td>7.0</td>\n",
       "      <td>Black Hawk</td>\n",
       "      <td>1011300.0</td>\n",
       "      <td>TENNESSEE WHISKIES</td>\n",
       "      <td>85</td>\n",
       "      <td>26826</td>\n",
       "      <td>...</td>\n",
       "      <td>1.19</td>\n",
       "      <td>2015</td>\n",
       "      <td>10</td>\n",
       "      <td>2015-10</td>\n",
       "      <td>WHISKIE</td>\n",
       "      <td>0</td>\n",
       "      <td>0</td>\n",
       "      <td>0</td>\n",
       "      <td>1</td>\n",
       "      <td>0</td>\n",
       "    </tr>\n",
       "    <tr>\n",
       "      <th>270953</th>\n",
       "      <td>11/20/2015</td>\n",
       "      <td>3562</td>\n",
       "      <td>WEST BURLINGTON</td>\n",
       "      <td>52655</td>\n",
       "      <td>29.0</td>\n",
       "      <td>Des Moines</td>\n",
       "      <td>1082900.0</td>\n",
       "      <td>MISC. IMPORTED CORDIALS &amp; LIQUEURS</td>\n",
       "      <td>192</td>\n",
       "      <td>65258</td>\n",
       "      <td>...</td>\n",
       "      <td>2.77</td>\n",
       "      <td>2015</td>\n",
       "      <td>11</td>\n",
       "      <td>2015-11</td>\n",
       "      <td>None</td>\n",
       "      <td>0</td>\n",
       "      <td>0</td>\n",
       "      <td>0</td>\n",
       "      <td>0</td>\n",
       "      <td>0</td>\n",
       "    </tr>\n",
       "    <tr>\n",
       "      <th>270954</th>\n",
       "      <td>1/27/2015</td>\n",
       "      <td>4446</td>\n",
       "      <td>URBANDALE</td>\n",
       "      <td>50322</td>\n",
       "      <td>77.0</td>\n",
       "      <td>Polk</td>\n",
       "      <td>1031080.0</td>\n",
       "      <td>VODKA 80 PROOF</td>\n",
       "      <td>260</td>\n",
       "      <td>37993</td>\n",
       "      <td>...</td>\n",
       "      <td>0.42</td>\n",
       "      <td>2015</td>\n",
       "      <td>1</td>\n",
       "      <td>2015-1</td>\n",
       "      <td>VODKA</td>\n",
       "      <td>0</td>\n",
       "      <td>0</td>\n",
       "      <td>0</td>\n",
       "      <td>0</td>\n",
       "      <td>0</td>\n",
       "    </tr>\n",
       "  </tbody>\n",
       "</table>\n",
       "<p>5 rows × 26 columns</p>\n",
       "</div>"
      ],
      "text/plain": [
       "              Date  Store Number             City Zip Code  County Number  \\\n",
       "270950  12/22/2015          4057       DES MOINES    50316           77.0   \n",
       "270951   11/4/2015          5151        IDA GROVE    51445           47.0   \n",
       "270952  10/20/2015          5152         WATERLOO    50702            7.0   \n",
       "270953  11/20/2015          3562  WEST BURLINGTON    52655           29.0   \n",
       "270954   1/27/2015          4446        URBANDALE    50322           77.0   \n",
       "\n",
       "            County   Category                       Category Name  \\\n",
       "270950        Polk  1022100.0                             TEQUILA   \n",
       "270951         Ida  1011200.0           STRAIGHT BOURBON WHISKIES   \n",
       "270952  Black Hawk  1011300.0                  TENNESSEE WHISKIES   \n",
       "270953  Des Moines  1082900.0  MISC. IMPORTED CORDIALS & LIQUEURS   \n",
       "270954        Polk  1031080.0                      VODKA 80 PROOF   \n",
       "\n",
       "        Vendor Number  Item Number         ...         Volume Sold (Gallons)  \\\n",
       "270950            410        88291         ...                          0.32   \n",
       "270951            259        17956         ...                          0.59   \n",
       "270952             85        26826         ...                          1.19   \n",
       "270953            192        65258         ...                          2.77   \n",
       "270954            260        37993         ...                          0.42   \n",
       "\n",
       "        year  month  month_year  liquor types  DES_MOINES_True  \\\n",
       "270950  2015     12     2015-12       TEQUILA                1   \n",
       "270951  2015     11     2015-11       WHISKIE                0   \n",
       "270952  2015     10     2015-10       WHISKIE                0   \n",
       "270953  2015     11     2015-11          None                0   \n",
       "270954  2015      1      2015-1         VODKA                0   \n",
       "\n",
       "        CEDAR_RAP_True  DAVEN_True  WATERLOO_True COUNCIL_BLUFFS_True  \n",
       "270950               0           0              0                   0  \n",
       "270951               0           0              0                   0  \n",
       "270952               0           0              1                   0  \n",
       "270953               0           0              0                   0  \n",
       "270954               0           0              0                   0  \n",
       "\n",
       "[5 rows x 26 columns]"
      ]
     },
     "execution_count": 60,
     "metadata": {},
     "output_type": "execute_result"
    }
   ],
   "source": [
    "x_train.tail()"
   ]
  },
  {
   "cell_type": "code",
   "execution_count": 61,
   "metadata": {},
   "outputs": [
    {
     "data": {
      "text/plain": [
       "28527245.39000142"
      ]
     },
     "execution_count": 61,
     "metadata": {},
     "output_type": "execute_result"
    }
   ],
   "source": [
    "# Baseline - no idea what the baseline is supposed to be\n",
    "# predicting yearly sales.  I'm guessing I want my baseline to be the accuracy\n",
    "# with which i predict....but given that I have the data, huhhhh?\n",
    "df_2015['Sale (Dollars)'].sum()"
   ]
  },
  {
   "cell_type": "code",
   "execution_count": 62,
   "metadata": {
    "collapsed": true
   },
   "outputs": [],
   "source": [
    "from sklearn.preprocessing import StandardScaler"
   ]
  },
  {
   "cell_type": "code",
   "execution_count": 63,
   "metadata": {},
   "outputs": [
    {
     "ename": "ValueError",
     "evalue": "could not convert string to float: 'VODKA'",
     "output_type": "error",
     "traceback": [
      "\u001b[1;31m---------------------------------------------------------------------------\u001b[0m",
      "\u001b[1;31mValueError\u001b[0m                                Traceback (most recent call last)",
      "\u001b[1;32m<ipython-input-63-3cbfbe5b1cf8>\u001b[0m in \u001b[0;36m<module>\u001b[1;34m()\u001b[0m\n\u001b[0;32m      1\u001b[0m \u001b[0mss\u001b[0m \u001b[1;33m=\u001b[0m \u001b[0mStandardScaler\u001b[0m\u001b[1;33m(\u001b[0m\u001b[1;33m)\u001b[0m\u001b[1;33m\u001b[0m\u001b[0m\n\u001b[1;32m----> 2\u001b[1;33m \u001b[0mxs\u001b[0m \u001b[1;33m=\u001b[0m \u001b[0mss\u001b[0m\u001b[1;33m.\u001b[0m\u001b[0mfit_transform\u001b[0m\u001b[1;33m(\u001b[0m\u001b[0mx_train\u001b[0m\u001b[1;33m)\u001b[0m\u001b[1;33m\u001b[0m\u001b[0m\n\u001b[0m",
      "\u001b[1;32m~\\Anaconda3\\lib\\site-packages\\sklearn\\base.py\u001b[0m in \u001b[0;36mfit_transform\u001b[1;34m(self, X, y, **fit_params)\u001b[0m\n\u001b[0;32m    515\u001b[0m         \u001b[1;32mif\u001b[0m \u001b[0my\u001b[0m \u001b[1;32mis\u001b[0m \u001b[1;32mNone\u001b[0m\u001b[1;33m:\u001b[0m\u001b[1;33m\u001b[0m\u001b[0m\n\u001b[0;32m    516\u001b[0m             \u001b[1;31m# fit method of arity 1 (unsupervised transformation)\u001b[0m\u001b[1;33m\u001b[0m\u001b[1;33m\u001b[0m\u001b[0m\n\u001b[1;32m--> 517\u001b[1;33m             \u001b[1;32mreturn\u001b[0m \u001b[0mself\u001b[0m\u001b[1;33m.\u001b[0m\u001b[0mfit\u001b[0m\u001b[1;33m(\u001b[0m\u001b[0mX\u001b[0m\u001b[1;33m,\u001b[0m \u001b[1;33m**\u001b[0m\u001b[0mfit_params\u001b[0m\u001b[1;33m)\u001b[0m\u001b[1;33m.\u001b[0m\u001b[0mtransform\u001b[0m\u001b[1;33m(\u001b[0m\u001b[0mX\u001b[0m\u001b[1;33m)\u001b[0m\u001b[1;33m\u001b[0m\u001b[0m\n\u001b[0m\u001b[0;32m    518\u001b[0m         \u001b[1;32melse\u001b[0m\u001b[1;33m:\u001b[0m\u001b[1;33m\u001b[0m\u001b[0m\n\u001b[0;32m    519\u001b[0m             \u001b[1;31m# fit method of arity 2 (supervised transformation)\u001b[0m\u001b[1;33m\u001b[0m\u001b[1;33m\u001b[0m\u001b[0m\n",
      "\u001b[1;32m~\\Anaconda3\\lib\\site-packages\\sklearn\\preprocessing\\data.py\u001b[0m in \u001b[0;36mfit\u001b[1;34m(self, X, y)\u001b[0m\n\u001b[0;32m    588\u001b[0m         \u001b[1;31m# Reset internal state before fitting\u001b[0m\u001b[1;33m\u001b[0m\u001b[1;33m\u001b[0m\u001b[0m\n\u001b[0;32m    589\u001b[0m         \u001b[0mself\u001b[0m\u001b[1;33m.\u001b[0m\u001b[0m_reset\u001b[0m\u001b[1;33m(\u001b[0m\u001b[1;33m)\u001b[0m\u001b[1;33m\u001b[0m\u001b[0m\n\u001b[1;32m--> 590\u001b[1;33m         \u001b[1;32mreturn\u001b[0m \u001b[0mself\u001b[0m\u001b[1;33m.\u001b[0m\u001b[0mpartial_fit\u001b[0m\u001b[1;33m(\u001b[0m\u001b[0mX\u001b[0m\u001b[1;33m,\u001b[0m \u001b[0my\u001b[0m\u001b[1;33m)\u001b[0m\u001b[1;33m\u001b[0m\u001b[0m\n\u001b[0m\u001b[0;32m    591\u001b[0m \u001b[1;33m\u001b[0m\u001b[0m\n\u001b[0;32m    592\u001b[0m     \u001b[1;32mdef\u001b[0m \u001b[0mpartial_fit\u001b[0m\u001b[1;33m(\u001b[0m\u001b[0mself\u001b[0m\u001b[1;33m,\u001b[0m \u001b[0mX\u001b[0m\u001b[1;33m,\u001b[0m \u001b[0my\u001b[0m\u001b[1;33m=\u001b[0m\u001b[1;32mNone\u001b[0m\u001b[1;33m)\u001b[0m\u001b[1;33m:\u001b[0m\u001b[1;33m\u001b[0m\u001b[0m\n",
      "\u001b[1;32m~\\Anaconda3\\lib\\site-packages\\sklearn\\preprocessing\\data.py\u001b[0m in \u001b[0;36mpartial_fit\u001b[1;34m(self, X, y)\u001b[0m\n\u001b[0;32m    610\u001b[0m         \"\"\"\n\u001b[0;32m    611\u001b[0m         X = check_array(X, accept_sparse=('csr', 'csc'), copy=self.copy,\n\u001b[1;32m--> 612\u001b[1;33m                         warn_on_dtype=True, estimator=self, dtype=FLOAT_DTYPES)\n\u001b[0m\u001b[0;32m    613\u001b[0m \u001b[1;33m\u001b[0m\u001b[0m\n\u001b[0;32m    614\u001b[0m         \u001b[1;31m# Even in the case of `with_mean=False`, we update the mean anyway\u001b[0m\u001b[1;33m\u001b[0m\u001b[1;33m\u001b[0m\u001b[0m\n",
      "\u001b[1;32m~\\Anaconda3\\lib\\site-packages\\sklearn\\utils\\validation.py\u001b[0m in \u001b[0;36mcheck_array\u001b[1;34m(array, accept_sparse, dtype, order, copy, force_all_finite, ensure_2d, allow_nd, ensure_min_samples, ensure_min_features, warn_on_dtype, estimator)\u001b[0m\n\u001b[0;32m    431\u001b[0m                                       force_all_finite)\n\u001b[0;32m    432\u001b[0m     \u001b[1;32melse\u001b[0m\u001b[1;33m:\u001b[0m\u001b[1;33m\u001b[0m\u001b[0m\n\u001b[1;32m--> 433\u001b[1;33m         \u001b[0marray\u001b[0m \u001b[1;33m=\u001b[0m \u001b[0mnp\u001b[0m\u001b[1;33m.\u001b[0m\u001b[0marray\u001b[0m\u001b[1;33m(\u001b[0m\u001b[0marray\u001b[0m\u001b[1;33m,\u001b[0m \u001b[0mdtype\u001b[0m\u001b[1;33m=\u001b[0m\u001b[0mdtype\u001b[0m\u001b[1;33m,\u001b[0m \u001b[0morder\u001b[0m\u001b[1;33m=\u001b[0m\u001b[0morder\u001b[0m\u001b[1;33m,\u001b[0m \u001b[0mcopy\u001b[0m\u001b[1;33m=\u001b[0m\u001b[0mcopy\u001b[0m\u001b[1;33m)\u001b[0m\u001b[1;33m\u001b[0m\u001b[0m\n\u001b[0m\u001b[0;32m    434\u001b[0m \u001b[1;33m\u001b[0m\u001b[0m\n\u001b[0;32m    435\u001b[0m         \u001b[1;32mif\u001b[0m \u001b[0mensure_2d\u001b[0m\u001b[1;33m:\u001b[0m\u001b[1;33m\u001b[0m\u001b[0m\n",
      "\u001b[1;31mValueError\u001b[0m: could not convert string to float: 'VODKA'"
     ]
    }
   ],
   "source": [
    "ss = StandardScaler()\n",
    "xs = ss.fit_transform(x_train)"
   ]
  },
  {
   "cell_type": "code",
   "execution_count": 64,
   "metadata": {
    "collapsed": true
   },
   "outputs": [],
   "source": [
    "lm = linear_model.LinearRegression(fit_intercept=True,\n",
    "                                   normalize=False,\n",
    "                                   copy_X=True,\n",
    "                                   n_jobs=1)"
   ]
  },
  {
   "cell_type": "code",
   "execution_count": null,
   "metadata": {
    "collapsed": true
   },
   "outputs": [],
   "source": [
    "lm.fit(x_train, y_train)"
   ]
  },
  {
   "cell_type": "code",
   "execution_count": null,
   "metadata": {
    "collapsed": true
   },
   "outputs": [],
   "source": [
    "\n",
    "lm.score(x_train,y_train) #this result is R^2, the fraction of variance explained by the model"
   ]
  },
  {
   "cell_type": "code",
   "execution_count": null,
   "metadata": {
    "collapsed": true
   },
   "outputs": [],
   "source": [
    "lm.coef_"
   ]
  },
  {
   "cell_type": "code",
   "execution_count": null,
   "metadata": {
    "collapsed": true
   },
   "outputs": [],
   "source": [
    "predicted = lm.predict(X=indep) # creates 'y_hat' ie list of prediction based on model"
   ]
  },
  {
   "cell_type": "code",
   "execution_count": null,
   "metadata": {
    "collapsed": true
   },
   "outputs": [],
   "source": [
    "true = dep "
   ]
  },
  {
   "cell_type": "code",
   "execution_count": null,
   "metadata": {
    "collapsed": true
   },
   "outputs": [],
   "source": [
    "metrics.r2_score(y_pred = predicted,\n",
    "                 y_true = true)"
   ]
  },
  {
   "cell_type": "code",
   "execution_count": null,
   "metadata": {
    "collapsed": true
   },
   "outputs": [],
   "source": [
    "y_test = df_2016['Sale (Dollars)']\n",
    "x_test = df_2016.drop(['Sale (Dollars)'], axis = 'columns')"
   ]
  },
  {
   "cell_type": "code",
   "execution_count": null,
   "metadata": {
    "collapsed": true
   },
   "outputs": [],
   "source": [
    "\n",
    "lm.score(x_test,y_test) #this result is R^2, the fraction of variance explained by the model"
   ]
  },
  {
   "cell_type": "code",
   "execution_count": null,
   "metadata": {
    "collapsed": true,
    "scrolled": true
   },
   "outputs": [],
   "source": [
    "predicted = lm.predict(x_test)\n",
    "df_predict = pd.DataFrame(predicted)\n"
   ]
  },
  {
   "cell_type": "code",
   "execution_count": null,
   "metadata": {
    "collapsed": true
   },
   "outputs": [],
   "source": [
    "predicted.sum()*4\n"
   ]
  },
  {
   "cell_type": "markdown",
   "metadata": {},
   "source": [
    "# Record your findings\n",
    "\n",
    "Be sure to write out anything observations from your exploratory analysis.\n"
   ]
  },
  {
   "cell_type": "code",
   "execution_count": null,
   "metadata": {
    "collapsed": true
   },
   "outputs": [],
   "source": []
  },
  {
   "cell_type": "markdown",
   "metadata": {},
   "source": [
    "# Mine the data\n",
    "\n",
    "Now you are ready to compute the variables you will use for your regression from the data. For example, you may want to compute total sales per store from Jan to March of 2015, mean price per bottle, etc. Refer to the readme for more ideas appropriate to your scenario.\n",
    "\n",
    "Pandas is your friend for this task. Take a look at the operations here for ideas on how to make the best use of pandas and feel free to search for blog and Stack Overflow posts to help you group data by certain variables and compute sums, means, etc. You may find it useful to create a new data frame to house this summary data.\n",
    " \n"
   ]
  },
  {
   "cell_type": "code",
   "execution_count": null,
   "metadata": {
    "collapsed": true
   },
   "outputs": [],
   "source": []
  },
  {
   "cell_type": "markdown",
   "metadata": {},
   "source": [
    "# Refine the data\n",
    "\n",
    "Look for any statistical relationships, correlations, or other relevant properties of the dataset."
   ]
  },
  {
   "cell_type": "code",
   "execution_count": null,
   "metadata": {
    "collapsed": true
   },
   "outputs": [],
   "source": []
  },
  {
   "cell_type": "markdown",
   "metadata": {},
   "source": [
    "# Build your models\n",
    "\n",
    "Using scikit-learn or statsmodels, build the necessary models for your scenario. Evaluate model fit."
   ]
  },
  {
   "cell_type": "code",
   "execution_count": null,
   "metadata": {
    "collapsed": true
   },
   "outputs": [],
   "source": []
  },
  {
   "cell_type": "markdown",
   "metadata": {},
   "source": [
    "# Plot your results\n",
    "\n",
    "Again make sure that you record any valuable information. For example, in the tax scenario, did you find the sales from the first three months of the year to be a good predictor of the total sales for the year? Plot the predictions versus the true values and discuss the successes and limitations of your models"
   ]
  },
  {
   "cell_type": "code",
   "execution_count": null,
   "metadata": {
    "collapsed": true
   },
   "outputs": [],
   "source": []
  },
  {
   "cell_type": "markdown",
   "metadata": {},
   "source": [
    "# Present the Results\n",
    "\n",
    "Present your conclusions and results. If you have more than one interesting model feel free to include more than one along with a discussion. Use your work in this notebook to prepare your write-up."
   ]
  },
  {
   "cell_type": "code",
   "execution_count": null,
   "metadata": {
    "collapsed": true
   },
   "outputs": [],
   "source": []
  }
 ],
 "metadata": {
  "anaconda-cloud": {},
  "kernelspec": {
   "display_name": "Python 3",
   "language": "python",
   "name": "python3"
  },
  "language_info": {
   "codemirror_mode": {
    "name": "ipython",
    "version": 3
   },
   "file_extension": ".py",
   "mimetype": "text/x-python",
   "name": "python",
   "nbconvert_exporter": "python",
   "pygments_lexer": "ipython3",
   "version": "3.6.3"
  }
 },
 "nbformat": 4,
 "nbformat_minor": 1
}
